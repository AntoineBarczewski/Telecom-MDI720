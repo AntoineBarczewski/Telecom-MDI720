{
 "cells": [
  {
   "cell_type": "markdown",
   "metadata": {},
   "source": [
    "# TP Statistique MDI720\n",
    "## Introduction à Pandas, Matplotlib, etc."
   ]
  },
  {
   "cell_type": "code",
   "execution_count": 1,
   "metadata": {
    "collapsed": true
   },
   "outputs": [],
   "source": [
    "# packages:\n",
    "\n",
    "from os import path\n",
    "import sys\n",
    "import urllib\n",
    "import zipfile\n",
    "\n",
    "import pandas as pd\n",
    "import numpy as np\n",
    "\n",
    "%matplotlib inline\n",
    "import matplotlib.pyplot as plt\n",
    "import matplotlib.dates as dates\n",
    "plt.style.use('seaborn')"
   ]
  },
  {
   "cell_type": "markdown",
   "metadata": {},
   "source": [
    "On utilise la base de données **Individual Household electric power consumption Data Set**.  \n",
    "> Documentation: *https://archive.ics.uci.edu/ml/datasets/Individual+household+electric+power+consumption*"
   ]
  },
  {
   "cell_type": "code",
   "execution_count": 2,
   "metadata": {
    "collapsed": true
   },
   "outputs": [],
   "source": [
    "url = 'https://archive.ics.uci.edu/ml/machine-learning-databases/00235/'\n",
    "filename = 'household_power_consumption'\n",
    "zipfilename = filename + '.zip'\n",
    "location = url + zipfilename\n",
    "\n",
    "# testing existence of file:\n",
    "if sys.version_info >= (3, 0):\n",
    "    if not(path.isfile('zipfilename')):\n",
    "        urllib.request.urlretrieve(location, zipfilename)\n",
    "    else:\n",
    "        if not(path.isfile('zipfilename')):\n",
    "            urllib.urlretrieve(location, zipfilename)\n",
    "\n",
    "# unzip part:\n",
    "zip = zipfile.ZipFile(zipfilename)\n",
    "zip.extractall()\n",
    "\n",
    "# convert into DataFrame object:\n",
    "na_values = ['?', '']\n",
    "fields = ['Date', 'Time', 'Global_active_power']\n",
    "df_pwCons = pd.read_csv(filename + '.txt', sep=';', nrows=200000,\n",
    "                        na_values=na_values, usecols=fields)"
   ]
  },
  {
   "cell_type": "markdown",
   "metadata": {},
   "source": [
    "#### 1) Détecter et dénombrer le nombre de lignes ayant des valeurs manquantes."
   ]
  },
  {
   "cell_type": "code",
   "execution_count": 3,
   "metadata": {},
   "outputs": [
    {
     "data": {
      "text/plain": [
       "Date                      0\n",
       "Time                      0\n",
       "Global_active_power    3732\n",
       "dtype: int64"
      ]
     },
     "execution_count": 3,
     "metadata": {},
     "output_type": "execute_result"
    }
   ],
   "source": [
    "df_pwCons.isnull().sum()"
   ]
  },
  {
   "cell_type": "markdown",
   "metadata": {},
   "source": [
    "> 3732 valeurs NaN sont dénombrées dans le relevé de consommation de la base de données *'household_power_consumption'*."
   ]
  },
  {
   "cell_type": "code",
   "execution_count": 4,
   "metadata": {},
   "outputs": [
    {
     "data": {
      "text/html": [
       "<div>\n",
       "<style>\n",
       "    .dataframe thead tr:only-child th {\n",
       "        text-align: right;\n",
       "    }\n",
       "\n",
       "    .dataframe thead th {\n",
       "        text-align: left;\n",
       "    }\n",
       "\n",
       "    .dataframe tbody tr th {\n",
       "        vertical-align: top;\n",
       "    }\n",
       "</style>\n",
       "<table border=\"1\" class=\"dataframe\">\n",
       "  <thead>\n",
       "    <tr style=\"text-align: right;\">\n",
       "      <th></th>\n",
       "      <th>Global_active_power</th>\n",
       "    </tr>\n",
       "  </thead>\n",
       "  <tbody>\n",
       "    <tr>\n",
       "      <th>count</th>\n",
       "      <td>196268.000000</td>\n",
       "    </tr>\n",
       "    <tr>\n",
       "      <th>mean</th>\n",
       "      <td>1.352544</td>\n",
       "    </tr>\n",
       "    <tr>\n",
       "      <th>std</th>\n",
       "      <td>1.280684</td>\n",
       "    </tr>\n",
       "    <tr>\n",
       "      <th>min</th>\n",
       "      <td>0.104000</td>\n",
       "    </tr>\n",
       "    <tr>\n",
       "      <th>25%</th>\n",
       "      <td>0.314000</td>\n",
       "    </tr>\n",
       "    <tr>\n",
       "      <th>50%</th>\n",
       "      <td>1.072000</td>\n",
       "    </tr>\n",
       "    <tr>\n",
       "      <th>75%</th>\n",
       "      <td>1.992500</td>\n",
       "    </tr>\n",
       "    <tr>\n",
       "      <th>max</th>\n",
       "      <td>10.670000</td>\n",
       "    </tr>\n",
       "  </tbody>\n",
       "</table>\n",
       "</div>"
      ],
      "text/plain": [
       "       Global_active_power\n",
       "count        196268.000000\n",
       "mean              1.352544\n",
       "std               1.280684\n",
       "min               0.104000\n",
       "25%               0.314000\n",
       "50%               1.072000\n",
       "75%               1.992500\n",
       "max              10.670000"
      ]
     },
     "execution_count": 4,
     "metadata": {},
     "output_type": "execute_result"
    }
   ],
   "source": [
    "# convert 'Date' and 'Time' features into np.Datetime64 objects:\n",
    "datetime = df_pwCons['Date'] + ' ' + df_pwCons['Time']\n",
    "strptime = '%d/%m/%Y %H:%M:%S'\n",
    "df_pwCons['Datetime'] = pd.to_datetime(arg=datetime, format=strptime,\n",
    "                                       errors='raise')\n",
    "# set the np.Datetime64 object as DataFrame index:\n",
    "df_pwCons.set_index(['Datetime'], inplace=True)\n",
    "# drop 'Date' and 'Time' columns:\n",
    "df_pwCons.drop(df_pwCons[['Date', 'Time']], 1, inplace=True)\n",
    "df_pwCons.describe()"
   ]
  },
  {
   "cell_type": "markdown",
   "metadata": {},
   "source": [
    "Les statistiques descriptives n'affichent pas de valeurs aberrantes dans le jeu de données.\n",
    "\n",
    "La valeur de relevé la plus élevée dans la consommation des ménages est de 640,2 kW/h (= 10,67 kW/min * 60).  \n",
    "Compte-tenu du peu d'informations mis à disposition sur l'origine de la donnée, aucune conclusion ne pourra être retenue sur la nature de cette valeur extrême."
   ]
  },
  {
   "cell_type": "code",
   "execution_count": 5,
   "metadata": {},
   "outputs": [
    {
     "data": {
      "text/html": [
       "<div>\n",
       "<style>\n",
       "    .dataframe thead tr:only-child th {\n",
       "        text-align: right;\n",
       "    }\n",
       "\n",
       "    .dataframe thead th {\n",
       "        text-align: left;\n",
       "    }\n",
       "\n",
       "    .dataframe tbody tr th {\n",
       "        vertical-align: top;\n",
       "    }\n",
       "</style>\n",
       "<table border=\"1\" class=\"dataframe\">\n",
       "  <thead>\n",
       "    <tr style=\"text-align: right;\">\n",
       "      <th></th>\n",
       "      <th>Global_active_power</th>\n",
       "    </tr>\n",
       "    <tr>\n",
       "      <th>Datetime</th>\n",
       "      <th></th>\n",
       "    </tr>\n",
       "  </thead>\n",
       "  <tbody>\n",
       "    <tr>\n",
       "      <th>2007-01-14 18:36:00</th>\n",
       "      <td>NaN</td>\n",
       "    </tr>\n",
       "    <tr>\n",
       "      <th>2007-01-28 17:13:00</th>\n",
       "      <td>NaN</td>\n",
       "    </tr>\n",
       "    <tr>\n",
       "      <th>2007-02-22 22:58:00</th>\n",
       "      <td>NaN</td>\n",
       "    </tr>\n",
       "    <tr>\n",
       "      <th>2007-02-22 22:59:00</th>\n",
       "      <td>NaN</td>\n",
       "    </tr>\n",
       "    <tr>\n",
       "      <th>2007-03-25 17:52:00</th>\n",
       "      <td>NaN</td>\n",
       "    </tr>\n",
       "    <tr>\n",
       "      <th>2007-04-28 00:21:00</th>\n",
       "      <td>NaN</td>\n",
       "    </tr>\n",
       "    <tr>\n",
       "      <th>2007-04-28 00:22:00</th>\n",
       "      <td>NaN</td>\n",
       "    </tr>\n",
       "    <tr>\n",
       "      <th>2007-04-28 00:23:00</th>\n",
       "      <td>NaN</td>\n",
       "    </tr>\n",
       "    <tr>\n",
       "      <th>2007-04-28 00:24:00</th>\n",
       "      <td>NaN</td>\n",
       "    </tr>\n",
       "    <tr>\n",
       "      <th>2007-04-28 00:25:00</th>\n",
       "      <td>NaN</td>\n",
       "    </tr>\n",
       "    <tr>\n",
       "      <th>2007-04-28 00:26:00</th>\n",
       "      <td>NaN</td>\n",
       "    </tr>\n",
       "    <tr>\n",
       "      <th>2007-04-28 00:27:00</th>\n",
       "      <td>NaN</td>\n",
       "    </tr>\n",
       "    <tr>\n",
       "      <th>2007-04-28 00:28:00</th>\n",
       "      <td>NaN</td>\n",
       "    </tr>\n",
       "    <tr>\n",
       "      <th>2007-04-28 00:29:00</th>\n",
       "      <td>NaN</td>\n",
       "    </tr>\n",
       "    <tr>\n",
       "      <th>2007-04-28 00:30:00</th>\n",
       "      <td>NaN</td>\n",
       "    </tr>\n",
       "    <tr>\n",
       "      <th>2007-04-28 00:31:00</th>\n",
       "      <td>NaN</td>\n",
       "    </tr>\n",
       "    <tr>\n",
       "      <th>2007-04-28 00:32:00</th>\n",
       "      <td>NaN</td>\n",
       "    </tr>\n",
       "    <tr>\n",
       "      <th>2007-04-28 00:33:00</th>\n",
       "      <td>NaN</td>\n",
       "    </tr>\n",
       "    <tr>\n",
       "      <th>2007-04-28 00:34:00</th>\n",
       "      <td>NaN</td>\n",
       "    </tr>\n",
       "    <tr>\n",
       "      <th>2007-04-28 00:35:00</th>\n",
       "      <td>NaN</td>\n",
       "    </tr>\n",
       "    <tr>\n",
       "      <th>2007-04-28 00:36:00</th>\n",
       "      <td>NaN</td>\n",
       "    </tr>\n",
       "    <tr>\n",
       "      <th>2007-04-28 00:37:00</th>\n",
       "      <td>NaN</td>\n",
       "    </tr>\n",
       "    <tr>\n",
       "      <th>2007-04-28 00:38:00</th>\n",
       "      <td>NaN</td>\n",
       "    </tr>\n",
       "    <tr>\n",
       "      <th>2007-04-28 00:39:00</th>\n",
       "      <td>NaN</td>\n",
       "    </tr>\n",
       "    <tr>\n",
       "      <th>2007-04-28 00:40:00</th>\n",
       "      <td>NaN</td>\n",
       "    </tr>\n",
       "    <tr>\n",
       "      <th>2007-04-28 00:41:00</th>\n",
       "      <td>NaN</td>\n",
       "    </tr>\n",
       "    <tr>\n",
       "      <th>2007-04-28 00:42:00</th>\n",
       "      <td>NaN</td>\n",
       "    </tr>\n",
       "    <tr>\n",
       "      <th>2007-04-28 00:43:00</th>\n",
       "      <td>NaN</td>\n",
       "    </tr>\n",
       "    <tr>\n",
       "      <th>2007-04-28 00:44:00</th>\n",
       "      <td>NaN</td>\n",
       "    </tr>\n",
       "    <tr>\n",
       "      <th>2007-04-28 00:45:00</th>\n",
       "      <td>NaN</td>\n",
       "    </tr>\n",
       "    <tr>\n",
       "      <th>...</th>\n",
       "      <td>...</td>\n",
       "    </tr>\n",
       "    <tr>\n",
       "      <th>2007-04-30 13:54:00</th>\n",
       "      <td>NaN</td>\n",
       "    </tr>\n",
       "    <tr>\n",
       "      <th>2007-04-30 13:55:00</th>\n",
       "      <td>NaN</td>\n",
       "    </tr>\n",
       "    <tr>\n",
       "      <th>2007-04-30 13:56:00</th>\n",
       "      <td>NaN</td>\n",
       "    </tr>\n",
       "    <tr>\n",
       "      <th>2007-04-30 13:57:00</th>\n",
       "      <td>NaN</td>\n",
       "    </tr>\n",
       "    <tr>\n",
       "      <th>2007-04-30 13:58:00</th>\n",
       "      <td>NaN</td>\n",
       "    </tr>\n",
       "    <tr>\n",
       "      <th>2007-04-30 13:59:00</th>\n",
       "      <td>NaN</td>\n",
       "    </tr>\n",
       "    <tr>\n",
       "      <th>2007-04-30 14:00:00</th>\n",
       "      <td>NaN</td>\n",
       "    </tr>\n",
       "    <tr>\n",
       "      <th>2007-04-30 14:01:00</th>\n",
       "      <td>NaN</td>\n",
       "    </tr>\n",
       "    <tr>\n",
       "      <th>2007-04-30 14:02:00</th>\n",
       "      <td>NaN</td>\n",
       "    </tr>\n",
       "    <tr>\n",
       "      <th>2007-04-30 14:03:00</th>\n",
       "      <td>NaN</td>\n",
       "    </tr>\n",
       "    <tr>\n",
       "      <th>2007-04-30 14:04:00</th>\n",
       "      <td>NaN</td>\n",
       "    </tr>\n",
       "    <tr>\n",
       "      <th>2007-04-30 14:05:00</th>\n",
       "      <td>NaN</td>\n",
       "    </tr>\n",
       "    <tr>\n",
       "      <th>2007-04-30 14:06:00</th>\n",
       "      <td>NaN</td>\n",
       "    </tr>\n",
       "    <tr>\n",
       "      <th>2007-04-30 14:07:00</th>\n",
       "      <td>NaN</td>\n",
       "    </tr>\n",
       "    <tr>\n",
       "      <th>2007-04-30 14:08:00</th>\n",
       "      <td>NaN</td>\n",
       "    </tr>\n",
       "    <tr>\n",
       "      <th>2007-04-30 14:09:00</th>\n",
       "      <td>NaN</td>\n",
       "    </tr>\n",
       "    <tr>\n",
       "      <th>2007-04-30 14:10:00</th>\n",
       "      <td>NaN</td>\n",
       "    </tr>\n",
       "    <tr>\n",
       "      <th>2007-04-30 14:11:00</th>\n",
       "      <td>NaN</td>\n",
       "    </tr>\n",
       "    <tr>\n",
       "      <th>2007-04-30 14:12:00</th>\n",
       "      <td>NaN</td>\n",
       "    </tr>\n",
       "    <tr>\n",
       "      <th>2007-04-30 14:13:00</th>\n",
       "      <td>NaN</td>\n",
       "    </tr>\n",
       "    <tr>\n",
       "      <th>2007-04-30 14:14:00</th>\n",
       "      <td>NaN</td>\n",
       "    </tr>\n",
       "    <tr>\n",
       "      <th>2007-04-30 14:15:00</th>\n",
       "      <td>NaN</td>\n",
       "    </tr>\n",
       "    <tr>\n",
       "      <th>2007-04-30 14:16:00</th>\n",
       "      <td>NaN</td>\n",
       "    </tr>\n",
       "    <tr>\n",
       "      <th>2007-04-30 14:17:00</th>\n",
       "      <td>NaN</td>\n",
       "    </tr>\n",
       "    <tr>\n",
       "      <th>2007-04-30 14:18:00</th>\n",
       "      <td>NaN</td>\n",
       "    </tr>\n",
       "    <tr>\n",
       "      <th>2007-04-30 14:19:00</th>\n",
       "      <td>NaN</td>\n",
       "    </tr>\n",
       "    <tr>\n",
       "      <th>2007-04-30 14:20:00</th>\n",
       "      <td>NaN</td>\n",
       "    </tr>\n",
       "    <tr>\n",
       "      <th>2007-04-30 14:21:00</th>\n",
       "      <td>NaN</td>\n",
       "    </tr>\n",
       "    <tr>\n",
       "      <th>2007-04-30 14:22:00</th>\n",
       "      <td>NaN</td>\n",
       "    </tr>\n",
       "    <tr>\n",
       "      <th>2007-04-30 14:23:00</th>\n",
       "      <td>NaN</td>\n",
       "    </tr>\n",
       "  </tbody>\n",
       "</table>\n",
       "<p>3728 rows × 1 columns</p>\n",
       "</div>"
      ],
      "text/plain": [
       "                     Global_active_power\n",
       "Datetime                                \n",
       "2007-01-14 18:36:00                  NaN\n",
       "2007-01-28 17:13:00                  NaN\n",
       "2007-02-22 22:58:00                  NaN\n",
       "2007-02-22 22:59:00                  NaN\n",
       "2007-03-25 17:52:00                  NaN\n",
       "2007-04-28 00:21:00                  NaN\n",
       "2007-04-28 00:22:00                  NaN\n",
       "2007-04-28 00:23:00                  NaN\n",
       "2007-04-28 00:24:00                  NaN\n",
       "2007-04-28 00:25:00                  NaN\n",
       "2007-04-28 00:26:00                  NaN\n",
       "2007-04-28 00:27:00                  NaN\n",
       "2007-04-28 00:28:00                  NaN\n",
       "2007-04-28 00:29:00                  NaN\n",
       "2007-04-28 00:30:00                  NaN\n",
       "2007-04-28 00:31:00                  NaN\n",
       "2007-04-28 00:32:00                  NaN\n",
       "2007-04-28 00:33:00                  NaN\n",
       "2007-04-28 00:34:00                  NaN\n",
       "2007-04-28 00:35:00                  NaN\n",
       "2007-04-28 00:36:00                  NaN\n",
       "2007-04-28 00:37:00                  NaN\n",
       "2007-04-28 00:38:00                  NaN\n",
       "2007-04-28 00:39:00                  NaN\n",
       "2007-04-28 00:40:00                  NaN\n",
       "2007-04-28 00:41:00                  NaN\n",
       "2007-04-28 00:42:00                  NaN\n",
       "2007-04-28 00:43:00                  NaN\n",
       "2007-04-28 00:44:00                  NaN\n",
       "2007-04-28 00:45:00                  NaN\n",
       "...                                  ...\n",
       "2007-04-30 13:54:00                  NaN\n",
       "2007-04-30 13:55:00                  NaN\n",
       "2007-04-30 13:56:00                  NaN\n",
       "2007-04-30 13:57:00                  NaN\n",
       "2007-04-30 13:58:00                  NaN\n",
       "2007-04-30 13:59:00                  NaN\n",
       "2007-04-30 14:00:00                  NaN\n",
       "2007-04-30 14:01:00                  NaN\n",
       "2007-04-30 14:02:00                  NaN\n",
       "2007-04-30 14:03:00                  NaN\n",
       "2007-04-30 14:04:00                  NaN\n",
       "2007-04-30 14:05:00                  NaN\n",
       "2007-04-30 14:06:00                  NaN\n",
       "2007-04-30 14:07:00                  NaN\n",
       "2007-04-30 14:08:00                  NaN\n",
       "2007-04-30 14:09:00                  NaN\n",
       "2007-04-30 14:10:00                  NaN\n",
       "2007-04-30 14:11:00                  NaN\n",
       "2007-04-30 14:12:00                  NaN\n",
       "2007-04-30 14:13:00                  NaN\n",
       "2007-04-30 14:14:00                  NaN\n",
       "2007-04-30 14:15:00                  NaN\n",
       "2007-04-30 14:16:00                  NaN\n",
       "2007-04-30 14:17:00                  NaN\n",
       "2007-04-30 14:18:00                  NaN\n",
       "2007-04-30 14:19:00                  NaN\n",
       "2007-04-30 14:20:00                  NaN\n",
       "2007-04-30 14:21:00                  NaN\n",
       "2007-04-30 14:22:00                  NaN\n",
       "2007-04-30 14:23:00                  NaN\n",
       "\n",
       "[3728 rows x 1 columns]"
      ]
     },
     "execution_count": 5,
     "metadata": {},
     "output_type": "execute_result"
    }
   ],
   "source": [
    "# filter on the observations with NaN values between January and March 2007:\n",
    "dt1 = '2007-01-01 00:00:00'\n",
    "dt2 = '2007-04-30 23:59:00'\n",
    "df_pwCons[df_pwCons['Global_active_power'].isnull()].loc[dt1:dt2]"
   ]
  },
  {
   "cell_type": "code",
   "execution_count": 6,
   "metadata": {},
   "outputs": [
    {
     "name": "stdout",
     "output_type": "stream",
     "text": [
      "Number of NaN values in April 2007: 3723\n"
     ]
    }
   ],
   "source": [
    "# filter on the observations with NaN values in April 2007:\n",
    "dt1 = '2007-04-28 00:00:00'\n",
    "dt2 = '2007-04-30 23:59:00'\n",
    "var = 'Global_active_power'\n",
    "NaN_apr07 = len(df_pwCons[df_pwCons[var].isnull()].loc[dt1:dt2])\n",
    "print('Number of NaN values in April 2007: %s' % str(NaN_apr07))"
   ]
  },
  {
   "cell_type": "markdown",
   "metadata": {},
   "source": [
    "> Sur la période entre le 1er janvier et le 30 avril 2007, dans le relevé à la fréquence minute:\n",
    "- 2 observations sont manquantes en janvier,\n",
    "- 2 observations sont manquantes en février,\n",
    "- 1 observations est manquante en mars,\n",
    "- 3723 observations sont manquantes en avril, entre le 28 et le 30.\n",
    "\n",
    "> Ces valeurs NaN ne perturberont pas l'analyse de l'évolution de la consommation entre janvier et avril, car mis à part les deux derniers jours d'avril, le jeu de données est relativement complet."
   ]
  },
  {
   "cell_type": "markdown",
   "metadata": {},
   "source": [
    "#### 2) Supprimer toutes les lignes ayant des valeurs manquantes."
   ]
  },
  {
   "cell_type": "code",
   "execution_count": 7,
   "metadata": {},
   "outputs": [
    {
     "name": "stdout",
     "output_type": "stream",
     "text": [
      "Number of observations left: 169072\n"
     ]
    }
   ],
   "source": [
    "dt1 = '2007-01-01 00:00:00'\n",
    "dt2 = '2007-04-30 23:59:00'\n",
    "df_pwCons = df_pwCons[pd.notnull(df_pwCons['Global_active_power'])]\n",
    "print('Number of observations left: %s' % str(df_pwCons.loc[dt1:dt2].shape[0]))"
   ]
  },
  {
   "cell_type": "markdown",
   "metadata": {},
   "source": [
    "#### 3) Utiliser **to_datetime** et **set_index** pour créer une *Time_Series*."
   ]
  },
  {
   "cell_type": "markdown",
   "metadata": {},
   "source": [
    "> --> voir code en *In [4]:*"
   ]
  },
  {
   "cell_type": "markdown",
   "metadata": {},
   "source": [
    "#### 4) Afficher le graphique des moyennes journalières entre le 1er janvier et le 30 avril 2007. Proposer une cause expliquant la consommation fin février et début avril. "
   ]
  },
  {
   "cell_type": "code",
   "execution_count": 8,
   "metadata": {},
   "outputs": [
    {
     "data": {
      "text/html": [
       "<div>\n",
       "<style>\n",
       "    .dataframe thead tr:only-child th {\n",
       "        text-align: right;\n",
       "    }\n",
       "\n",
       "    .dataframe thead th {\n",
       "        text-align: left;\n",
       "    }\n",
       "\n",
       "    .dataframe tbody tr th {\n",
       "        vertical-align: top;\n",
       "    }\n",
       "</style>\n",
       "<table border=\"1\" class=\"dataframe\">\n",
       "  <thead>\n",
       "    <tr style=\"text-align: right;\">\n",
       "      <th></th>\n",
       "      <th>Global_active_power</th>\n",
       "    </tr>\n",
       "    <tr>\n",
       "      <th>Datetime</th>\n",
       "      <th></th>\n",
       "    </tr>\n",
       "  </thead>\n",
       "  <tbody>\n",
       "    <tr>\n",
       "      <th>2007-01-01</th>\n",
       "      <td>1.909031</td>\n",
       "    </tr>\n",
       "    <tr>\n",
       "      <th>2007-01-02</th>\n",
       "      <td>0.881414</td>\n",
       "    </tr>\n",
       "    <tr>\n",
       "      <th>2007-01-03</th>\n",
       "      <td>0.704204</td>\n",
       "    </tr>\n",
       "    <tr>\n",
       "      <th>2007-01-04</th>\n",
       "      <td>2.263481</td>\n",
       "    </tr>\n",
       "    <tr>\n",
       "      <th>2007-01-05</th>\n",
       "      <td>1.884281</td>\n",
       "    </tr>\n",
       "  </tbody>\n",
       "</table>\n",
       "</div>"
      ],
      "text/plain": [
       "            Global_active_power\n",
       "Datetime                       \n",
       "2007-01-01             1.909031\n",
       "2007-01-02             0.881414\n",
       "2007-01-03             0.704204\n",
       "2007-01-04             2.263481\n",
       "2007-01-05             1.884281"
      ]
     },
     "execution_count": 8,
     "metadata": {},
     "output_type": "execute_result"
    }
   ],
   "source": [
    "# get daily average between the 1st of jan, 2007 and the 30 of apr, 2007:\n",
    "df_dailyAvg = df_pwCons.resample('D').mean().loc['2007-01-01':'2007-04-30']\n",
    "df_dailyAvg.head()"
   ]
  },
  {
   "cell_type": "markdown",
   "metadata": {},
   "source": [
    "> Les creux de consommations fin février et début avril peuvent s'être produits pour différentes raisons:\n",
    "- période de vacances scolaires (vacances d'hiver et de pâques) --> habitats laissés vacants.\n",
    "- remontée des températures mi-avril (passage de 5°C à 20°C entre le 1er et le 15 avril) --> réduction de l'usage du chauffage électrique.\n",
    "- qualité du jeu de données? --> le compteur du relevé électrique a pu connaitre une défaillance sur ces périodes.\n",
    "\n",
    "> Comme précisé dans l'énoncé, on ne connait pas le lieu de relevé dans la base de données *'Household Active Power'*. Par conséquent, il est délicat de se prononcer sur une corrélation entre la température et la consommation électrique des ménages en France.\n",
    "\n",
    "> --> voir graphique en *Out [11]:*"
   ]
  },
  {
   "cell_type": "markdown",
   "metadata": {},
   "source": [
    "#### On va maintenant ajouter des informations de température pour cette étude. Les données utilisées sont disponibles sur EOLE dans *\"TGSTAID011249.txt\"*. Ici les températures sont celles d'Orly."
   ]
  },
  {
   "cell_type": "markdown",
   "metadata": {},
   "source": [
    "#### 5) Charger les données avec **pandas**, et ne garder que les colonnes **DATE¨** et **TG**. Diviser par 10 la colonne TG pour obtenir des températures en degré Celsius. Traiter les éléments de températures aberrants comme des NaN."
   ]
  },
  {
   "cell_type": "markdown",
   "metadata": {},
   "source": [
    "> Jeu de données:  \n",
    "*'Daily dataset of 20th-century surface air temperature and precipitation series for ORLY, FRANCE'*"
   ]
  },
  {
   "cell_type": "code",
   "execution_count": 9,
   "metadata": {},
   "outputs": [
    {
     "data": {
      "text/html": [
       "<div>\n",
       "<style>\n",
       "    .dataframe thead tr:only-child th {\n",
       "        text-align: right;\n",
       "    }\n",
       "\n",
       "    .dataframe thead th {\n",
       "        text-align: left;\n",
       "    }\n",
       "\n",
       "    .dataframe tbody tr th {\n",
       "        vertical-align: top;\n",
       "    }\n",
       "</style>\n",
       "<table border=\"1\" class=\"dataframe\">\n",
       "  <thead>\n",
       "    <tr style=\"text-align: right;\">\n",
       "      <th></th>\n",
       "      <th>Temperature</th>\n",
       "    </tr>\n",
       "  </thead>\n",
       "  <tbody>\n",
       "    <tr>\n",
       "      <th>count</th>\n",
       "      <td>120.000000</td>\n",
       "    </tr>\n",
       "    <tr>\n",
       "      <th>mean</th>\n",
       "      <td>9.656667</td>\n",
       "    </tr>\n",
       "    <tr>\n",
       "      <th>std</th>\n",
       "      <td>4.420782</td>\n",
       "    </tr>\n",
       "    <tr>\n",
       "      <th>min</th>\n",
       "      <td>-1.400000</td>\n",
       "    </tr>\n",
       "    <tr>\n",
       "      <th>25%</th>\n",
       "      <td>7.575000</td>\n",
       "    </tr>\n",
       "    <tr>\n",
       "      <th>50%</th>\n",
       "      <td>9.300000</td>\n",
       "    </tr>\n",
       "    <tr>\n",
       "      <th>75%</th>\n",
       "      <td>11.325000</td>\n",
       "    </tr>\n",
       "    <tr>\n",
       "      <th>max</th>\n",
       "      <td>20.400000</td>\n",
       "    </tr>\n",
       "  </tbody>\n",
       "</table>\n",
       "</div>"
      ],
      "text/plain": [
       "       Temperature\n",
       "count   120.000000\n",
       "mean      9.656667\n",
       "std       4.420782\n",
       "min      -1.400000\n",
       "25%       7.575000\n",
       "50%       9.300000\n",
       "75%      11.325000\n",
       "max      20.400000"
      ]
     },
     "execution_count": 9,
     "metadata": {},
     "output_type": "execute_result"
    }
   ],
   "source": [
    "# import file 'TGSTAID011249.txt':\n",
    "filename = 'TGSTAID011249'\n",
    "na_values = ['-9999']\n",
    "df_temperatures = pd.read_table(filename + '.txt', sep=',',\n",
    "                                skiprows=20, na_values=na_values)\n",
    "# strip column headers:\n",
    "df_temperatures.columns = df_temperatures.columns.str.strip()\n",
    "# keep 'DATE' and 'TG' features:\n",
    "df_temperatures = df_temperatures[['DATE', 'TG']]\n",
    "# rename column headers:\n",
    "df_temperatures.columns = ['Datetime', 'Temperature']\n",
    "# convert 'DATE' feature to np.datetime64 object:\n",
    "df_temperatures['Datetime'] = pd.to_datetime(df_temperatures['Datetime'],\n",
    "                                             format='%Y%m%d',\n",
    "                                             errors='raise')\n",
    "# convert'TG' feature to °C unit (0.1°C by default):\n",
    "df_temperatures['Temperature'] /= 10\n",
    "# set the np.Datetime64 object as DataFrame index:\n",
    "df_temperatures = df_temperatures.set_index('Datetime')\n",
    "# filter between the 1st of jan, 2007 and the 30 of apr, 2007:\n",
    "df_temperatures = df_temperatures.loc['2007-01-01':'2007-04-30']\n",
    "df_temperatures.describe()"
   ]
  },
  {
   "cell_type": "markdown",
   "metadata": {},
   "source": [
    "> Pas de valeur extrême aberrante dans le jeu de données."
   ]
  },
  {
   "cell_type": "code",
   "execution_count": 10,
   "metadata": {},
   "outputs": [
    {
     "data": {
      "text/plain": [
       "Temperature    0\n",
       "dtype: int64"
      ]
     },
     "execution_count": 10,
     "metadata": {},
     "output_type": "execute_result"
    }
   ],
   "source": [
    "df_temperatures.isnull().sum()"
   ]
  },
  {
   "cell_type": "markdown",
   "metadata": {},
   "source": [
    "> Pas de valeur manquante dans le jeu de données."
   ]
  },
  {
   "cell_type": "code",
   "execution_count": 11,
   "metadata": {},
   "outputs": [
    {
     "data": {
      "text/html": [
       "<div>\n",
       "<style>\n",
       "    .dataframe thead tr:only-child th {\n",
       "        text-align: right;\n",
       "    }\n",
       "\n",
       "    .dataframe thead th {\n",
       "        text-align: left;\n",
       "    }\n",
       "\n",
       "    .dataframe tbody tr th {\n",
       "        vertical-align: top;\n",
       "    }\n",
       "</style>\n",
       "<table border=\"1\" class=\"dataframe\">\n",
       "  <thead>\n",
       "    <tr style=\"text-align: right;\">\n",
       "      <th></th>\n",
       "      <th>Global_active_power</th>\n",
       "      <th>Temperature</th>\n",
       "    </tr>\n",
       "    <tr>\n",
       "      <th>Datetime</th>\n",
       "      <th></th>\n",
       "      <th></th>\n",
       "    </tr>\n",
       "  </thead>\n",
       "  <tbody>\n",
       "    <tr>\n",
       "      <th>2007-01-01</th>\n",
       "      <td>1.909031</td>\n",
       "      <td>9.6</td>\n",
       "    </tr>\n",
       "    <tr>\n",
       "      <th>2007-01-02</th>\n",
       "      <td>0.881414</td>\n",
       "      <td>6.0</td>\n",
       "    </tr>\n",
       "    <tr>\n",
       "      <th>2007-01-03</th>\n",
       "      <td>0.704204</td>\n",
       "      <td>6.1</td>\n",
       "    </tr>\n",
       "    <tr>\n",
       "      <th>2007-01-04</th>\n",
       "      <td>2.263481</td>\n",
       "      <td>9.2</td>\n",
       "    </tr>\n",
       "    <tr>\n",
       "      <th>2007-01-05</th>\n",
       "      <td>1.884281</td>\n",
       "      <td>10.0</td>\n",
       "    </tr>\n",
       "  </tbody>\n",
       "</table>\n",
       "</div>"
      ],
      "text/plain": [
       "            Global_active_power  Temperature\n",
       "Datetime                                    \n",
       "2007-01-01             1.909031          9.6\n",
       "2007-01-02             0.881414          6.0\n",
       "2007-01-03             0.704204          6.1\n",
       "2007-01-04             2.263481          9.2\n",
       "2007-01-05             1.884281         10.0"
      ]
     },
     "execution_count": 11,
     "metadata": {},
     "output_type": "execute_result"
    }
   ],
   "source": [
    "# merge the two DataFrames 'Daily Power Consumption' and 'Daily Temperature':\n",
    "df_merge = pd.concat([df_dailyAvg, df_temperatures], axis=1, join='inner')\n",
    "df_merge.head()"
   ]
  },
  {
   "cell_type": "markdown",
   "metadata": {},
   "source": [
    "#### 6) Créer une Time Series pandas des températures journalières entre le 1er janvier et le 30 avril 2007. Afficher sur un même graphique ces températures et la Time Series **Global_active_power**."
   ]
  },
  {
   "cell_type": "code",
   "execution_count": 12,
   "metadata": {},
   "outputs": [
    {
     "data": {
      "text/plain": [
       "<matplotlib.legend.Legend at 0x7f59fe0d0cf8>"
      ]
     },
     "execution_count": 12,
     "metadata": {},
     "output_type": "execute_result"
    },
    {
     "data": {
      "image/png": "[encoded data removed]",
      "text/plain": [
       "<matplotlib.figure.Figure at 0x7f59fe310f60>"
      ]
     },
     "metadata": {},
     "output_type": "display_data"
    }
   ],
   "source": [
    "# Create matplotlib figure:\n",
    "\n",
    "fig, ax = plt.subplots(figsize=(15, 8))\n",
    "\n",
    "# Plot time serie:\n",
    "ax.plot(df_merge.index, df_merge.Global_active_power,\n",
    "        label='Global active power', color='blue', linewidth=1)\n",
    "ax.set_ylabel('Household global active power (kW) ')\n",
    "ax.set_ylim(-0.35, None)\n",
    "ax.xaxis.set_major_locator(dates.MonthLocator())\n",
    "ax.xaxis.set_major_formatter(dates.DateFormatter('%b %y'))\n",
    "\n",
    "# Create another axes that shares the same x-axis as ax.\n",
    "ax2 = ax.twinx()\n",
    "ax2.set_ylabel('Temperature (°C)')\n",
    "ax2.set_ylim(-3, 25)\n",
    "# Append barplot:\n",
    "ax2.bar(df_merge.index, df_merge.Temperature, width=1,\n",
    "        alpha=0.1, color='blue', label='Temperature')\n",
    "ax2.grid(color='blue', linestyle=':', linewidth=0.5, alpha=0.2)\n",
    "\n",
    "# Place a legend to the upper left of the plot.\n",
    "ax.legend(bbox_to_anchor=(0., 0.94), loc='upper left')\n",
    "ax2.legend(bbox_to_anchor=(0., 0.90), loc='upper left')"
   ]
  },
  {
   "cell_type": "markdown",
   "metadata": {},
   "source": [
    "#### On considère maintenant le jeu de données '20080421_20160927-PA13_auto.csv' sur EOLE."
   ]
  },
  {
   "cell_type": "code",
   "execution_count": 13,
   "metadata": {},
   "outputs": [
    {
     "data": {
      "text/html": [
       "<div>\n",
       "<style>\n",
       "    .dataframe thead tr:only-child th {\n",
       "        text-align: right;\n",
       "    }\n",
       "\n",
       "    .dataframe thead th {\n",
       "        text-align: left;\n",
       "    }\n",
       "\n",
       "    .dataframe tbody tr th {\n",
       "        vertical-align: top;\n",
       "    }\n",
       "</style>\n",
       "<table border=\"1\" class=\"dataframe\">\n",
       "  <thead>\n",
       "    <tr style=\"text-align: right;\">\n",
       "      <th></th>\n",
       "      <th>NO2</th>\n",
       "      <th>O3</th>\n",
       "    </tr>\n",
       "  </thead>\n",
       "  <tbody>\n",
       "    <tr>\n",
       "      <th>count</th>\n",
       "      <td>71008.000000</td>\n",
       "      <td>71452.000000</td>\n",
       "    </tr>\n",
       "    <tr>\n",
       "      <th>mean</th>\n",
       "      <td>34.453414</td>\n",
       "      <td>39.610046</td>\n",
       "    </tr>\n",
       "    <tr>\n",
       "      <th>std</th>\n",
       "      <td>20.380702</td>\n",
       "      <td>28.837333</td>\n",
       "    </tr>\n",
       "    <tr>\n",
       "      <th>min</th>\n",
       "      <td>1.000000</td>\n",
       "      <td>0.000000</td>\n",
       "    </tr>\n",
       "    <tr>\n",
       "      <th>25%</th>\n",
       "      <td>19.000000</td>\n",
       "      <td>16.000000</td>\n",
       "    </tr>\n",
       "    <tr>\n",
       "      <th>50%</th>\n",
       "      <td>30.000000</td>\n",
       "      <td>38.000000</td>\n",
       "    </tr>\n",
       "    <tr>\n",
       "      <th>75%</th>\n",
       "      <td>46.000000</td>\n",
       "      <td>58.000000</td>\n",
       "    </tr>\n",
       "    <tr>\n",
       "      <th>max</th>\n",
       "      <td>167.000000</td>\n",
       "      <td>211.000000</td>\n",
       "    </tr>\n",
       "  </tbody>\n",
       "</table>\n",
       "</div>"
      ],
      "text/plain": [
       "                NO2            O3\n",
       "count  71008.000000  71452.000000\n",
       "mean      34.453414     39.610046\n",
       "std       20.380702     28.837333\n",
       "min        1.000000      0.000000\n",
       "25%       19.000000     16.000000\n",
       "50%       30.000000     38.000000\n",
       "75%       46.000000     58.000000\n",
       "max      167.000000    211.000000"
      ]
     },
     "execution_count": 13,
     "metadata": {},
     "output_type": "execute_result"
    }
   ],
   "source": [
    "# import 'AirParif - Air quality meter' dataset:\n",
    "\n",
    "filename = '20080421_20160927-PA13_auto'\n",
    "na_values = ['n/d', '']\n",
    "fields = ['date', 'heure', 'NO2', 'O3']\n",
    "df_airParif = pd.read_csv(filename + '.csv', sep=';', nrows=200000,\n",
    "                          na_values=na_values, usecols=fields)\n",
    "# drop first row after header (#comments):\n",
    "df_airParif = df_airParif.drop(df_airParif.index[0])\n",
    "# translate the 24th hour into the hour 0 (i.e. midnight):\n",
    "df_airParif['heure'] = df_airParif['heure'].apply(lambda h: str(int(h % 24)))\n",
    "# convert 'DATE' feature to np.datetime64 object:\n",
    "datetime = df_airParif['date'] + ' ' + df_airParif['heure']\n",
    "strptime = '%d/%m/%Y %H'\n",
    "df_airParif['date'] = pd.to_datetime(arg=datetime,\n",
    "                                     errors='raise', format=strptime)\n",
    "# set the np.Datetime64 object as DataFrame index:\n",
    "df_airParif.set_index(['date'], inplace=True)\n",
    "# convert 'NO2' and 'O3' features to numeric:\n",
    "df_airParif.NO2 = pd.to_numeric(df_airParif.NO2, errors='coerce')\n",
    "df_airParif.O3 = pd.to_numeric(df_airParif.O3, errors='coerce')\n",
    "df_airParif = df_airParif.drop('heure', 1).sort_index()\n",
    "df_airParif.describe()"
   ]
  },
  {
   "cell_type": "markdown",
   "metadata": {},
   "source": [
    "> Pas de valeur extrême aberrante dans le jeu de données."
   ]
  },
  {
   "cell_type": "code",
   "execution_count": 14,
   "metadata": {},
   "outputs": [
    {
     "data": {
      "text/html": [
       "<div>\n",
       "<style>\n",
       "    .dataframe thead tr:only-child th {\n",
       "        text-align: right;\n",
       "    }\n",
       "\n",
       "    .dataframe thead th {\n",
       "        text-align: left;\n",
       "    }\n",
       "\n",
       "    .dataframe tbody tr th {\n",
       "        vertical-align: top;\n",
       "    }\n",
       "</style>\n",
       "<table border=\"1\" class=\"dataframe\">\n",
       "  <thead>\n",
       "    <tr style=\"text-align: right;\">\n",
       "      <th></th>\n",
       "      <th>Number of NaN</th>\n",
       "    </tr>\n",
       "    <tr>\n",
       "      <th>Date</th>\n",
       "      <th></th>\n",
       "    </tr>\n",
       "  </thead>\n",
       "  <tbody>\n",
       "    <tr>\n",
       "      <th>2008</th>\n",
       "      <td>6120</td>\n",
       "    </tr>\n",
       "    <tr>\n",
       "      <th>2009</th>\n",
       "      <td>8760</td>\n",
       "    </tr>\n",
       "    <tr>\n",
       "      <th>2010</th>\n",
       "      <td>8760</td>\n",
       "    </tr>\n",
       "    <tr>\n",
       "      <th>2011</th>\n",
       "      <td>8712</td>\n",
       "    </tr>\n",
       "    <tr>\n",
       "      <th>2012</th>\n",
       "      <td>8784</td>\n",
       "    </tr>\n",
       "    <tr>\n",
       "      <th>2013</th>\n",
       "      <td>8760</td>\n",
       "    </tr>\n",
       "    <tr>\n",
       "      <th>2014</th>\n",
       "      <td>8760</td>\n",
       "    </tr>\n",
       "    <tr>\n",
       "      <th>2015</th>\n",
       "      <td>8760</td>\n",
       "    </tr>\n",
       "    <tr>\n",
       "      <th>2016</th>\n",
       "      <td>6504</td>\n",
       "    </tr>\n",
       "  </tbody>\n",
       "</table>\n",
       "</div>"
      ],
      "text/plain": [
       "      Number of NaN\n",
       "Date               \n",
       "2008           6120\n",
       "2009           8760\n",
       "2010           8760\n",
       "2011           8712\n",
       "2012           8784\n",
       "2013           8760\n",
       "2014           8760\n",
       "2015           8760\n",
       "2016           6504"
      ]
     },
     "execution_count": 14,
     "metadata": {},
     "output_type": "execute_result"
    }
   ],
   "source": [
    "# store in dictionary number of NaN values per year:\n",
    "list_years = list(set(df_airParif.index.year))\n",
    "list_NaN = [len(df_airParif[df_airParif.isnull()].loc[str(year)+'-01-01 00:00:00':str(year)+'-12-31 23:59:00'])\n",
    "            for year in list_years]\n",
    "df_NaNperYear = pd.DataFrame( {'Date': list_years, 'Number of NaN': list_NaN} )\n",
    "df_NaNperYear.set_index(['Date'], inplace=True)\n",
    "df_NaNperYear.sort_index()"
   ]
  },
  {
   "cell_type": "markdown",
   "metadata": {},
   "source": [
    "> Nombre quasi équivalent de valeurs NaN pour chaque année dans le jeu de données."
   ]
  },
  {
   "cell_type": "code",
   "execution_count": 15,
   "metadata": {},
   "outputs": [
    {
     "data": {
      "text/html": [
       "<div>\n",
       "<style>\n",
       "    .dataframe thead tr:only-child th {\n",
       "        text-align: right;\n",
       "    }\n",
       "\n",
       "    .dataframe thead th {\n",
       "        text-align: left;\n",
       "    }\n",
       "\n",
       "    .dataframe tbody tr th {\n",
       "        vertical-align: top;\n",
       "    }\n",
       "</style>\n",
       "<table border=\"1\" class=\"dataframe\">\n",
       "  <thead>\n",
       "    <tr style=\"text-align: right;\">\n",
       "      <th></th>\n",
       "      <th>NO2</th>\n",
       "      <th>O3</th>\n",
       "      <th>NO2_max</th>\n",
       "      <th>O3_max</th>\n",
       "    </tr>\n",
       "    <tr>\n",
       "      <th>date</th>\n",
       "      <th></th>\n",
       "      <th></th>\n",
       "      <th></th>\n",
       "      <th></th>\n",
       "    </tr>\n",
       "  </thead>\n",
       "  <tbody>\n",
       "    <tr>\n",
       "      <th>2008</th>\n",
       "      <td>34.624102</td>\n",
       "      <td>39.830797</td>\n",
       "      <td>133.0</td>\n",
       "      <td>170.0</td>\n",
       "    </tr>\n",
       "    <tr>\n",
       "      <th>2009</th>\n",
       "      <td>38.401470</td>\n",
       "      <td>40.287643</td>\n",
       "      <td>167.0</td>\n",
       "      <td>186.0</td>\n",
       "    </tr>\n",
       "    <tr>\n",
       "      <th>2010</th>\n",
       "      <td>37.629090</td>\n",
       "      <td>38.020582</td>\n",
       "      <td>157.0</td>\n",
       "      <td>182.0</td>\n",
       "    </tr>\n",
       "    <tr>\n",
       "      <th>2011</th>\n",
       "      <td>35.040826</td>\n",
       "      <td>37.887899</td>\n",
       "      <td>160.0</td>\n",
       "      <td>173.0</td>\n",
       "    </tr>\n",
       "    <tr>\n",
       "      <th>2012</th>\n",
       "      <td>34.111086</td>\n",
       "      <td>37.115905</td>\n",
       "      <td>150.0</td>\n",
       "      <td>203.0</td>\n",
       "    </tr>\n",
       "  </tbody>\n",
       "</table>\n",
       "</div>"
      ],
      "text/plain": [
       "            NO2         O3  NO2_max  O3_max\n",
       "date                                       \n",
       "2008  34.624102  39.830797    133.0   170.0\n",
       "2009  38.401470  40.287643    167.0   186.0\n",
       "2010  37.629090  38.020582    157.0   182.0\n",
       "2011  35.040826  37.887899    160.0   173.0\n",
       "2012  34.111086  37.115905    150.0   203.0"
      ]
     },
     "execution_count": 15,
     "metadata": {},
     "output_type": "execute_result"
    }
   ],
   "source": [
    "# append maximum values per year:\n",
    "\n",
    "years = df_airParif.index.year\n",
    "df_yearly = df_airParif.groupby(years).mean()\n",
    "df_yearly['NO2_max'] = df_airParif['NO2'].groupby(years).max()\n",
    "df_yearly['O3_max'] = df_airParif['O3'].groupby(years).max()\n",
    "df_yearly.head()"
   ]
  },
  {
   "cell_type": "markdown",
   "metadata": {},
   "source": [
    "#### 7) Proposer une visualisation de la pollution moyenne par année."
   ]
  },
  {
   "cell_type": "code",
   "execution_count": 16,
   "metadata": {},
   "outputs": [
    {
     "data": {
      "text/plain": [
       "<matplotlib.text.Text at 0x7f59d80c16a0>"
      ]
     },
     "execution_count": 16,
     "metadata": {},
     "output_type": "execute_result"
    },
    {
     "data": {
      "image/png": "[encoded data removed]",
      "text/plain": [
       "<matplotlib.figure.Figure at 0x7f59fddba390>"
      ]
     },
     "metadata": {},
     "output_type": "display_data"
    }
   ],
   "source": [
    "# Create matplotlib figure:\n",
    "\n",
    "fig, ax = plt.subplots(figsize=(15, 8))\n",
    "\n",
    "# Set positions and width for the bars:\n",
    "pos = df_yearly.index\n",
    "width = 0.3\n",
    "# Plot barplot:\n",
    "plt.bar([p - width/2 for p in pos], df_yearly['NO2'], width,\n",
    "        alpha=0.6, color='#3333FF', label='NO2')\n",
    "ax.grid(color='blue', linestyle=':', linewidth=0.5, alpha=0.2)\n",
    "# Set the y-axis limits:\n",
    "ax.set_ylim(0, 50)\n",
    "ax.set_ylabel('NO2 (µg/m3)')\n",
    "# Set the position of the x ticks\n",
    "ax.set_xticks(pos)\n",
    "# Create another axes that shares the same x-axis as ax.\n",
    "ax2 = ax.twinx()\n",
    "# Append another barplot:\n",
    "plt.bar([p + width/2 for p in pos], df_yearly['O3'], width,\n",
    "        alpha=0.6, color='#FFC222', label='O3')\n",
    "ax2.grid(color='green', linestyle='--', linewidth=0.5, alpha=0.2)\n",
    "# Set the y-axis limits\n",
    "ax2.set_ylim(0, 50)\n",
    "ax2.set_ylabel('O3 (µg/m3)')\n",
    "# Place a legend to the upper left of the plot.\n",
    "ax.legend(bbox_to_anchor=(0., 0.98), loc='upper left')\n",
    "ax2.legend(bbox_to_anchor=(0., 0.95), loc='upper left')\n",
    "\n",
    "# Set the chart's title\n",
    "ax.set_title('Average aerial pollution per year in Paris (France)')"
   ]
  },
  {
   "cell_type": "markdown",
   "metadata": {},
   "source": [
    "> Le graphique ci-dessus permet de relever que le niveau moyen d'ozone adopte une tendance croissante sur les trois dernières années de la périodes étudiées, alors que le niveau moyen de dioxyde d'azote adopte la tendance opposée.  \n",
    "> Ces deux tendances sont probablement le marqueur d'un phénomène climatique qui prend de l'ampleur année après année: le réchauffement climatique: dérèglement des saisons en France, canicule, hausse des températures."
   ]
  },
  {
   "cell_type": "markdown",
   "metadata": {},
   "source": [
    "#### 8) Proposer une visualisation de la pollution la plus critique par année."
   ]
  },
  {
   "cell_type": "code",
   "execution_count": 17,
   "metadata": {
    "scrolled": false
   },
   "outputs": [
    {
     "data": {
      "text/plain": [
       "<matplotlib.text.Text at 0x7f59fdd516a0>"
      ]
     },
     "execution_count": 17,
     "metadata": {},
     "output_type": "execute_result"
    },
    {
     "data": {
      "image/png": "[encoded data removed]",
      "text/plain": [
       "<matplotlib.figure.Figure at 0x7f59fc15d860>"
      ]
     },
     "metadata": {},
     "output_type": "display_data"
    }
   ],
   "source": [
    "### Create matplotlib figure:\n",
    "\n",
    "# Set the positions and width for the bars\n",
    "pos = df_yearly.index\n",
    "width = 0.3\n",
    "\n",
    "# Plot bars\n",
    "fig, ax = plt.subplots(figsize=(15, 8))\n",
    "plt.bar([p - width/2 for p in pos], df_yearly['NO2'], width,\n",
    "        alpha=0.6, color='#3333FF', label='NO2')\n",
    "ax.grid(color='blue', linestyle=':', linewidth=0.5, alpha=0.2)\n",
    "# Set the y-axis limits\n",
    "ax.set_ylim(0, 230)\n",
    "ax.set_ylabel('NO2 (µg/m3)')\n",
    "# Set the position of the x ticks\n",
    "ax.set_xticks(pos)\n",
    "# Create another axes that shares the same x-axis as ax.\n",
    "ax2 = ax.twinx()\n",
    "plt.bar([p + width/2 for p in pos], df_yearly['O3'], width,\n",
    "        alpha=0.6, color='#FFC222', label='O3')\n",
    "ax2.grid(color='green', linestyle='--', linewidth=0.5, alpha=0.2)\n",
    "# Set the y-axis limits\n",
    "ax2.set_ylim(0, 230)\n",
    "ax2.set_ylabel('O3 (µg/m3)')\n",
    "# Place a legend to the upper left of the plot.\n",
    "ax.legend(bbox_to_anchor=(0., 0.98), loc='upper left')\n",
    "ax2.legend(bbox_to_anchor=(0., 0.95), loc='upper left')\n",
    "# Append scatter plots:\n",
    "plt.scatter(x=df_yearly.index, y=df_yearly['NO2_max'],\n",
    "            marker=\"^\", color='#3333FF')\n",
    "plt.scatter(x=df_yearly.index, y=df_yearly['O3_max'],\n",
    "            marker=\"^\", color='#FFC222')\n",
    "\n",
    "# Set the chart's title\n",
    "ax.set_title('Average aerial pollution per year in Paris (France)')"
   ]
  },
  {
   "cell_type": "markdown",
   "metadata": {},
   "source": [
    "> Les valeurs de pollution les plus critiques par année sont symbolisés dans le graphique ci-dessus par des petites pyramides.\n",
    "\n",
    "> Ces valeurs semblent rester relativement constantes sur la période étudiée.\n",
    "Les variations peuvent être causées notamment par les écarts de climats par saison d'une année sur l'autre:\n",
    "- été plus nuageux en 2014? / année caniculaire en 2016?\n",
    "- hiver plus glacial en 2009?\n",
    "\n",
    "> L'observation des normes de seuils d'alerte appliquées par AirParif (lien: *https://www.airparif.asso.fr/reglementation/normes-francaises*) nous fait remarquer par ailleurs qu'aucun pic de pollution ne s'est produit entre 2008 et 2012 (d'après les données dont nous disposons...)"
   ]
  },
  {
   "cell_type": "markdown",
   "metadata": {},
   "source": [
    "#### 9) Proposer une représentation par mois de la pollution à l'ozone et au dioxyde d'azote. Quel est le mois le plus pollué?"
   ]
  },
  {
   "cell_type": "code",
   "execution_count": 18,
   "metadata": {},
   "outputs": [
    {
     "data": {
      "text/html": [
       "<div>\n",
       "<style>\n",
       "    .dataframe thead tr:only-child th {\n",
       "        text-align: right;\n",
       "    }\n",
       "\n",
       "    .dataframe thead th {\n",
       "        text-align: left;\n",
       "    }\n",
       "\n",
       "    .dataframe tbody tr th {\n",
       "        vertical-align: top;\n",
       "    }\n",
       "</style>\n",
       "<table border=\"1\" class=\"dataframe\">\n",
       "  <thead>\n",
       "    <tr style=\"text-align: right;\">\n",
       "      <th></th>\n",
       "      <th>NO2</th>\n",
       "      <th>O3</th>\n",
       "    </tr>\n",
       "    <tr>\n",
       "      <th>date</th>\n",
       "      <th></th>\n",
       "      <th></th>\n",
       "    </tr>\n",
       "  </thead>\n",
       "  <tbody>\n",
       "    <tr>\n",
       "      <th>1</th>\n",
       "      <td>43.777439</td>\n",
       "      <td>21.875533</td>\n",
       "    </tr>\n",
       "    <tr>\n",
       "      <th>2</th>\n",
       "      <td>43.538490</td>\n",
       "      <td>28.089638</td>\n",
       "    </tr>\n",
       "    <tr>\n",
       "      <th>3</th>\n",
       "      <td>42.340925</td>\n",
       "      <td>38.871727</td>\n",
       "    </tr>\n",
       "    <tr>\n",
       "      <th>4</th>\n",
       "      <td>36.209306</td>\n",
       "      <td>53.038339</td>\n",
       "    </tr>\n",
       "    <tr>\n",
       "      <th>5</th>\n",
       "      <td>27.393752</td>\n",
       "      <td>58.483822</td>\n",
       "    </tr>\n",
       "    <tr>\n",
       "      <th>6</th>\n",
       "      <td>24.546105</td>\n",
       "      <td>56.992935</td>\n",
       "    </tr>\n",
       "    <tr>\n",
       "      <th>7</th>\n",
       "      <td>23.394468</td>\n",
       "      <td>57.958296</td>\n",
       "    </tr>\n",
       "    <tr>\n",
       "      <th>8</th>\n",
       "      <td>22.949405</td>\n",
       "      <td>52.413929</td>\n",
       "    </tr>\n",
       "    <tr>\n",
       "      <th>9</th>\n",
       "      <td>33.574074</td>\n",
       "      <td>37.995116</td>\n",
       "    </tr>\n",
       "    <tr>\n",
       "      <th>10</th>\n",
       "      <td>40.148840</td>\n",
       "      <td>21.780995</td>\n",
       "    </tr>\n",
       "    <tr>\n",
       "      <th>11</th>\n",
       "      <td>39.199893</td>\n",
       "      <td>19.159218</td>\n",
       "    </tr>\n",
       "    <tr>\n",
       "      <th>12</th>\n",
       "      <td>41.974016</td>\n",
       "      <td>20.329772</td>\n",
       "    </tr>\n",
       "  </tbody>\n",
       "</table>\n",
       "</div>"
      ],
      "text/plain": [
       "            NO2         O3\n",
       "date                      \n",
       "1     43.777439  21.875533\n",
       "2     43.538490  28.089638\n",
       "3     42.340925  38.871727\n",
       "4     36.209306  53.038339\n",
       "5     27.393752  58.483822\n",
       "6     24.546105  56.992935\n",
       "7     23.394468  57.958296\n",
       "8     22.949405  52.413929\n",
       "9     33.574074  37.995116\n",
       "10    40.148840  21.780995\n",
       "11    39.199893  19.159218\n",
       "12    41.974016  20.329772"
      ]
     },
     "execution_count": 18,
     "metadata": {},
     "output_type": "execute_result"
    }
   ],
   "source": [
    "df_monthly = df_airParif.groupby(df_airParif.index.month).mean()\n",
    "df_monthly"
   ]
  },
  {
   "cell_type": "code",
   "execution_count": 19,
   "metadata": {},
   "outputs": [
    {
     "data": {
      "text/plain": [
       "<matplotlib.text.Text at 0x7f59fdb83128>"
      ]
     },
     "execution_count": 19,
     "metadata": {},
     "output_type": "execute_result"
    },
    {
     "data": {
      "image/png": "[encoded data removed]",
      "text/plain": [
       "<matplotlib.figure.Figure at 0x7f59fdd20898>"
      ]
     },
     "metadata": {},
     "output_type": "display_data"
    }
   ],
   "source": [
    "### Create matplotlib figure:\n",
    "\n",
    "fig, ax = plt.subplots(figsize=(15, 8))\n",
    "\n",
    "# Set the positions and width for the bars\n",
    "pos = df_monthly.index\n",
    "width = 0.3\n",
    "\n",
    "# Plot the bars\n",
    "plt.bar([p - width/2 for p in pos], df_monthly['NO2'], width,\n",
    "        alpha=0.6, color='#3333FF', label='NO2')\n",
    "# Set the parameters of the grid\n",
    "ax.grid(color='blue', linestyle=':', linewidth=0.5, alpha=0.2)\n",
    "# Set the position of the x ticks\n",
    "ax.set_xticks(pos)\n",
    "# Set the labels for the x ticks\n",
    "ax.set_xticklabels(['jan', 'feb', 'mar', 'apr', 'may', 'jun',\n",
    "                    'jul', 'aug', 'sep', 'oct', 'nov', 'dec'])\n",
    "# Set the y-axis limits\n",
    "ax.set_ylim(0, 62)\n",
    "# Set the label for the y axis\n",
    "ax.set_ylabel('NO2 (µg/m3)')\n",
    "# Create another axes that shares the same x-axis as ax.\n",
    "ax2 = ax.twinx()\n",
    "plt.bar([p + width/2 for p in pos], df_monthly['O3'], width,\n",
    "        alpha=0.6, color='#FFC222', label='O3')\n",
    "# Set the parameters of the grid\n",
    "ax2.grid(color='green', linestyle='--', linewidth=0.5, alpha=0.2)\n",
    "# Set the y-axis limits\n",
    "ax2.set_ylim(0, 62)\n",
    "ax2.set_ylabel('O3 (µg/m3)')\n",
    "# Place a legend to the upper left of the plot.\n",
    "ax.legend(bbox_to_anchor=(0., 0.98), loc='upper left')\n",
    "ax2.legend(bbox_to_anchor=(0., 0.95), loc='upper left')\n",
    "\n",
    "# Set the chart's title\n",
    "t = 'Average aerial pollution per month in Paris (France) from 2008 to 2012.'\n",
    "ax.set_title(t)"
   ]
  },
  {
   "cell_type": "markdown",
   "metadata": {},
   "source": [
    "> On constate par le graphique ci-dessus que:\n",
    "- la période estivale est marquée par une concentration de l'atmosphère en ozone plus élevée que pour le restant de l'année. Les mois de mai et juillet sont les plus particulièrement concernés. Cette hausse peut être expliquée par le fait que les conditions climatiques de cette saison (absence de vent et un intense soleil) sont un facteur propice à la formation de la molécule ozone dans l'atmosphère.\n",
    "- la période hivernale est marquée par une concentration de l'atmoshpère en dioxyde d'azote plus élevée que pour le restant de l'année. Les mois de janvier et février sont les plus particulièrement concernés. Cette hausse peut être expliquée par le fait que l'augmentation du chauffage dans les ménages à cette saison accentue la diffusion de dioxyde d'azote dans l'air ambiant."
   ]
  }
 ],
 "metadata": {
  "kernelspec": {
   "display_name": "Python 3",
   "language": "python",
   "name": "python3"
  },
  "language_info": {
   "codemirror_mode": {
    "name": "ipython",
    "version": 3
   },
   "file_extension": ".py",
   "mimetype": "text/x-python",
   "name": "python",
   "nbconvert_exporter": "python",
   "pygments_lexer": "ipython3",
   "version": "3.6.1"
  }
 },
 "nbformat": 4,
 "nbformat_minor": 2
}
