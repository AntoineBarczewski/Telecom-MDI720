{
 "cells": [
  {
   "cell_type": "markdown",
   "metadata": {},
   "source": [
    "# MDI 720\n",
    "# TP1 - Partie II\n",
    "\n",
    "## 2 Introduction à Pandas, Matplotlib, etc.\n",
    "Deuxième partie du TP1 contenant deux parties\n",
    "\n",
    "Le notebook suit le déroulé des questions tel qu'il est décrit dans l'énoncé disponible sous ce [lien](http://josephsalmon.eu/enseignement/TELECOM/MDI720/TP_intro_python_fr.pdf).\n",
    "\n",
    "Toutefois, en amont des questions, une séries de commandes doivent être exécuter, à savoir:\n",
    "* Importer les librairies Python\n",
    "* Initialiser les représentations graphiques\n",
    "* Importer les données\n",
    "* Décrire rapidement les données\n",
    "Une fois ces étapes accomplies, nous déroulerons les questions\n",
    "\n",
    "\n",
    "### Importer les librairies Pyhton:"
   ]
  },
  {
   "cell_type": "code",
   "execution_count": 1,
   "metadata": {
    "collapsed": true
   },
   "outputs": [],
   "source": [
    "from os import path\n",
    "import pandas as pd\n",
    "import urllib\n",
    "import zipfile\n",
    "import sys\n",
    "import matplotlib.pyplot as plt\n",
    "from matplotlib import rc\n",
    "import seaborn as sns\n",
    "%matplotlib inline"
   ]
  },
  {
   "cell_type": "markdown",
   "metadata": {},
   "source": [
    "\n",
    "### Initialiser les représentations graphiques:"
   ]
  },
  {
   "cell_type": "code",
   "execution_count": 2,
   "metadata": {
    "collapsed": true
   },
   "outputs": [],
   "source": [
    "imageformat = '.pdf'\n",
    "rc('font', **{'family': 'sans-serif', 'sans-serif': ['Computer Modern Roman']})\n",
    "params = {'axes.labelsize': 12,\n",
    "          'font.size': 12,\n",
    "          'legend.fontsize': 12,\n",
    "          'xtick.labelsize': 10,\n",
    "          'ytick.labelsize': 10,\n",
    "          'text.usetex': True,\n",
    "          'figure.figsize': (8, 6)}\n",
    "plt.rcParams.update(params)\n",
    "\n",
    "sns.set_context(\"poster\")\n",
    "sns.set_palette(\"colorblind\")\n",
    "sns.axes_style()\n",
    "sns.set_style({'legend.frameon': True})\n",
    "color_blind_list = sns.color_palette(\"colorblind\", 8)\n",
    "my_orange = color_blind_list[2]\n",
    "my_green = color_blind_list[1]\n",
    "my_blue = color_blind_list[0]\n",
    "\n",
    "plt.close(\"all\")"
   ]
  },
  {
   "cell_type": "markdown",
   "metadata": {},
   "source": [
    "\n",
    "### Importer les données:"
   ]
  },
  {
   "cell_type": "code",
   "execution_count": 3,
   "metadata": {
    "collapsed": true
   },
   "outputs": [],
   "source": [
    "url = 'https://archive.ics.uci.edu/ml/machine-learning-databases/00235/'\n",
    "filename = 'household_power_consumption'\n",
    "zipfilename = filename + '.zip'\n",
    "Location = url + zipfilename\n",
    "\n",
    "# testing existence of file:\n",
    "if sys.version_info >= (3, 0):\n",
    "    if not(path.isfile('zipfilename')):\n",
    "        urllib.request.urlretrieve(Location, zipfilename)\n",
    "    else:\n",
    "        if not(path.isfile('zipfilename')):\n",
    "            urllib.urlretrieve(Location, zipfilename)\n",
    "            \n",
    "# unzip part\n",
    "zip = zipfile.ZipFile(zipfilename)\n",
    "zip.extractall()\n",
    "na_values = ['?', '']\n",
    "fields = ['Date', 'Time', 'Global_active_power']\n",
    "df = pd.read_csv(filename + '.txt', sep=';', nrows=200000,\n",
    "na_values=na_values, usecols=fields)"
   ]
  },
  {
   "cell_type": "markdown",
   "metadata": {},
   "source": [
    "\n",
    "### Décrire rapidement les données:\n",
    "\n",
    "Les cinq premières lignes:"
   ]
  },
  {
   "cell_type": "code",
   "execution_count": 4,
   "metadata": {},
   "outputs": [
    {
     "name": "stdout",
     "output_type": "stream",
     "text": [
      "         Date      Time  Global_active_power\n",
      "0  16/12/2006  17:24:00                4.216\n",
      "1  16/12/2006  17:25:00                5.360\n",
      "2  16/12/2006  17:26:00                5.374\n",
      "3  16/12/2006  17:27:00                5.388\n",
      "4  16/12/2006  17:28:00                3.666\n"
     ]
    }
   ],
   "source": [
    "print(df.head())"
   ]
  },
  {
   "cell_type": "markdown",
   "metadata": {},
   "source": [
    "Résultats de la fonstion describe():"
   ]
  },
  {
   "cell_type": "code",
   "execution_count": 5,
   "metadata": {},
   "outputs": [
    {
     "name": "stdout",
     "output_type": "stream",
     "text": [
      "       Global_active_power\n",
      "count        196268.000000\n",
      "mean              1.352544\n",
      "std               1.280684\n",
      "min               0.104000\n",
      "25%               0.314000\n",
      "50%               1.072000\n",
      "75%               1.992500\n",
      "max              10.670000\n"
     ]
    }
   ],
   "source": [
    "print(df.describe())"
   ]
  },
  {
   "cell_type": "markdown",
   "metadata": {},
   "source": [
    "Représentation graphique de la métrique:"
   ]
  },
  {
   "cell_type": "code",
   "execution_count": 6,
   "metadata": {},
   "outputs": [
    {
     "data": {
      "image/png": "[encoded data removed]",
      "text/plain": [
       "<matplotlib.figure.Figure at 0x7f7dc8c347b8>"
      ]
     },
     "metadata": {},
     "output_type": "display_data"
    }
   ],
   "source": [
    "x = df.index\n",
    "y = df['Global_active_power']\n",
    "\n",
    "fig, ax = plt.subplots()\n",
    "\n",
    "ax.plot(x, y, zorder=10)\n",
    "plt.show()"
   ]
  },
  {
   "cell_type": "markdown",
   "metadata": {},
   "source": [
    "\n",
    "### 1) Détecter et dénombrer le nombre de lignes ayant des valeurs manquantes\n",
    "Nous pouvons détecter les valeurs manquantes grâce à la fonction pd.isnull()"
   ]
  },
  {
   "cell_type": "code",
   "execution_count": 7,
   "metadata": {},
   "outputs": [
    {
     "name": "stdout",
     "output_type": "stream",
     "text": [
      "(3732, 3)\n"
     ]
    }
   ],
   "source": [
    "df_null = df[df.isnull().any(1)] # any(1) pour récupérer toutes les lignes où au moins une colones est nulle\n",
    "print(df_null.shape)"
   ]
  },
  {
   "cell_type": "markdown",
   "metadata": {},
   "source": [
    "Il y a donc 3 732 valeurs manquantes sur un total de 196 268.\n",
    "\n",
    "\n",
    "### 2) Supprimer toutes les lignes avec valeurs manquantes\n",
    "Nous pouvons retirer du dataFrame initial les valeurs que nous avons détectées dans la précédente question"
   ]
  },
  {
   "cell_type": "code",
   "execution_count": 8,
   "metadata": {},
   "outputs": [
    {
     "name": "stdout",
     "output_type": "stream",
     "text": [
      "(196268, 3)\n"
     ]
    }
   ],
   "source": [
    "df_clean = df[~df.index.isin(df_null.index)] # '~' means 'not' for the method '.isin()'\n",
    "print(df_clean.shape)"
   ]
  },
  {
   "cell_type": "markdown",
   "metadata": {},
   "source": [
    "\n",
    "### 3) Créer une time series\n",
    "Créons d'abord un nouvel index à partir des colonnes 'Date' et 'Time', en utilisant la fonction pd.to_datetime:"
   ]
  },
  {
   "cell_type": "code",
   "execution_count": 9,
   "metadata": {},
   "outputs": [
    {
     "data": {
      "text/plain": [
       "0        2006-12-16 17:24:00\n",
       "1        2006-12-16 17:25:00\n",
       "2        2006-12-16 17:26:00\n",
       "3        2006-12-16 17:27:00\n",
       "4        2006-12-16 17:28:00\n",
       "5        2006-12-16 17:29:00\n",
       "6        2006-12-16 17:30:00\n",
       "7        2006-12-16 17:31:00\n",
       "8        2006-12-16 17:32:00\n",
       "9        2006-12-16 17:33:00\n",
       "10       2006-12-16 17:34:00\n",
       "11       2006-12-16 17:35:00\n",
       "12       2006-12-16 17:36:00\n",
       "13       2006-12-16 17:37:00\n",
       "14       2006-12-16 17:38:00\n",
       "15       2006-12-16 17:39:00\n",
       "16       2006-12-16 17:40:00\n",
       "17       2006-12-16 17:41:00\n",
       "18       2006-12-16 17:42:00\n",
       "19       2006-12-16 17:43:00\n",
       "20       2006-12-16 17:44:00\n",
       "21       2006-12-16 17:45:00\n",
       "22       2006-12-16 17:46:00\n",
       "23       2006-12-16 17:47:00\n",
       "24       2006-12-16 17:48:00\n",
       "25       2006-12-16 17:49:00\n",
       "26       2006-12-16 17:50:00\n",
       "27       2006-12-16 17:51:00\n",
       "28       2006-12-16 17:52:00\n",
       "29       2006-12-16 17:53:00\n",
       "                 ...        \n",
       "199970   2007-05-04 14:14:00\n",
       "199971   2007-05-04 14:15:00\n",
       "199972   2007-05-04 14:16:00\n",
       "199973   2007-05-04 14:17:00\n",
       "199974   2007-05-04 14:18:00\n",
       "199975   2007-05-04 14:19:00\n",
       "199976   2007-05-04 14:20:00\n",
       "199977   2007-05-04 14:21:00\n",
       "199978   2007-05-04 14:22:00\n",
       "199979   2007-05-04 14:23:00\n",
       "199980   2007-05-04 14:24:00\n",
       "199981   2007-05-04 14:25:00\n",
       "199982   2007-05-04 14:26:00\n",
       "199983   2007-05-04 14:27:00\n",
       "199984   2007-05-04 14:28:00\n",
       "199985   2007-05-04 14:29:00\n",
       "199986   2007-05-04 14:30:00\n",
       "199987   2007-05-04 14:31:00\n",
       "199988   2007-05-04 14:32:00\n",
       "199989   2007-05-04 14:33:00\n",
       "199990   2007-05-04 14:34:00\n",
       "199991   2007-05-04 14:35:00\n",
       "199992   2007-05-04 14:36:00\n",
       "199993   2007-05-04 14:37:00\n",
       "199994   2007-05-04 14:38:00\n",
       "199995   2007-05-04 14:39:00\n",
       "199996   2007-05-04 14:40:00\n",
       "199997   2007-05-04 14:41:00\n",
       "199998   2007-05-04 14:42:00\n",
       "199999   2007-05-04 14:43:00\n",
       "Length: 196268, dtype: datetime64[ns]"
      ]
     },
     "execution_count": 9,
     "metadata": {},
     "output_type": "execute_result"
    }
   ],
   "source": [
    "index_time = df_clean[['Date','Time']].apply(lambda x: pd.to_datetime(x[0]+ ' ' + x[1],dayfirst=True),axis=1)"
   ]
  },
  {
   "cell_type": "markdown",
   "metadata": {},
   "source": [
    "Ainsi nous pouvons remplacer le précédent index par le nouveau:"
   ]
  },
  {
   "cell_type": "code",
   "execution_count": 14,
   "metadata": {},
   "outputs": [
    {
     "data": {
      "text/html": [
       "<div>\n",
       "<style>\n",
       "    .dataframe thead tr:only-child th {\n",
       "        text-align: right;\n",
       "    }\n",
       "\n",
       "    .dataframe thead th {\n",
       "        text-align: left;\n",
       "    }\n",
       "\n",
       "    .dataframe tbody tr th {\n",
       "        vertical-align: top;\n",
       "    }\n",
       "</style>\n",
       "<table border=\"1\" class=\"dataframe\">\n",
       "  <thead>\n",
       "    <tr style=\"text-align: right;\">\n",
       "      <th></th>\n",
       "      <th>Global_active_power</th>\n",
       "    </tr>\n",
       "  </thead>\n",
       "  <tbody>\n",
       "    <tr>\n",
       "      <th>2006-12-16 17:24:00</th>\n",
       "      <td>4.216</td>\n",
       "    </tr>\n",
       "    <tr>\n",
       "      <th>2006-12-16 17:25:00</th>\n",
       "      <td>5.360</td>\n",
       "    </tr>\n",
       "    <tr>\n",
       "      <th>2006-12-16 17:26:00</th>\n",
       "      <td>5.374</td>\n",
       "    </tr>\n",
       "    <tr>\n",
       "      <th>2006-12-16 17:27:00</th>\n",
       "      <td>5.388</td>\n",
       "    </tr>\n",
       "    <tr>\n",
       "      <th>2006-12-16 17:28:00</th>\n",
       "      <td>3.666</td>\n",
       "    </tr>\n",
       "  </tbody>\n",
       "</table>\n",
       "</div>"
      ],
      "text/plain": [
       "                     Global_active_power\n",
       "2006-12-16 17:24:00                4.216\n",
       "2006-12-16 17:25:00                5.360\n",
       "2006-12-16 17:26:00                5.374\n",
       "2006-12-16 17:27:00                5.388\n",
       "2006-12-16 17:28:00                3.666"
      ]
     },
     "execution_count": 14,
     "metadata": {},
     "output_type": "execute_result"
    }
   ],
   "source": [
    "df_timeIndex = df_clean[['Global_active_power']].set_index(index_time) # seule la métrique compte désormais\n",
    "df_timeIndex.head()"
   ]
  },
  {
   "cell_type": "markdown",
   "metadata": {},
   "source": [
    "\n",
    "### 4) Afficher le graphique des moyennes des températures journalières entre le 1er janvier et le 30 avril 2007\n",
    "Filtrons dans un premier temps sur les dates comprises entre le 1er janvier et le 30 avril 2007:"
   ]
  },
  {
   "cell_type": "code",
   "execution_count": 15,
   "metadata": {},
   "outputs": [
    {
     "data": {
      "text/html": [
       "<div>\n",
       "<style>\n",
       "    .dataframe thead tr:only-child th {\n",
       "        text-align: right;\n",
       "    }\n",
       "\n",
       "    .dataframe thead th {\n",
       "        text-align: left;\n",
       "    }\n",
       "\n",
       "    .dataframe tbody tr th {\n",
       "        vertical-align: top;\n",
       "    }\n",
       "</style>\n",
       "<table border=\"1\" class=\"dataframe\">\n",
       "  <thead>\n",
       "    <tr style=\"text-align: right;\">\n",
       "      <th></th>\n",
       "      <th>Global_active_power</th>\n",
       "    </tr>\n",
       "  </thead>\n",
       "  <tbody>\n",
       "    <tr>\n",
       "      <th>2007-01-01 00:00:00</th>\n",
       "      <td>2.580</td>\n",
       "    </tr>\n",
       "    <tr>\n",
       "      <th>2007-01-01 00:01:00</th>\n",
       "      <td>2.552</td>\n",
       "    </tr>\n",
       "    <tr>\n",
       "      <th>2007-01-01 00:02:00</th>\n",
       "      <td>2.550</td>\n",
       "    </tr>\n",
       "    <tr>\n",
       "      <th>2007-01-01 00:03:00</th>\n",
       "      <td>2.550</td>\n",
       "    </tr>\n",
       "    <tr>\n",
       "      <th>2007-01-01 00:04:00</th>\n",
       "      <td>2.554</td>\n",
       "    </tr>\n",
       "  </tbody>\n",
       "</table>\n",
       "</div>"
      ],
      "text/plain": [
       "                     Global_active_power\n",
       "2007-01-01 00:00:00                2.580\n",
       "2007-01-01 00:01:00                2.552\n",
       "2007-01-01 00:02:00                2.550\n",
       "2007-01-01 00:03:00                2.550\n",
       "2007-01-01 00:04:00                2.554"
      ]
     },
     "execution_count": 15,
     "metadata": {},
     "output_type": "execute_result"
    }
   ],
   "source": [
    "df_dateFiltered = df_timeIndex['01/01/2007':'04/30/2007']\n",
    "df_dateFiltered.head()"
   ]
  },
  {
   "cell_type": "markdown",
   "metadata": {},
   "source": [
    "Calculons maintenant la moyenne journalière des temparétures sur ces dates:"
   ]
  },
  {
   "cell_type": "code",
   "execution_count": 16,
   "metadata": {},
   "outputs": [
    {
     "data": {
      "text/html": [
       "<div>\n",
       "<style>\n",
       "    .dataframe thead tr:only-child th {\n",
       "        text-align: right;\n",
       "    }\n",
       "\n",
       "    .dataframe thead th {\n",
       "        text-align: left;\n",
       "    }\n",
       "\n",
       "    .dataframe tbody tr th {\n",
       "        vertical-align: top;\n",
       "    }\n",
       "</style>\n",
       "<table border=\"1\" class=\"dataframe\">\n",
       "  <thead>\n",
       "    <tr style=\"text-align: right;\">\n",
       "      <th></th>\n",
       "      <th>Global_active_power</th>\n",
       "    </tr>\n",
       "  </thead>\n",
       "  <tbody>\n",
       "    <tr>\n",
       "      <th>2007-01-01</th>\n",
       "      <td>1.909031</td>\n",
       "    </tr>\n",
       "    <tr>\n",
       "      <th>2007-01-02</th>\n",
       "      <td>0.881414</td>\n",
       "    </tr>\n",
       "    <tr>\n",
       "      <th>2007-01-03</th>\n",
       "      <td>0.704204</td>\n",
       "    </tr>\n",
       "    <tr>\n",
       "      <th>2007-01-04</th>\n",
       "      <td>2.263481</td>\n",
       "    </tr>\n",
       "    <tr>\n",
       "      <th>2007-01-05</th>\n",
       "      <td>1.884281</td>\n",
       "    </tr>\n",
       "  </tbody>\n",
       "</table>\n",
       "</div>"
      ],
      "text/plain": [
       "            Global_active_power\n",
       "2007-01-01             1.909031\n",
       "2007-01-02             0.881414\n",
       "2007-01-03             0.704204\n",
       "2007-01-04             2.263481\n",
       "2007-01-05             1.884281"
      ]
     },
     "execution_count": 16,
     "metadata": {},
     "output_type": "execute_result"
    }
   ],
   "source": [
    "df_dateFiltered_dailyMean = df_dateFiltered.resample('D').mean()\n",
    "df_dateFiltered_dailyMean.head()"
   ]
  },
  {
   "cell_type": "markdown",
   "metadata": {},
   "source": [
    "Enfin, produisons le graphique correspondant:"
   ]
  },
  {
   "cell_type": "code",
   "execution_count": 17,
   "metadata": {},
   "outputs": [
    {
     "data": {
      "image/png": "[encoded data removed]",
      "text/plain": [
       "<matplotlib.figure.Figure at 0x7f7dc7d290b8>"
      ]
     },
     "metadata": {},
     "output_type": "display_data"
    }
   ],
   "source": [
    "x = df_dateFiltered_dailyMean.index\n",
    "y = df_dateFiltered_dailyMean['Global_active_power']\n",
    "\n",
    "fig, ax = plt.subplots()\n",
    "\n",
    "ax.plot(x, y, zorder=10)\n",
    "plt.show()"
   ]
  }
 ],
 "metadata": {
  "kernelspec": {
   "display_name": "Python 3",
   "language": "python",
   "name": "python3"
  },
  "language_info": {
   "codemirror_mode": {
    "name": "ipython",
    "version": 3
   },
   "file_extension": ".py",
   "mimetype": "text/x-python",
   "name": "python",
   "nbconvert_exporter": "python",
   "pygments_lexer": "ipython3",
   "version": "3.6.1"
  }
 },
 "nbformat": 4,
 "nbformat_minor": 2
}
