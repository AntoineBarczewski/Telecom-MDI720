{
 "cells": [
  {
   "cell_type": "markdown",
   "metadata": {},
   "source": [
    "# TP2"
   ]
  },
  {
   "cell_type": "markdown",
   "metadata": {},
   "source": [
    "Le tp se décompose en trois parties:\n",
    "* Chargement des librairies\n",
    "* Exercice 1\n",
    "* Exercice 2"
   ]
  },
  {
   "cell_type": "markdown",
   "metadata": {},
   "source": [
    "### Chargement des librairies"
   ]
  },
  {
   "cell_type": "code",
   "execution_count": 1,
   "metadata": {
    "collapsed": true
   },
   "outputs": [],
   "source": [
    "import pandas as pd\n",
    "import numpy as np\n",
    "from scipy import stats\n",
    "import matplotlib.pyplot as plt\n",
    "import seaborn as sns\n",
    "from sklearn import linear_model\n",
    "from sklearn import preprocessing\n",
    "from sklearn import feature_selection\n",
    "\n",
    "sns.set_palette(\"colorblind\")\n",
    "color_blind_list = sns.color_palette(\"colorblind\", 8)"
   ]
  },
  {
   "cell_type": "markdown",
   "metadata": {},
   "source": [
    "## Exercice I"
   ]
  },
  {
   "cell_type": "markdown",
   "metadata": {},
   "source": [
    "### 1)  Chargement des données:"
   ]
  },
  {
   "cell_type": "code",
   "execution_count": 2,
   "metadata": {},
   "outputs": [
    {
     "data": {
      "text/html": [
       "<div>\n",
       "<style>\n",
       "    .dataframe thead tr:only-child th {\n",
       "        text-align: right;\n",
       "    }\n",
       "\n",
       "    .dataframe thead th {\n",
       "        text-align: left;\n",
       "    }\n",
       "\n",
       "    .dataframe tbody tr th {\n",
       "        vertical-align: top;\n",
       "    }\n",
       "</style>\n",
       "<table border=\"1\" class=\"dataframe\">\n",
       "  <thead>\n",
       "    <tr style=\"text-align: right;\">\n",
       "      <th></th>\n",
       "      <th>Father</th>\n",
       "      <th>Mother</th>\n",
       "      <th>Height</th>\n",
       "      <th>Kids</th>\n",
       "    </tr>\n",
       "  </thead>\n",
       "  <tbody>\n",
       "    <tr>\n",
       "      <th>count</th>\n",
       "      <td>898.000000</td>\n",
       "      <td>898.000000</td>\n",
       "      <td>898.000000</td>\n",
       "      <td>898.000000</td>\n",
       "    </tr>\n",
       "    <tr>\n",
       "      <th>mean</th>\n",
       "      <td>69.211581</td>\n",
       "      <td>64.070156</td>\n",
       "      <td>66.747216</td>\n",
       "      <td>6.135857</td>\n",
       "    </tr>\n",
       "    <tr>\n",
       "      <th>std</th>\n",
       "      <td>2.479301</td>\n",
       "      <td>2.303257</td>\n",
       "      <td>3.589844</td>\n",
       "      <td>2.685156</td>\n",
       "    </tr>\n",
       "    <tr>\n",
       "      <th>min</th>\n",
       "      <td>62.000000</td>\n",
       "      <td>58.000000</td>\n",
       "      <td>56.000000</td>\n",
       "      <td>1.000000</td>\n",
       "    </tr>\n",
       "    <tr>\n",
       "      <th>25%</th>\n",
       "      <td>68.000000</td>\n",
       "      <td>63.000000</td>\n",
       "      <td>64.000000</td>\n",
       "      <td>4.000000</td>\n",
       "    </tr>\n",
       "    <tr>\n",
       "      <th>50%</th>\n",
       "      <td>69.000000</td>\n",
       "      <td>64.000000</td>\n",
       "      <td>66.000000</td>\n",
       "      <td>6.000000</td>\n",
       "    </tr>\n",
       "    <tr>\n",
       "      <th>75%</th>\n",
       "      <td>71.000000</td>\n",
       "      <td>66.000000</td>\n",
       "      <td>70.000000</td>\n",
       "      <td>8.000000</td>\n",
       "    </tr>\n",
       "    <tr>\n",
       "      <th>max</th>\n",
       "      <td>78.000000</td>\n",
       "      <td>70.000000</td>\n",
       "      <td>79.000000</td>\n",
       "      <td>15.000000</td>\n",
       "    </tr>\n",
       "  </tbody>\n",
       "</table>\n",
       "</div>"
      ],
      "text/plain": [
       "           Father      Mother      Height        Kids\n",
       "count  898.000000  898.000000  898.000000  898.000000\n",
       "mean    69.211581   64.070156   66.747216    6.135857\n",
       "std      2.479301    2.303257    3.589844    2.685156\n",
       "min     62.000000   58.000000   56.000000    1.000000\n",
       "25%     68.000000   63.000000   64.000000    4.000000\n",
       "50%     69.000000   64.000000   66.000000    6.000000\n",
       "75%     71.000000   66.000000   70.000000    8.000000\n",
       "max     78.000000   70.000000   79.000000   15.000000"
      ]
     },
     "execution_count": 2,
     "metadata": {},
     "output_type": "execute_result"
    }
   ],
   "source": [
    "url = 'http://josephsalmon.eu/enseignement/TELECOM/MDI720/datasets/Galton.txt'\n",
    "df = pd.read_csv(url, sep='\\t')\n",
    "\n",
    "# Arrondi des hauteur à l'unité\n",
    "df = df.round(0)\n",
    "\n",
    "# Description rapide du dataset\n",
    "df.describe()"
   ]
  },
  {
   "cell_type": "markdown",
   "metadata": {},
   "source": [
    "### 2) Retirer les données manquantes:"
   ]
  },
  {
   "cell_type": "code",
   "execution_count": 3,
   "metadata": {},
   "outputs": [
    {
     "name": "stdout",
     "output_type": "stream",
     "text": [
      "Il y a une valeur manquante dans de le dataset: False\n"
     ]
    }
   ],
   "source": [
    "# Vérifier s'il y a au moins une valeur manquante\n",
    "print('Il y a une valeur manquante dans de le dataset:', df.isnull().any().any())"
   ]
  },
  {
   "cell_type": "markdown",
   "metadata": {},
   "source": [
    "### 3) Visualiser densité de population des pères et des mères"
   ]
  },
  {
   "cell_type": "markdown",
   "metadata": {},
   "source": [
    "Le dataset contient autant de lignes que d'enfants. Ainsi, pour calculer la densité de population des pères et des mères, il faut dans un premier temps grouper le dataset par famille, avant de calculer un estimateur des différentes densités."
   ]
  },
  {
   "cell_type": "code",
   "execution_count": 4,
   "metadata": {
    "collapsed": true
   },
   "outputs": [],
   "source": [
    "# Regrouper par famille\n",
    "df_fam = df[['Family', 'Father', 'Mother', 'Kids']].groupby('Family').max()"
   ]
  },
  {
   "cell_type": "markdown",
   "metadata": {},
   "source": [
    "Grâce à la fonction gaussian_kde de la librairie Scipy (note: cela permet de détailler les calculs de la fonction seaborn sns.kdeplot()), nous pouvons calculer un estimateur de la densité de la taille des pères et de la taille des mères:"
   ]
  },
  {
   "cell_type": "code",
   "execution_count": 5,
   "metadata": {
    "collapsed": true
   },
   "outputs": [],
   "source": [
    "# Calculer le kernel de la taille des pères et des mères\n",
    "kernel_Father = stats.gaussian_kde(df_fam['Father'])\n",
    "kernel_Mother = stats.gaussian_kde(df_fam['Mother'])\n",
    "\n",
    "# Estimer la densité sur la base des noyaux gaussiens calculés\n",
    "observations_Father = np.arange(df_fam['Father'].min(),df_fam['Father'].max(), 0.5)\n",
    "observations_Mother = np.arange(df_fam['Mother'].min(),df_fam['Mother'].max(), 0.5)\n",
    "estimated_density_Father = kernel_Father(observations_Father)\n",
    "estimated_density_Mother = kernel_Mother(observations_Mother)"
   ]
  },
  {
   "cell_type": "markdown",
   "metadata": {},
   "source": [
    "Nous pouvons effectuer la visualisation des deux densités (superposées aux hitogrammes correspondants):"
   ]
  },
  {
   "cell_type": "code",
   "execution_count": 6,
   "metadata": {},
   "outputs": [
    {
     "data": {
      "image/png": "[encoded data removed]",
      "text/plain": [
       "<matplotlib.figure.Figure at 0x7f3259ccc630>"
      ]
     },
     "metadata": {},
     "output_type": "display_data"
    }
   ],
   "source": [
    "fig, ax1 = plt.subplots()\n",
    "ax1.plot(observations_Father, estimated_density_Father,\n",
    "         color=color_blind_list[0], label='Estimation de densité père')\n",
    "ax1.plot(observations_Mother, estimated_density_Mother,\n",
    "         color=sns.xkcd_rgb[\"pale orange\"], label='Estimation de densité mère')\n",
    "ax1.set_ylabel('Fréquence')\n",
    "plt.legend(loc='upper left')\n",
    "\n",
    "ax2 = ax1.twinx()\n",
    "\n",
    "ax2.hist(df_fam['Father'], histtype=\"stepfilled\",\n",
    "         alpha=0.5, label='Histogramme père')\n",
    "ax2.hist(df_fam['Mother'], histtype=\"stepfilled\", alpha=0.5,\n",
    "         label='Histogramme mère', color=sns.xkcd_rgb[\"pale orange\"])\n",
    "ax2.set_ylabel('Nombre d\\'individus', alpha=0.5)\n",
    "ax2.tick_params('y', color=sns.xkcd_rgb[\"pale grey\"])\n",
    "\n",
    "plt.grid(None)\n",
    "plt.legend(loc='upper right')\n",
    "plt.title('Densités de population des pères et des mères')\n",
    "plt.show()"
   ]
  },
  {
   "cell_type": "markdown",
   "metadata": {},
   "source": [
    "Graphiquement, la distribution des tailles sur les deux populations semble gaussienne."
   ]
  },
  {
   "cell_type": "markdown",
   "metadata": {},
   "source": [
    "### 4) Afficher la taille du père en fonction de la mère puis la droite de régression:"
   ]
  },
  {
   "cell_type": "code",
   "execution_count": 7,
   "metadata": {},
   "outputs": [
    {
     "data": {
      "text/plain": [
       "58.0"
      ]
     },
     "execution_count": 7,
     "metadata": {},
     "output_type": "execute_result"
    }
   ],
   "source": [
    "min(df_fam['Father'].min(), df_fam['Mother'].min())"
   ]
  },
  {
   "cell_type": "code",
   "execution_count": 8,
   "metadata": {},
   "outputs": [
    {
     "data": {
      "image/png": "[encoded data removed]",
      "text/plain": [
       "<matplotlib.figure.Figure at 0x7f3259ccc358>"
      ]
     },
     "metadata": {},
     "output_type": "display_data"
    }
   ],
   "source": [
    "# Etablir les mêmes échelles d'axes pour une meilleure représentation\n",
    "xmin = min(df_fam['Father'].min(), df_fam['Mother'].min())\n",
    "xmax = max(df_fam['Father'].max(), df_fam['Mother'].max())\n",
    "ymin = xmin.copy()\n",
    "ymax = xmax.copy()\n",
    "\n",
    "# Plot\n",
    "fig = plt.figure()\n",
    "plt.plot(df_fam['Mother'], df_fam['Father'], 'o', label='= Observation')\n",
    "plt.xlim(xmin-1, xmax+1)\n",
    "plt.ylim(ymin-1, ymax+1)\n",
    "plt.xlabel('Taille des mères')\n",
    "plt.ylabel('Taille des pères')\n",
    "plt.legend(numpoints=1, loc=2)\n",
    "plt.title('Taille du père en fonction de la mère')\n",
    "plt.show()"
   ]
  },
  {
   "cell_type": "markdown",
   "metadata": {},
   "source": [
    "Du précédent graphique nous pouvons ajouter la droite de régression linéaire en utilisant la librairie Scikit-learn:"
   ]
  },
  {
   "cell_type": "code",
   "execution_count": 9,
   "metadata": {},
   "outputs": [
    {
     "data": {
      "image/png": "[encoded data removed]",
      "text/plain": [
       "<matplotlib.figure.Figure at 0x7f3259abf470>"
      ]
     },
     "metadata": {},
     "output_type": "display_data"
    }
   ],
   "source": [
    "# Fit modèle de régression\n",
    "skl_linmod = linear_model.LinearRegression()\n",
    "skl_linmod.fit(df_fam[['Mother']], df_fam['Father'])\n",
    "\n",
    "# Calculer prédictions pour la visualisation\n",
    "X_to_predict = np.linspace(df_fam['Mother'].min(), df_fam['Mother'].max(), num=50).reshape(50, 1)\n",
    "X_to_predict = pd.DataFrame(X_to_predict, columns=['Mother'])\n",
    "X_predicted = skl_linmod.predict(X_to_predict)\n",
    "\n",
    "# Ajouter la droite de régression au précédent graphique\n",
    "fig = plt.figure()\n",
    "plt.plot(df_fam['Mother'], df_fam['Father'], 'o', label='= Observation')\n",
    "plt.xlim(xmin-1, xmax+1)\n",
    "plt.ylim(ymin-1, ymax+1)\n",
    "plt.plot(X_to_predict, X_predicted, label='Droite de régression')\n",
    "plt.xlabel('Taille des mères')\n",
    "plt.ylabel('Taille des pères')\n",
    "plt.legend(numpoints=1, loc=2)\n",
    "plt.title('Taille du père en fonction de celle de la mère')\n",
    "plt.show()"
   ]
  },
  {
   "cell_type": "markdown",
   "metadata": {},
   "source": [
    "### 5) Afficher un histogramme du nombre d'enfants par famille:"
   ]
  },
  {
   "cell_type": "code",
   "execution_count": 10,
   "metadata": {},
   "outputs": [
    {
     "data": {
      "image/png": "[encoded data removed]",
      "text/plain": [
       "<matplotlib.figure.Figure at 0x7f325c10fb38>"
      ]
     },
     "metadata": {},
     "output_type": "display_data"
    }
   ],
   "source": [
    "fig = plt.figure()\n",
    "plt.hist(df_fam['Kids'], histtype=\"stepfilled\",\n",
    "         alpha=0.5, color=sns.xkcd_rgb[\"medium green\"])\n",
    "plt.xlabel('Nombre d\\'enfants par famille')\n",
    "plt.ylabel('Nombre d\\'individus par catégorie')\n",
    "plt.title('Histogramme d\\'enfants par famille')\n",
    "plt.show()"
   ]
  },
  {
   "cell_type": "markdown",
   "metadata": {},
   "source": [
    "Graphiquement, il semble que la majorité des familles étudiées a entre 2 et 4 enfants."
   ]
  },
  {
   "cell_type": "markdown",
   "metadata": {},
   "source": [
    "### 6) Créer une colonne 'MidParents':"
   ]
  },
  {
   "cell_type": "code",
   "execution_count": 11,
   "metadata": {},
   "outputs": [
    {
     "data": {
      "text/html": [
       "<div>\n",
       "<style>\n",
       "    .dataframe thead tr:only-child th {\n",
       "        text-align: right;\n",
       "    }\n",
       "\n",
       "    .dataframe thead th {\n",
       "        text-align: left;\n",
       "    }\n",
       "\n",
       "    .dataframe tbody tr th {\n",
       "        vertical-align: top;\n",
       "    }\n",
       "</style>\n",
       "<table border=\"1\" class=\"dataframe\">\n",
       "  <thead>\n",
       "    <tr style=\"text-align: right;\">\n",
       "      <th></th>\n",
       "      <th>Family</th>\n",
       "      <th>Father</th>\n",
       "      <th>Mother</th>\n",
       "      <th>Gender</th>\n",
       "      <th>Height</th>\n",
       "      <th>Kids</th>\n",
       "      <th>MidParents</th>\n",
       "    </tr>\n",
       "  </thead>\n",
       "  <tbody>\n",
       "    <tr>\n",
       "      <th>0</th>\n",
       "      <td>1</td>\n",
       "      <td>78.0</td>\n",
       "      <td>67.0</td>\n",
       "      <td>M</td>\n",
       "      <td>73.0</td>\n",
       "      <td>4</td>\n",
       "      <td>75.18</td>\n",
       "    </tr>\n",
       "    <tr>\n",
       "      <th>1</th>\n",
       "      <td>1</td>\n",
       "      <td>78.0</td>\n",
       "      <td>67.0</td>\n",
       "      <td>F</td>\n",
       "      <td>69.0</td>\n",
       "      <td>4</td>\n",
       "      <td>75.18</td>\n",
       "    </tr>\n",
       "    <tr>\n",
       "      <th>2</th>\n",
       "      <td>1</td>\n",
       "      <td>78.0</td>\n",
       "      <td>67.0</td>\n",
       "      <td>F</td>\n",
       "      <td>69.0</td>\n",
       "      <td>4</td>\n",
       "      <td>75.18</td>\n",
       "    </tr>\n",
       "    <tr>\n",
       "      <th>3</th>\n",
       "      <td>1</td>\n",
       "      <td>78.0</td>\n",
       "      <td>67.0</td>\n",
       "      <td>F</td>\n",
       "      <td>69.0</td>\n",
       "      <td>4</td>\n",
       "      <td>75.18</td>\n",
       "    </tr>\n",
       "    <tr>\n",
       "      <th>4</th>\n",
       "      <td>2</td>\n",
       "      <td>76.0</td>\n",
       "      <td>66.0</td>\n",
       "      <td>M</td>\n",
       "      <td>74.0</td>\n",
       "      <td>4</td>\n",
       "      <td>73.64</td>\n",
       "    </tr>\n",
       "  </tbody>\n",
       "</table>\n",
       "</div>"
      ],
      "text/plain": [
       "  Family  Father  Mother Gender  Height  Kids  MidParents\n",
       "0      1    78.0    67.0      M    73.0     4       75.18\n",
       "1      1    78.0    67.0      F    69.0     4       75.18\n",
       "2      1    78.0    67.0      F    69.0     4       75.18\n",
       "3      1    78.0    67.0      F    69.0     4       75.18\n",
       "4      2    76.0    66.0      M    74.0     4       73.64"
      ]
     },
     "execution_count": 11,
     "metadata": {},
     "output_type": "execute_result"
    }
   ],
   "source": [
    "df['MidParents'] = (df['Father'] + 1.08 * df['Mother'])/2\n",
    "df.head()"
   ]
  },
  {
   "cell_type": "markdown",
   "metadata": {},
   "source": [
    "### 7) Regression linéaire des tailles des enfants en fonction de la taille moyenne des parents: estimer θ0, θ1, par ˆθ0,ˆθ1 grâce à Scikit-Learn et numériquement:"
   ]
  },
  {
   "cell_type": "markdown",
   "metadata": {},
   "source": [
    "Calculons grâce à la régression linéaire de Scikit-Learn thêta0_chap et thêta1_chap:"
   ]
  },
  {
   "cell_type": "code",
   "execution_count": 12,
   "metadata": {},
   "outputs": [
    {
     "name": "stdout",
     "output_type": "stream",
     "text": [
      "Thêta0_chap vaut 22.0 et thêta1_chap vaut 0.65, d'après le modèle de régression de Scikit-Learn.\n"
     ]
    }
   ],
   "source": [
    "# Fit modèle de régression\n",
    "skl_linmod = linear_model.LinearRegression()\n",
    "skl_linmod.fit(df[['MidParents']], df['Height'])\n",
    "print('Thêta0_chap vaut %s et thêta1_chap vaut %s, d\\'après le modèle de régression de Scikit-Learn.'%\n",
    "      (skl_linmod.intercept_.round(0), skl_linmod.coef_[0].round(2)))"
   ]
  },
  {
   "cell_type": "markdown",
   "metadata": {},
   "source": [
    "Calculons numériquement thêta0_chap et thêta1_chap:"
   ]
  },
  {
   "cell_type": "code",
   "execution_count": 13,
   "metadata": {},
   "outputs": [
    {
     "name": "stdout",
     "output_type": "stream",
     "text": [
      "Thêta0_chap vaut 22.043755013147774 et thêta1_chap vaut 0.6459694681010596, numériqument.\n"
     ]
    }
   ],
   "source": [
    "θ1 = ((df['MidParents'] - df['MidParents'].mean()) * (df['Height'] - df['Height'].mean())).sum() / (np.square((df['MidParents'] - df['MidParents'].mean()))).sum()\n",
    "θ0 = df['Height'].mean() - θ1 * df['MidParents'].mean()\n",
    "print('Thêta0_chap vaut %s et thêta1_chap vaut %s, numériqument.' % (θ0, θ1))"
   ]
  },
  {
   "cell_type": "markdown",
   "metadata": {},
   "source": [
    "Vérifions si les deux méthodes donnent des résultats semblables:"
   ]
  },
  {
   "cell_type": "code",
   "execution_count": 14,
   "metadata": {},
   "outputs": [
    {
     "name": "stdout",
     "output_type": "stream",
     "text": [
      "Les deux méthodes donnent des résultats semblables: True\n"
     ]
    }
   ],
   "source": [
    "print('Les deux méthodes donnent des résultats semblables:', np.isclose(\n",
    "    [θ0, θ1], [skl_linmod.intercept_, skl_linmod.coef_[0]]).all())"
   ]
  },
  {
   "cell_type": "markdown",
   "metadata": {},
   "source": [
    "### 8) Visualiser graphiquement la régression linéaire:\n",
    "Nous pouvons prendre d'abord tout le dataset:"
   ]
  },
  {
   "cell_type": "code",
   "execution_count": 15,
   "metadata": {},
   "outputs": [
    {
     "data": {
      "image/png": "[encoded data removed]",
      "text/plain": [
       "<matplotlib.figure.Figure at 0x7f3258b5cba8>"
      ]
     },
     "metadata": {},
     "output_type": "display_data"
    }
   ],
   "source": [
    "# Etablir les mêmes échelles d'axes pour une meilleure représentation\n",
    "xmin = min(df['Height'].min(), df['MidParents'].min())\n",
    "xmax = max(df['Height'].max(), df['MidParents'].max())\n",
    "ymin = xmin.copy()\n",
    "ymax = xmax.copy()\n",
    "\n",
    "# Calculer prédictions pour la visualisation\n",
    "X_to_predict = np.linspace(df['MidParents'].min(), df['MidParents'].max(), num=50).reshape(50, 1)\n",
    "X_to_predict = pd.DataFrame(X_to_predict, columns=['MidParents'])\n",
    "X_predicted = skl_linmod.predict(X_to_predict)\n",
    "\n",
    "# Ajouter la droite de régression au précédent graphique\n",
    "fig = plt.figure(figsize=(12, 6))\n",
    "plt.plot(df['MidParents'], df['Height'], 'o', label='= Observation')\n",
    "plt.plot(X_to_predict, X_predicted, label='Droite de régression')\n",
    "plt.xlim(xmin-1, xmax+1)\n",
    "plt.ylim(ymin-1, ymax+1)\n",
    "plt.xlabel('Taille moyenne des parents')\n",
    "plt.ylabel('Taille des enfants')\n",
    "plt.legend(numpoints=1, loc=2)\n",
    "plt.title('Taille des enfants en fonction de celle des parents')\n",
    "plt.show()"
   ]
  },
  {
   "cell_type": "markdown",
   "metadata": {},
   "source": [
    "Puis opérer deux régressions linéaires sur les deux sous-ensembles fille/garçon:"
   ]
  },
  {
   "cell_type": "code",
   "execution_count": 16,
   "metadata": {},
   "outputs": [
    {
     "data": {
      "image/png": "[encoded data removed]",
      "text/plain": [
       "<matplotlib.figure.Figure at 0x7f3258b5cac8>"
      ]
     },
     "metadata": {},
     "output_type": "display_data"
    }
   ],
   "source": [
    "# Fit modèle de régression pour les filles\n",
    "skl_linmod_F = linear_model.LinearRegression()\n",
    "skl_linmod_F.fit(pd.DataFrame({'MidParents': df.loc[df.Gender == 'F', 'MidParents']}), # contrainte de skl\n",
    "                 df.loc[df.Gender == 'F', 'Height'])\n",
    "\n",
    "# Fit modèle de régression pour les garçons\n",
    "skl_linmod_M = linear_model.LinearRegression()\n",
    "skl_linmod_M.fit(pd.DataFrame({'MidParents': df.loc[df.Gender == 'M', 'MidParents']}), # contrainte de skl\n",
    "                 df.loc[df.Gender == 'M', 'Height'])\n",
    "\n",
    "# Calculer prédictions pour la visualisation\n",
    "X_to_predict = np.linspace(df['MidParents'].min()\n",
    "                           , df['MidParents'].max(), num=50).reshape(50, 1)\n",
    "X_to_predict = pd.DataFrame(X_to_predict, columns=['MidParents'])\n",
    "# droite de régression de la taille des filles\n",
    "X_predicted_F = skl_linmod_F.predict(X_to_predict)\n",
    "# droite de régression de la taille des garçons\n",
    "X_predicted_M = skl_linmod_M.predict(X_to_predict)\n",
    "\n",
    "# Ajouter la droite de régression au précédent graphique\n",
    "fig = plt.figure(figsize=(12, 6))\n",
    "plt.plot(df.loc[df.Gender == 'F', 'MidParents'], df.loc[df.Gender == 'F', 'Height'], 'o',\n",
    "         label='= Observation fille', color=sns.xkcd_rgb[\"pale orange\"], alpha=0.5)\n",
    "\n",
    "plt.plot(df.loc[df.Gender == 'M', 'MidParents'], df.loc[df.Gender == 'M', 'Height'], 'o',\n",
    "         label='= Observation garçon', color=color_blind_list[0], alpha=0.5)\n",
    "\n",
    "plt.plot(X_to_predict, X_predicted_F,\n",
    "         label='Droite de régression fille', color=sns.xkcd_rgb[\"pale orange\"])\n",
    "\n",
    "plt.plot(X_to_predict, X_predicted_M,\n",
    "         label='Droite de régression garçon', color=color_blind_list[0])\n",
    "\n",
    "plt.xlim(xmin - 1, xmax + 1) # défini dans le précédent graphe\n",
    "plt.ylim(ymin - 1, ymax + 1) # défini dans le précédent graphe\n",
    "plt.xlabel('Taille moyenne des parents')\n",
    "plt.ylabel('Taille des enfants')\n",
    "plt.legend(numpoints=1, loc=2)\n",
    "plt.title('Taille des enfants en fonction de celle des parents')\n",
    "plt.show()"
   ]
  },
  {
   "cell_type": "markdown",
   "metadata": {},
   "source": [
    "### 9) Visualiser la densité des résidus:\n",
    "Nous allons d'abord calculer les résidus pour chacune des observations puis en \"plotter\" la densité grâce à la fonction seaborn sns.kdeplot():"
   ]
  },
  {
   "cell_type": "code",
   "execution_count": 17,
   "metadata": {},
   "outputs": [
    {
     "data": {
      "image/png": "[encoded data removed]",
      "text/plain": [
       "<matplotlib.figure.Figure at 0x7f3258b11ac8>"
      ]
     },
     "metadata": {},
     "output_type": "display_data"
    }
   ],
   "source": [
    "# Calculer les résidus\n",
    "y_chap = skl_linmod.predict(df[['MidParents']])\n",
    "df['Residuals'] = df['Height'] - y_chap\n",
    "\n",
    "# Visualiser un estimateur de la densité des résidus\n",
    "fig, ax1 = plt.subplots()\n",
    "ax1 = sns.kdeplot(df['Residuals'], label='Densité des résidus', color=color_blind_list[3])\n",
    "plt.legend(loc='upper left')\n",
    "\n",
    "ax2 = ax1.twinx()\n",
    "\n",
    "ax2.hist(df['Residuals'], histtype=\"stepfilled\",\n",
    "         alpha=0.5, label='Histogramme des résidus', color=color_blind_list[3])\n",
    "ax2.set_ylabel('Nombre d\\'individus', alpha=0.5)\n",
    "ax2.tick_params('y', color=sns.xkcd_rgb[\"pale grey\"])\n",
    "\n",
    "plt.grid(None)\n",
    "plt.legend(loc='upper right')\n",
    "plt.title('Densités des Résidus')\n",
    "plt.show()"
   ]
  },
  {
   "cell_type": "markdown",
   "metadata": {},
   "source": [
    "Dans ces conditions, l'hypothèse de normalité des résidus ne semble pas tenir. Opérons les mêmes manipulations en distinguant les filles des garçons:"
   ]
  },
  {
   "cell_type": "code",
   "execution_count": 18,
   "metadata": {},
   "outputs": [
    {
     "data": {
      "image/png": "[encoded data removed]",
      "text/plain": [
       "<matplotlib.figure.Figure at 0x7f325c10f710>"
      ]
     },
     "metadata": {},
     "output_type": "display_data"
    }
   ],
   "source": [
    "# Calculer les résidus filles\n",
    "y_chap_F = skl_linmod.predict(pd.DataFrame(\n",
    "    {'MidParents': df.loc[df.Gender == 'F', 'MidParents']}))\n",
    "Residuals_F = df.loc[df.Gender == 'F', 'Height'] - y_chap_F\n",
    "\n",
    "# Calculer les résidus garçon\n",
    "y_chap_M = skl_linmod.predict(pd.DataFrame(\n",
    "    {'MidParents': df.loc[df.Gender == 'M', 'MidParents']}))\n",
    "Residuals_M = df.loc[df.Gender == 'M', 'Height'] - y_chap_M\n",
    "\n",
    "# Calculer le kernel des résidus fille et garçon\n",
    "kernel_F = stats.gaussian_kde(Residuals_F)\n",
    "kernel_M = stats.gaussian_kde(Residuals_M)\n",
    "\n",
    "# Estimer la densité sur la base des noyaux gaussiens calculés\n",
    "observations_Residuals_F = np.linspace(Residuals_F.min(),Residuals_F.max(), 50)\n",
    "observations_Residuals_M = np.linspace(Residuals_M.min(),Residuals_M.max(), 50)\n",
    "estimated_density_Residuals_F = kernel_F(observations_Residuals_F)\n",
    "estimated_density_Residuals_M = kernel_M(observations_Residuals_M)\n",
    "\n",
    "# Calculer les proportions de filles et de garçons\n",
    "alpha_F = df.loc[df.Gender == 'F', 'Gender'].count() / df['Gender'].count() # proportion de filles\n",
    "alpha_M = 1 - alpha_F # proportion de garçons\n",
    "\n",
    "# Visualiser un estimateur de la densité des résidus\n",
    "fig = plt.figure()\n",
    "plt.plot(observations_Residuals_F, estimated_density_Residuals_F*alpha_F,\n",
    "         label='Densité des résidus fille', color=sns.xkcd_rgb[\"pale orange\"])\n",
    "plt.plot(observations_Residuals_M, estimated_density_Residuals_M*alpha_M,\n",
    "         label='Densité des résidus garçon', color=color_blind_list[0])\n",
    "sns.kdeplot(df['Residuals'], label='Densité des résidus', alpha=0.5, color=color_blind_list[3])\n",
    "plt.legend(loc='upper right')\n",
    "plt.title('Densités des Résidus')\n",
    "plt.show()"
   ]
  },
  {
   "cell_type": "markdown",
   "metadata": {},
   "source": [
    "Graphiquement, l'hypothèse de normalité semble plus consistante lorsque la population est divisée sur la base du genre."
   ]
  },
  {
   "cell_type": "markdown",
   "metadata": {},
   "source": [
    "### 10) Regresser sur la taille des enfants et vérifier une égalité numérique avec les précédents coefficients:\n",
    "Calculons les coefficients a0_chap et a1_chap les coefficients de la droite de régression de la taille des parents sur celle des enfants grâce à la fonction lienar_model de Scikit-Learn:"
   ]
  },
  {
   "cell_type": "code",
   "execution_count": 19,
   "metadata": {},
   "outputs": [
    {
     "name": "stdout",
     "output_type": "stream",
     "text": [
      "Les égalités sont vérifiées numériquement: True\n"
     ]
    }
   ],
   "source": [
    "# Fit modèle de régression sur la taille des enfants\n",
    "skl_linmod_reverse = linear_model.LinearRegression()\n",
    "skl_linmod_reverse.fit(df[['Height']], df['MidParents'])\n",
    "\n",
    "# Calculer numériquement a0_chap et a1_chap\n",
    "a0_chap = np.mean(df['MidParents']) + (np.mean(df['Height'])/np.mean(df['MidParents']))*(np.var(df['MidParents'])/np.var(df['Height']))*(θ0 - np.mean(df['Height']))\n",
    "a1_chap = (np.var(df['MidParents']) / np.var(df['Height']))*θ1\n",
    "\n",
    "# Vérifier l'égalité numérique\n",
    "print('Les égalités sont vérifiées numériquement:', np.isclose(\n",
    "    [a0_chap, a1_chap], [skl_linmod_reverse.intercept_, skl_linmod_reverse.coef_[0]]).all())"
   ]
  },
  {
   "cell_type": "markdown",
   "metadata": {},
   "source": [
    "## Exercice II"
   ]
  },
  {
   "cell_type": "markdown",
   "metadata": {},
   "source": [
    "### 11) Importer les données:"
   ]
  },
  {
   "cell_type": "code",
   "execution_count": 20,
   "metadata": {
    "collapsed": true
   },
   "outputs": [],
   "source": [
    "url_data = \"https://archive.ics.uci.edu/ml/machine-learning-databases/auto-mpg/auto-mpg.data-original\"\n",
    "url_names = \"https://archive.ics.uci.edu/ml/machinelearning-databases/auto-mpg/auto-mpg.names\"\n",
    "dt = pd.read_csv(url_data, sep=\"\\s+\", header=None, names=[\"mpg\", \"cylinders\", \"displacement\", \"horsepower\", \"weight\", \"acceleration\", \"model_year\", \"origin\", \"car_name\"])"
   ]
  },
  {
   "cell_type": "markdown",
   "metadata": {},
   "source": [
    "D'après la documentation du dataset, ce dernier ne semble pas possèder de marqueur pour les valeurs manquantes. Nous pouvons appliquer .dropna() pour éliminer ces valeurs manquantes:"
   ]
  },
  {
   "cell_type": "code",
   "execution_count": 21,
   "metadata": {
    "collapsed": true
   },
   "outputs": [],
   "source": [
    "dt.dropna(inplace=True)"
   ]
  },
  {
   "cell_type": "markdown",
   "metadata": {},
   "source": [
    "### 12) Calculer l'estimateur des moindres carrés sur les 9 premières lignes:"
   ]
  },
  {
   "cell_type": "markdown",
   "metadata": {},
   "source": [
    "Nous ne pouvons calculer l'estimateur des moindres carrés que sur la base de variables explicatives numériques (non catégorique). Ainsi, avant de traiter le cas des variables catégoriques, nous concentrerons nos calculs sur les variables 'cylinders', 'displacement','horsepower', 'weight', 'acceleration' et 'model year' pour estimer 'mpg'.\n",
    "\n",
    "Calculons l'estimateur des moindres carrés et ses prédictions sur les 9 premières lignes dans un premier temps:"
   ]
  },
  {
   "cell_type": "code",
   "execution_count": 22,
   "metadata": {},
   "outputs": [
    {
     "data": {
      "text/html": [
       "<div>\n",
       "<style>\n",
       "    .dataframe thead tr:only-child th {\n",
       "        text-align: right;\n",
       "    }\n",
       "\n",
       "    .dataframe thead th {\n",
       "        text-align: left;\n",
       "    }\n",
       "\n",
       "    .dataframe tbody tr th {\n",
       "        vertical-align: top;\n",
       "    }\n",
       "</style>\n",
       "<table border=\"1\" class=\"dataframe\">\n",
       "  <thead>\n",
       "    <tr style=\"text-align: right;\">\n",
       "      <th></th>\n",
       "      <th>cylinders</th>\n",
       "      <th>displacement</th>\n",
       "      <th>horsepower</th>\n",
       "      <th>weight</th>\n",
       "      <th>acceleration</th>\n",
       "      <th>model_year</th>\n",
       "      <th>mgp</th>\n",
       "      <th>mpg_pred</th>\n",
       "    </tr>\n",
       "  </thead>\n",
       "  <tbody>\n",
       "    <tr>\n",
       "      <th>0</th>\n",
       "      <td>8.0</td>\n",
       "      <td>307.0</td>\n",
       "      <td>130.0</td>\n",
       "      <td>3504.0</td>\n",
       "      <td>12.0</td>\n",
       "      <td>70.0</td>\n",
       "      <td>18.0</td>\n",
       "      <td>17.835934</td>\n",
       "    </tr>\n",
       "    <tr>\n",
       "      <th>1</th>\n",
       "      <td>8.0</td>\n",
       "      <td>350.0</td>\n",
       "      <td>165.0</td>\n",
       "      <td>3693.0</td>\n",
       "      <td>11.5</td>\n",
       "      <td>70.0</td>\n",
       "      <td>15.0</td>\n",
       "      <td>16.151352</td>\n",
       "    </tr>\n",
       "    <tr>\n",
       "      <th>2</th>\n",
       "      <td>8.0</td>\n",
       "      <td>318.0</td>\n",
       "      <td>150.0</td>\n",
       "      <td>3436.0</td>\n",
       "      <td>11.0</td>\n",
       "      <td>70.0</td>\n",
       "      <td>18.0</td>\n",
       "      <td>17.028033</td>\n",
       "    </tr>\n",
       "    <tr>\n",
       "      <th>3</th>\n",
       "      <td>8.0</td>\n",
       "      <td>304.0</td>\n",
       "      <td>150.0</td>\n",
       "      <td>3433.0</td>\n",
       "      <td>12.0</td>\n",
       "      <td>70.0</td>\n",
       "      <td>16.0</td>\n",
       "      <td>16.084149</td>\n",
       "    </tr>\n",
       "    <tr>\n",
       "      <th>4</th>\n",
       "      <td>8.0</td>\n",
       "      <td>302.0</td>\n",
       "      <td>140.0</td>\n",
       "      <td>3449.0</td>\n",
       "      <td>10.5</td>\n",
       "      <td>70.0</td>\n",
       "      <td>17.0</td>\n",
       "      <td>17.152477</td>\n",
       "    </tr>\n",
       "    <tr>\n",
       "      <th>5</th>\n",
       "      <td>8.0</td>\n",
       "      <td>429.0</td>\n",
       "      <td>198.0</td>\n",
       "      <td>4341.0</td>\n",
       "      <td>10.0</td>\n",
       "      <td>70.0</td>\n",
       "      <td>15.0</td>\n",
       "      <td>14.855885</td>\n",
       "    </tr>\n",
       "    <tr>\n",
       "      <th>6</th>\n",
       "      <td>8.0</td>\n",
       "      <td>454.0</td>\n",
       "      <td>220.0</td>\n",
       "      <td>4354.0</td>\n",
       "      <td>9.0</td>\n",
       "      <td>70.0</td>\n",
       "      <td>14.0</td>\n",
       "      <td>14.272661</td>\n",
       "    </tr>\n",
       "    <tr>\n",
       "      <th>7</th>\n",
       "      <td>8.0</td>\n",
       "      <td>440.0</td>\n",
       "      <td>215.0</td>\n",
       "      <td>4312.0</td>\n",
       "      <td>8.5</td>\n",
       "      <td>70.0</td>\n",
       "      <td>14.0</td>\n",
       "      <td>14.265870</td>\n",
       "    </tr>\n",
       "    <tr>\n",
       "      <th>8</th>\n",
       "      <td>8.0</td>\n",
       "      <td>455.0</td>\n",
       "      <td>225.0</td>\n",
       "      <td>4425.0</td>\n",
       "      <td>10.0</td>\n",
       "      <td>70.0</td>\n",
       "      <td>14.0</td>\n",
       "      <td>13.353638</td>\n",
       "    </tr>\n",
       "  </tbody>\n",
       "</table>\n",
       "</div>"
      ],
      "text/plain": [
       "   cylinders  displacement  horsepower  weight  acceleration  model_year  \\\n",
       "0        8.0         307.0       130.0  3504.0          12.0        70.0   \n",
       "1        8.0         350.0       165.0  3693.0          11.5        70.0   \n",
       "2        8.0         318.0       150.0  3436.0          11.0        70.0   \n",
       "3        8.0         304.0       150.0  3433.0          12.0        70.0   \n",
       "4        8.0         302.0       140.0  3449.0          10.5        70.0   \n",
       "5        8.0         429.0       198.0  4341.0          10.0        70.0   \n",
       "6        8.0         454.0       220.0  4354.0           9.0        70.0   \n",
       "7        8.0         440.0       215.0  4312.0           8.5        70.0   \n",
       "8        8.0         455.0       225.0  4425.0          10.0        70.0   \n",
       "\n",
       "    mgp   mpg_pred  \n",
       "0  18.0  17.835934  \n",
       "1  15.0  16.151352  \n",
       "2  18.0  17.028033  \n",
       "3  16.0  16.084149  \n",
       "4  17.0  17.152477  \n",
       "5  15.0  14.855885  \n",
       "6  14.0  14.272661  \n",
       "7  14.0  14.265870  \n",
       "8  14.0  13.353638  "
      ]
     },
     "execution_count": 22,
     "metadata": {},
     "output_type": "execute_result"
    }
   ],
   "source": [
    "# Selectionner les variables explicatives et à expliquer\n",
    "X_dt_num = dt[['cylinders', 'displacement','horsepower', 'weight', 'acceleration', 'model_year']]\n",
    "y = dt['mpg']\n",
    "\n",
    "# Regression linéaire sur les 9 premières lignes\n",
    "skl_linmod_9 = linear_model.LinearRegression()\n",
    "skl_linmod_9.fit(X_dt_num[:9], y[:9])\n",
    "\n",
    "# Calculer les predictions pour les 9 premières lignes\n",
    "pred_9 = skl_linmod_9.predict(X_dt_num[:9])\n",
    "\n",
    "# Rassembler les résutlats dans un seul dataFrame\n",
    "pd.concat([X_dt_num[:9], pd.DataFrame({'mgp': y[:9], 'mpg_pred': pred_9})], axis=1)"
   ]
  },
  {
   "cell_type": "markdown",
   "metadata": {},
   "source": [
    "Nous remarquons que pour les 9 premières lignes du dataset, 'cylinders' et 'model year' sont constantes. Ainsi, 'cylinders' et 'model year' sont inutiles compte tenu du fait que nous avons déjà un intercept. Nous pouvons regarder quels sont les coefficients de l'estimateurs des moindres carrés pour le vérifier:"
   ]
  },
  {
   "cell_type": "code",
   "execution_count": 23,
   "metadata": {},
   "outputs": [
    {
     "data": {
      "text/html": [
       "<div>\n",
       "<style>\n",
       "    .dataframe thead tr:only-child th {\n",
       "        text-align: right;\n",
       "    }\n",
       "\n",
       "    .dataframe thead th {\n",
       "        text-align: left;\n",
       "    }\n",
       "\n",
       "    .dataframe tbody tr th {\n",
       "        vertical-align: top;\n",
       "    }\n",
       "</style>\n",
       "<table border=\"1\" class=\"dataframe\">\n",
       "  <thead>\n",
       "    <tr style=\"text-align: right;\">\n",
       "      <th></th>\n",
       "      <th>coef_value</th>\n",
       "    </tr>\n",
       "  </thead>\n",
       "  <tbody>\n",
       "    <tr>\n",
       "      <th>cylinders</th>\n",
       "      <td>0.000000</td>\n",
       "    </tr>\n",
       "    <tr>\n",
       "      <th>displacement</th>\n",
       "      <td>0.054088</td>\n",
       "    </tr>\n",
       "    <tr>\n",
       "      <th>horsepower</th>\n",
       "      <td>-0.094531</td>\n",
       "    </tr>\n",
       "    <tr>\n",
       "      <th>weight</th>\n",
       "      <td>-0.004241</td>\n",
       "    </tr>\n",
       "    <tr>\n",
       "      <th>acceleration</th>\n",
       "      <td>-0.199367</td>\n",
       "    </tr>\n",
       "    <tr>\n",
       "      <th>model_year</th>\n",
       "      <td>0.000000</td>\n",
       "    </tr>\n",
       "  </tbody>\n",
       "</table>\n",
       "</div>"
      ],
      "text/plain": [
       "              coef_value\n",
       "cylinders       0.000000\n",
       "displacement    0.054088\n",
       "horsepower     -0.094531\n",
       "weight         -0.004241\n",
       "acceleration   -0.199367\n",
       "model_year      0.000000"
      ]
     },
     "execution_count": 23,
     "metadata": {},
     "output_type": "execute_result"
    }
   ],
   "source": [
    "# Regrouper les noms de coefficients et leur valeur dans un dataFrame\n",
    "pd.DataFrame(index=X_dt_num.columns.values, data={'coef_value': skl_linmod_9.coef_})"
   ]
  },
  {
   "cell_type": "markdown",
   "metadata": {},
   "source": [
    "Les coefficients sont nulls pour cylinders et model_year, ce qui vérifie notre affirmation."
   ]
  },
  {
   "cell_type": "markdown",
   "metadata": {},
   "source": [
    "### 13) Calculer l'estimateur des moindres carrés sur l'ensemble du dataset:"
   ]
  },
  {
   "cell_type": "markdown",
   "metadata": {},
   "source": [
    "Nous pouvons utiliser les datasets préparés dans la précédente question:"
   ]
  },
  {
   "cell_type": "code",
   "execution_count": 24,
   "metadata": {},
   "outputs": [
    {
     "data": {
      "text/html": [
       "<div>\n",
       "<style>\n",
       "    .dataframe thead tr:only-child th {\n",
       "        text-align: right;\n",
       "    }\n",
       "\n",
       "    .dataframe thead th {\n",
       "        text-align: left;\n",
       "    }\n",
       "\n",
       "    .dataframe tbody tr th {\n",
       "        vertical-align: top;\n",
       "    }\n",
       "</style>\n",
       "<table border=\"1\" class=\"dataframe\">\n",
       "  <thead>\n",
       "    <tr style=\"text-align: right;\">\n",
       "      <th></th>\n",
       "      <th>coef_value</th>\n",
       "    </tr>\n",
       "  </thead>\n",
       "  <tbody>\n",
       "    <tr>\n",
       "      <th>cylinders</th>\n",
       "      <td>-0.329859</td>\n",
       "    </tr>\n",
       "    <tr>\n",
       "      <th>displacement</th>\n",
       "      <td>0.007678</td>\n",
       "    </tr>\n",
       "    <tr>\n",
       "      <th>horsepower</th>\n",
       "      <td>-0.000391</td>\n",
       "    </tr>\n",
       "    <tr>\n",
       "      <th>weight</th>\n",
       "      <td>-0.006795</td>\n",
       "    </tr>\n",
       "    <tr>\n",
       "      <th>acceleration</th>\n",
       "      <td>0.085273</td>\n",
       "    </tr>\n",
       "    <tr>\n",
       "      <th>model_year</th>\n",
       "      <td>0.753367</td>\n",
       "    </tr>\n",
       "  </tbody>\n",
       "</table>\n",
       "</div>"
      ],
      "text/plain": [
       "              coef_value\n",
       "cylinders      -0.329859\n",
       "displacement    0.007678\n",
       "horsepower     -0.000391\n",
       "weight         -0.006795\n",
       "acceleration    0.085273\n",
       "model_year      0.753367"
      ]
     },
     "execution_count": 24,
     "metadata": {},
     "output_type": "execute_result"
    }
   ],
   "source": [
    "# Regression linéaire sur tout le dataset\n",
    "skl_linmod = linear_model.LinearRegression()\n",
    "skl_linmod.fit(X_dt_num, y)\n",
    "\n",
    "# Calculer les predictions pour les 9 premières lignes\n",
    "y_chap = skl_linmod.predict(X_dt_num)\n",
    "\n",
    "# Regrouper les noms de coefficients et leur valeur dans un dataFrame\n",
    "pd.DataFrame(index=X_dt_num.columns.values, data={'coef_value': skl_linmod.coef_})"
   ]
  },
  {
   "cell_type": "markdown",
   "metadata": {},
   "source": [
    "A la différence de la précédente question, les deux variables qui expliquent le plus la consommation  (celles qui ont le plus grand coefficient en valeur absolue) sont 'cylinders' et 'model year'."
   ]
  },
  {
   "cell_type": "markdown",
   "metadata": {},
   "source": [
    "### 14) Calculer le carré de la norme du vecteur des résidus:"
   ]
  },
  {
   "cell_type": "code",
   "execution_count": 25,
   "metadata": {},
   "outputs": [
    {
     "name": "stdout",
     "output_type": "stream",
     "text": [
      "Ainsi, le carré de la norme du vecteur des résidus est égal à 4543.0 et cette valeur divisée par (n-p) est égal à 12.0.\n"
     ]
    }
   ],
   "source": [
    "# Calculer les résidus\n",
    "residuals = y - y_chap\n",
    "\n",
    "# Calculer le carré de la norme 2 des résidus\n",
    "residuals_norm_square = np.square(np.linalg.norm(residuals, ord=2))\n",
    "\n",
    "# Calculer la norme 2 des résidus divisée par la différence entre le nombre d'observations et de features\n",
    "residuals_norm_stand = residuals_norm_square / (len(y) - len(X_dt_num.columns))\n",
    "\n",
    "# Print des résultats\n",
    "print('Ainsi, le carré de la norme du vecteur des résidus est égal à %s et cette valeur divisée par (n-p) est égal à %s.' %\n",
    "      (residuals_norm_square.round(0), residuals_norm_stand.round(0)))"
   ]
  },
  {
   "cell_type": "markdown",
   "metadata": {},
   "source": [
    "Vérifier numériquement l'égalité proposée:"
   ]
  },
  {
   "cell_type": "code",
   "execution_count": 26,
   "metadata": {},
   "outputs": [
    {
     "name": "stdout",
     "output_type": "stream",
     "text": [
      "L'égalité est vérifiée numériquement: True\n"
     ]
    }
   ],
   "source": [
    "# Calculer le membre de gauche et de droite\n",
    "left = np.square(np.linalg.norm(y-np.mean(y)))\n",
    "right = residuals_norm_square + np.square(np.linalg.norm(y_chap-np.mean(y)))\n",
    "\n",
    "# Print des résultats\n",
    "print('L\\'égalité est vérifiée numériquement:', np.isclose(left,right))"
   ]
  },
  {
   "cell_type": "markdown",
   "metadata": {},
   "source": [
    "### 15) Faire une nouvelle prédiction:"
   ]
  },
  {
   "cell_type": "markdown",
   "metadata": {},
   "source": [
    "Calculons la consommation du véhicule suivant:\n",
    "* cylinders 6\n",
    "* displacement 225\n",
    "* horsepower 100\n",
    "* weight 3233\n",
    "* acceleration 15.4\n",
    "* year 76"
   ]
  },
  {
   "cell_type": "code",
   "execution_count": 27,
   "metadata": {},
   "outputs": [
    {
     "name": "stdout",
     "output_type": "stream",
     "text": [
      "Un tel véhicule devrait consommer 22.0 mpg\n"
     ]
    }
   ],
   "source": [
    "# Initialiser le véhicule à prédire\n",
    "X_to_predict = pd.DataFrame(data=[[6, 225, 100, 3233, 15.4, 76]], columns=X_dt_num.columns)\n",
    "\n",
    "# Calculer la prédiction\n",
    "mpg_pred = skl_linmod.predict(X_to_predict)\n",
    "\n",
    "# Print du résultat\n",
    "print('Un tel véhicule devrait consommer %s mpg' % mpg_pred[0].round(0))"
   ]
  },
  {
   "cell_type": "markdown",
   "metadata": {},
   "source": [
    "### 16) Ajuster un modèle d'ordre 2:"
   ]
  },
  {
   "cell_type": "markdown",
   "metadata": {},
   "source": [
    "Appliquons la transformation PolynomialFeatures de sklearn, puis normalisons les données avec StandardScaler de sklearn:"
   ]
  },
  {
   "cell_type": "code",
   "execution_count": 28,
   "metadata": {
    "collapsed": true
   },
   "outputs": [],
   "source": [
    "# Utiliser PolynomialFeatures\n",
    "poly = preprocessing.PolynomialFeatures(2)\n",
    "X_dt_num_poly = poly.fit_transform(X_dt_num)\n",
    "\n",
    "# Standardiser les données obtenus\n",
    "scaler = preprocessing.StandardScaler()\n",
    "X_dt_num_poly_stand = scaler.fit_transform(X_dt_num_poly)"
   ]
  },
  {
   "cell_type": "markdown",
   "metadata": {},
   "source": [
    "Pour déterminer la variable la plus explicative, nous mesurons la p-value des coefficients de chacune des variables explicatives prise une à une pour prédire y. Pour cela, nous utiliserons la fonction f_regression de sklearn:"
   ]
  },
  {
   "cell_type": "code",
   "execution_count": 30,
   "metadata": {},
   "outputs": [],
   "source": [
    "y_stand = (y - np.mean(y)) / np.std(y) # standardizer y également\n",
    "pvals = feature_selection.f_regression(X_dt_num_poly_stand, y_stand, center=False)[\n",
    "    1]  # les pvals sont en seconde position"
   ]
  },
  {
   "cell_type": "markdown",
   "metadata": {},
   "source": [
    "Grâce à cette méthode, nous pouvons repérer le plus petit élément de pval et donc repérer le coefficient dont la probabilité de rejeter l'hypothèse nulle est la plus forte. La liste des features est récupérable grâce à la méthode get_feature_names de PolynomialFeatures, ainsi:"
   ]
  },
  {
   "cell_type": "code",
   "execution_count": 33,
   "metadata": {},
   "outputs": [
    {
     "name": "stdout",
     "output_type": "stream",
     "text": [
      "La variable qui explique le plus la consommation dans le cadre d'une régression polynomiale, est: weight\n"
     ]
    }
   ],
   "source": [
    "print('La variable qui explique le plus la consommation dans le cadre d\\'une régression polynomiale, est:',\n",
    "      np.array(poly.get_feature_names(X_dt_num.columns))[np.array(pvals) == np.nanmin(np.array(pvals))][0])"
   ]
  },
  {
   "cell_type": "markdown",
   "metadata": {},
   "source": [
    "### 17) Gérer la variable origin:"
   ]
  },
  {
   "cell_type": "markdown",
   "metadata": {},
   "source": [
    "La variable origin a été retirée initialement car il s'agit d'une variable catégorielle. Pour l'intégrer au modèle, nous devons préalablement la \"dummyfier\", la convertir en dummy variable grâce à pd.get_dummies:"
   ]
  },
  {
   "cell_type": "code",
   "execution_count": 34,
   "metadata": {},
   "outputs": [
    {
     "data": {
      "text/html": [
       "<div>\n",
       "<style>\n",
       "    .dataframe thead tr:only-child th {\n",
       "        text-align: right;\n",
       "    }\n",
       "\n",
       "    .dataframe thead th {\n",
       "        text-align: left;\n",
       "    }\n",
       "\n",
       "    .dataframe tbody tr th {\n",
       "        vertical-align: top;\n",
       "    }\n",
       "</style>\n",
       "<table border=\"1\" class=\"dataframe\">\n",
       "  <thead>\n",
       "    <tr style=\"text-align: right;\">\n",
       "      <th></th>\n",
       "      <th>cylinders</th>\n",
       "      <th>displacement</th>\n",
       "      <th>horsepower</th>\n",
       "      <th>weight</th>\n",
       "      <th>acceleration</th>\n",
       "      <th>model_year</th>\n",
       "      <th>origin_1.0</th>\n",
       "      <th>origin_2.0</th>\n",
       "      <th>origin_3.0</th>\n",
       "    </tr>\n",
       "  </thead>\n",
       "  <tbody>\n",
       "    <tr>\n",
       "      <th>0</th>\n",
       "      <td>8.0</td>\n",
       "      <td>307.0</td>\n",
       "      <td>130.0</td>\n",
       "      <td>3504.0</td>\n",
       "      <td>12.0</td>\n",
       "      <td>70.0</td>\n",
       "      <td>1</td>\n",
       "      <td>0</td>\n",
       "      <td>0</td>\n",
       "    </tr>\n",
       "    <tr>\n",
       "      <th>1</th>\n",
       "      <td>8.0</td>\n",
       "      <td>350.0</td>\n",
       "      <td>165.0</td>\n",
       "      <td>3693.0</td>\n",
       "      <td>11.5</td>\n",
       "      <td>70.0</td>\n",
       "      <td>1</td>\n",
       "      <td>0</td>\n",
       "      <td>0</td>\n",
       "    </tr>\n",
       "    <tr>\n",
       "      <th>2</th>\n",
       "      <td>8.0</td>\n",
       "      <td>318.0</td>\n",
       "      <td>150.0</td>\n",
       "      <td>3436.0</td>\n",
       "      <td>11.0</td>\n",
       "      <td>70.0</td>\n",
       "      <td>1</td>\n",
       "      <td>0</td>\n",
       "      <td>0</td>\n",
       "    </tr>\n",
       "    <tr>\n",
       "      <th>3</th>\n",
       "      <td>8.0</td>\n",
       "      <td>304.0</td>\n",
       "      <td>150.0</td>\n",
       "      <td>3433.0</td>\n",
       "      <td>12.0</td>\n",
       "      <td>70.0</td>\n",
       "      <td>1</td>\n",
       "      <td>0</td>\n",
       "      <td>0</td>\n",
       "    </tr>\n",
       "    <tr>\n",
       "      <th>4</th>\n",
       "      <td>8.0</td>\n",
       "      <td>302.0</td>\n",
       "      <td>140.0</td>\n",
       "      <td>3449.0</td>\n",
       "      <td>10.5</td>\n",
       "      <td>70.0</td>\n",
       "      <td>1</td>\n",
       "      <td>0</td>\n",
       "      <td>0</td>\n",
       "    </tr>\n",
       "  </tbody>\n",
       "</table>\n",
       "</div>"
      ],
      "text/plain": [
       "   cylinders  displacement  horsepower  weight  acceleration  model_year  \\\n",
       "0        8.0         307.0       130.0  3504.0          12.0        70.0   \n",
       "1        8.0         350.0       165.0  3693.0          11.5        70.0   \n",
       "2        8.0         318.0       150.0  3436.0          11.0        70.0   \n",
       "3        8.0         304.0       150.0  3433.0          12.0        70.0   \n",
       "4        8.0         302.0       140.0  3449.0          10.5        70.0   \n",
       "\n",
       "   origin_1.0  origin_2.0  origin_3.0  \n",
       "0           1           0           0  \n",
       "1           1           0           0  \n",
       "2           1           0           0  \n",
       "3           1           0           0  \n",
       "4           1           0           0  "
      ]
     },
     "execution_count": 34,
     "metadata": {},
     "output_type": "execute_result"
    }
   ],
   "source": [
    "# Utiliser pd.get_dummies sur origin\n",
    "X_dt_wOrigin = dt[['cylinders', 'displacement','horsepower', 'weight', 'acceleration', 'model_year', 'origin']]\n",
    "X_dt_wOrigin_dummy = pd.get_dummies(X_dt_wOrigin, prefix='origin', columns=['origin'])\n",
    "\n",
    "# Visualiser les premières lignes ainsi obtenues\n",
    "X_dt_wOrigin_dummy.head()"
   ]
  },
  {
   "cell_type": "markdown",
   "metadata": {},
   "source": [
    "De là, nous pouvons appliquer un modèle de régression linéaire, sans constante, et comparer les coefficients de régression des trois origines (les valeurs étant de zéro ou un pour les trois origines, avec un un seulement pour une des trois à chaque ligne, les coefficients correspondant mesurent l'incrément sur la consommation total qu'il y a à connaître le pays d'origine du modèle):"
   ]
  },
  {
   "cell_type": "code",
   "execution_count": 35,
   "metadata": {},
   "outputs": [
    {
     "data": {
      "text/html": [
       "<div>\n",
       "<style>\n",
       "    .dataframe thead tr:only-child th {\n",
       "        text-align: right;\n",
       "    }\n",
       "\n",
       "    .dataframe thead th {\n",
       "        text-align: left;\n",
       "    }\n",
       "\n",
       "    .dataframe tbody tr th {\n",
       "        vertical-align: top;\n",
       "    }\n",
       "</style>\n",
       "<table border=\"1\" class=\"dataframe\">\n",
       "  <thead>\n",
       "    <tr style=\"text-align: right;\">\n",
       "      <th></th>\n",
       "      <th>coef_value</th>\n",
       "    </tr>\n",
       "  </thead>\n",
       "  <tbody>\n",
       "    <tr>\n",
       "      <th>cylinders</th>\n",
       "      <td>-0.489709</td>\n",
       "    </tr>\n",
       "    <tr>\n",
       "      <th>displacement</th>\n",
       "      <td>0.023979</td>\n",
       "    </tr>\n",
       "    <tr>\n",
       "      <th>horsepower</th>\n",
       "      <td>-0.018183</td>\n",
       "    </tr>\n",
       "    <tr>\n",
       "      <th>weight</th>\n",
       "      <td>-0.006710</td>\n",
       "    </tr>\n",
       "    <tr>\n",
       "      <th>acceleration</th>\n",
       "      <td>0.079103</td>\n",
       "    </tr>\n",
       "    <tr>\n",
       "      <th>model_year</th>\n",
       "      <td>0.777027</td>\n",
       "    </tr>\n",
       "    <tr>\n",
       "      <th>origin_1.0</th>\n",
       "      <td>-17.954602</td>\n",
       "    </tr>\n",
       "    <tr>\n",
       "      <th>origin_2.0</th>\n",
       "      <td>-15.324600</td>\n",
       "    </tr>\n",
       "    <tr>\n",
       "      <th>origin_3.0</th>\n",
       "      <td>-15.101374</td>\n",
       "    </tr>\n",
       "  </tbody>\n",
       "</table>\n",
       "</div>"
      ],
      "text/plain": [
       "              coef_value\n",
       "cylinders      -0.489709\n",
       "displacement    0.023979\n",
       "horsepower     -0.018183\n",
       "weight         -0.006710\n",
       "acceleration    0.079103\n",
       "model_year      0.777027\n",
       "origin_1.0    -17.954602\n",
       "origin_2.0    -15.324600\n",
       "origin_3.0    -15.101374"
      ]
     },
     "execution_count": 35,
     "metadata": {},
     "output_type": "execute_result"
    }
   ],
   "source": [
    "# Regression linéaire sur le nouveau dataset, sans constante\n",
    "skl_linmod_wOrigin = linear_model.LinearRegression(fit_intercept=False)\n",
    "skl_linmod_wOrigin.fit(X_dt_wOrigin_dummy, y)\n",
    "\n",
    "# Regrouper les noms de coefficients et leur valeur dans un dataFrame\n",
    "pd.DataFrame(index=X_dt_wOrigin_dummy.columns.values, data={'coef_value': skl_linmod_wOrigin.coef_})"
   ]
  },
  {
   "cell_type": "markdown",
   "metadata": {},
   "source": [
    "Du tableau précédent, il apparaît que je Japon (code 3) est le plus efficace en terme de consommation (maximise la mesure \"miles per gallon\")."
   ]
  },
  {
   "cell_type": "markdown",
   "metadata": {},
   "source": [
    "### 18) Intégrer la marque au modèle de régression:"
   ]
  },
  {
   "cell_type": "markdown",
   "metadata": {},
   "source": [
    "Tout d'abord, nous devons récupérer la marque des données brutes. Pour ce faire, il semble qu'il faille l'extraire du nom du véhicule. En effet, chaque nom de véhicule commence par le nom de la marque. Ainsi, nous pouvons créer la nouvelle feature marque comme quit:"
   ]
  },
  {
   "cell_type": "code",
   "execution_count": 36,
   "metadata": {
    "collapsed": true
   },
   "outputs": [],
   "source": [
    "dt['brand'] = dt['car_name'].str.replace(\"\\s.*\", \"\")"
   ]
  },
  {
   "cell_type": "markdown",
   "metadata": {},
   "source": [
    "Ensuite, comme précedemment, nous pouvons \"dummyfier\" la marque, appliquer une régression linéaire aux données et récupérer les coefficients pour déterminer quelle marque est la plus efficace (d'après la même méthodologie que précédemment) au regard de la consommation:"
   ]
  },
  {
   "cell_type": "code",
   "execution_count": 37,
   "metadata": {},
   "outputs": [
    {
     "name": "stdout",
     "output_type": "stream",
     "text": [
      "La marque la plus efficace au sens de la consommation est: vw\n"
     ]
    }
   ],
   "source": [
    "# Utiliser pd.get_dummies sur origin\n",
    "X_dt_wBrand = dt[['cylinders', 'displacement', 'horsepower',\n",
    "                  'weight', 'acceleration', 'model_year', 'brand']]\n",
    "X_dt_wBrand_dummy = pd.get_dummies(X_dt_wBrand, columns=['brand'])\n",
    "\n",
    "# Regression linéaire sur le nouveau dataset, sans constante\n",
    "skl_linmod_wBrand = linear_model.LinearRegression(fit_intercept=False)\n",
    "skl_linmod_wBrand.fit(X_dt_wBrand_dummy, y)\n",
    "\n",
    "# Regrouper les noms de coefficients et leur valeur dans un dataFrame\n",
    "res = pd.DataFrame(index=X_dt_wBrand_dummy.columns.values,\n",
    "                   data={'coef_value': skl_linmod_wBrand.coef_})\n",
    "res_brand = res[res.index.str.contains('brand')] # sélectionner seulement les colonnes marque\n",
    "print(\"La marque la plus efficace au sens de la consommation est:\",\n",
    "      res_brand[res_brand.coef_value == max(res_brand.coef_value)].index.str.split('_')[0][1])"
   ]
  },
  {
   "cell_type": "markdown",
   "metadata": {},
   "source": [
    "### 19) Obtenir numériquement la SVD de X:"
   ]
  },
  {
   "cell_type": "markdown",
   "metadata": {},
   "source": [
    "La librairie numpy permet de calculer numériquement la décomposition SVD:"
   ]
  },
  {
   "cell_type": "code",
   "execution_count": 38,
   "metadata": {
    "collapsed": true
   },
   "outputs": [],
   "source": [
    "# Récupérer les matrices de décomposition SVD\n",
    "U, s, V = np.linalg.svd(X_dt_num, full_matrices=False)"
   ]
  },
  {
   "cell_type": "markdown",
   "metadata": {},
   "source": [
    "Montrons numériquement que UU.T est un projecteur orthogonal, à savoir qu'elle est idempotente et qu'elle est symétrique:"
   ]
  },
  {
   "cell_type": "code",
   "execution_count": 39,
   "metadata": {},
   "outputs": [
    {
     "name": "stdout",
     "output_type": "stream",
     "text": [
      "UU.T est un projecteur orthogonal sur l'espace engendré par les lignes: True\n"
     ]
    }
   ],
   "source": [
    "# Definir le projecteur orthogonal\n",
    "H = U.dot(U.T)\n",
    "\n",
    "# Montrer l'idempotence\n",
    "idem = np.isclose(H.dot(H), H).all()\n",
    "\n",
    "# Montrer la symétrie\n",
    "sym = np.isclose(H, H.T).all()\n",
    "\n",
    "# Print du résultat\n",
    "print(\"UU.T est un projecteur orthogonal sur l'espace engendré par les lignes:\", idem*sym)"
   ]
  },
  {
   "cell_type": "markdown",
   "metadata": {},
   "source": [
    "### 20) Vecteur des leviers:"
   ]
  },
  {
   "cell_type": "markdown",
   "metadata": {},
   "source": [
    "La diagonale de H est appelé vecteur des leviers. Récupérons ces leviers pour les ajouter comme nouvelle variable:"
   ]
  },
  {
   "cell_type": "code",
   "execution_count": 40,
   "metadata": {},
   "outputs": [
    {
     "data": {
      "text/html": [
       "<div>\n",
       "<style>\n",
       "    .dataframe thead tr:only-child th {\n",
       "        text-align: right;\n",
       "    }\n",
       "\n",
       "    .dataframe thead th {\n",
       "        text-align: left;\n",
       "    }\n",
       "\n",
       "    .dataframe tbody tr th {\n",
       "        vertical-align: top;\n",
       "    }\n",
       "</style>\n",
       "<table border=\"1\" class=\"dataframe\">\n",
       "  <thead>\n",
       "    <tr style=\"text-align: right;\">\n",
       "      <th></th>\n",
       "      <th>mpg</th>\n",
       "      <th>cylinders</th>\n",
       "      <th>displacement</th>\n",
       "      <th>horsepower</th>\n",
       "      <th>weight</th>\n",
       "      <th>acceleration</th>\n",
       "      <th>model_year</th>\n",
       "      <th>origin</th>\n",
       "      <th>car_name</th>\n",
       "      <th>brand</th>\n",
       "      <th>leverage</th>\n",
       "    </tr>\n",
       "  </thead>\n",
       "  <tbody>\n",
       "    <tr>\n",
       "      <th>13</th>\n",
       "      <td>14.0</td>\n",
       "      <td>8.0</td>\n",
       "      <td>455.0</td>\n",
       "      <td>225.0</td>\n",
       "      <td>3086.0</td>\n",
       "      <td>10.0</td>\n",
       "      <td>70.0</td>\n",
       "      <td>1.0</td>\n",
       "      <td>buick estate wagon (sw)</td>\n",
       "      <td>buick</td>\n",
       "      <td>0.186476</td>\n",
       "    </tr>\n",
       "    <tr>\n",
       "      <th>28</th>\n",
       "      <td>9.0</td>\n",
       "      <td>8.0</td>\n",
       "      <td>304.0</td>\n",
       "      <td>193.0</td>\n",
       "      <td>4732.0</td>\n",
       "      <td>18.5</td>\n",
       "      <td>70.0</td>\n",
       "      <td>1.0</td>\n",
       "      <td>hi 1200d</td>\n",
       "      <td>hi</td>\n",
       "      <td>0.080754</td>\n",
       "    </tr>\n",
       "    <tr>\n",
       "      <th>8</th>\n",
       "      <td>14.0</td>\n",
       "      <td>8.0</td>\n",
       "      <td>455.0</td>\n",
       "      <td>225.0</td>\n",
       "      <td>4425.0</td>\n",
       "      <td>10.0</td>\n",
       "      <td>70.0</td>\n",
       "      <td>1.0</td>\n",
       "      <td>pontiac catalina</td>\n",
       "      <td>pontiac</td>\n",
       "      <td>0.061674</td>\n",
       "    </tr>\n",
       "  </tbody>\n",
       "</table>\n",
       "</div>"
      ],
      "text/plain": [
       "     mpg  cylinders  displacement  horsepower  weight  acceleration  \\\n",
       "13  14.0        8.0         455.0       225.0  3086.0          10.0   \n",
       "28   9.0        8.0         304.0       193.0  4732.0          18.5   \n",
       "8   14.0        8.0         455.0       225.0  4425.0          10.0   \n",
       "\n",
       "    model_year  origin                 car_name    brand  leverage  \n",
       "13        70.0     1.0  buick estate wagon (sw)    buick  0.186476  \n",
       "28        70.0     1.0                 hi 1200d       hi  0.080754  \n",
       "8         70.0     1.0         pontiac catalina  pontiac  0.061674  "
      ]
     },
     "execution_count": 40,
     "metadata": {},
     "output_type": "execute_result"
    }
   ],
   "source": [
    "# Récupérer le vecteur des leviers\n",
    "vect_lev = np.diag(H)\n",
    "\n",
    "# Ajouter à la matrice initiale\n",
    "dt_lev = pd.concat([dt.reset_index(drop=True), pd.DataFrame({'leverage': vect_lev})], axis=1)\n",
    "dt_lev.sort_values(by='leverage', ascending=False).head(3)"
   ]
  },
  {
   "cell_type": "markdown",
   "metadata": {},
   "source": [
    "Je ne sais pas en quoi ces modèles sont atypiques."
   ]
  }
 ],
 "metadata": {
  "kernelspec": {
   "display_name": "Python 3",
   "language": "python",
   "name": "python3"
  },
  "language_info": {
   "codemirror_mode": {
    "name": "ipython",
    "version": 3
   },
   "file_extension": ".py",
   "mimetype": "text/x-python",
   "name": "python",
   "nbconvert_exporter": "python",
   "pygments_lexer": "ipython3",
   "version": "3.6.1"
  }
 },
 "nbformat": 4,
 "nbformat_minor": 2
}
