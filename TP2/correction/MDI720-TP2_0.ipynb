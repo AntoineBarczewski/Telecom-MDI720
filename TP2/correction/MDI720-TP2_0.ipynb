{
 "cells": [
  {
   "cell_type": "markdown",
   "metadata": {},
   "source": [
    "# TP2 Statistiques"
   ]
  },
  {
   "cell_type": "markdown",
   "metadata": {},
   "source": [
    "## Exercice 1"
   ]
  },
  {
   "cell_type": "markdown",
   "metadata": {},
   "source": [
    "Import des packages"
   ]
  },
  {
   "cell_type": "code",
   "execution_count": 1,
   "metadata": {
    "collapsed": true
   },
   "outputs": [],
   "source": [
    "import math\n",
    "import numpy as np\n",
    "from sklearn import linear_model\n",
    "from os import mkdir\n",
    "import timeit as tm\n",
    "import random\n",
    "from os import path\n",
    "import pandas as pd\n",
    "import urllib\n",
    "import zipfile\n",
    "import matplotlib.pyplot as plt\n",
    "import seaborn as sb\n",
    "from sklearn.neighbors import KernelDensity\n",
    "import matplotlib.patches as mpatches\n",
    "from sklearn.linear_model import LinearRegression\n",
    "import io\n",
    "import requests\n",
    "from sklearn import preprocessing\n",
    "from sklearn.preprocessing import PolynomialFeatures\n",
    "from sklearn.pipeline import Pipeline\n",
    "import sys"
   ]
  },
  {
   "cell_type": "markdown",
   "metadata": {},
   "source": [
    "# Question 1"
   ]
  },
  {
   "cell_type": "code",
   "execution_count": 5,
   "metadata": {},
   "outputs": [
    {
     "data": {
      "text/html": [
       "<div>\n",
       "<style>\n",
       "    .dataframe thead tr:only-child th {\n",
       "        text-align: right;\n",
       "    }\n",
       "\n",
       "    .dataframe thead th {\n",
       "        text-align: left;\n",
       "    }\n",
       "\n",
       "    .dataframe tbody tr th {\n",
       "        vertical-align: top;\n",
       "    }\n",
       "</style>\n",
       "<table border=\"1\" class=\"dataframe\">\n",
       "  <thead>\n",
       "    <tr style=\"text-align: right;\">\n",
       "      <th></th>\n",
       "      <th>FAMILY</th>\n",
       "      <th>FATHER</th>\n",
       "      <th>MOTHER</th>\n",
       "      <th>GENDER</th>\n",
       "      <th>HEIGHT</th>\n",
       "      <th>KIDS</th>\n",
       "    </tr>\n",
       "  </thead>\n",
       "  <tbody>\n",
       "    <tr>\n",
       "      <th>0</th>\n",
       "      <td>1</td>\n",
       "      <td>199</td>\n",
       "      <td>170</td>\n",
       "      <td>M</td>\n",
       "      <td>186</td>\n",
       "      <td>4</td>\n",
       "    </tr>\n",
       "    <tr>\n",
       "      <th>1</th>\n",
       "      <td>1</td>\n",
       "      <td>199</td>\n",
       "      <td>170</td>\n",
       "      <td>F</td>\n",
       "      <td>176</td>\n",
       "      <td>4</td>\n",
       "    </tr>\n",
       "    <tr>\n",
       "      <th>2</th>\n",
       "      <td>1</td>\n",
       "      <td>199</td>\n",
       "      <td>170</td>\n",
       "      <td>F</td>\n",
       "      <td>175</td>\n",
       "      <td>4</td>\n",
       "    </tr>\n",
       "    <tr>\n",
       "      <th>3</th>\n",
       "      <td>1</td>\n",
       "      <td>199</td>\n",
       "      <td>170</td>\n",
       "      <td>F</td>\n",
       "      <td>175</td>\n",
       "      <td>4</td>\n",
       "    </tr>\n",
       "    <tr>\n",
       "      <th>4</th>\n",
       "      <td>2</td>\n",
       "      <td>192</td>\n",
       "      <td>169</td>\n",
       "      <td>M</td>\n",
       "      <td>187</td>\n",
       "      <td>4</td>\n",
       "    </tr>\n",
       "  </tbody>\n",
       "</table>\n",
       "</div>"
      ],
      "text/plain": [
       "  FAMILY  FATHER  MOTHER GENDER  HEIGHT  KIDS\n",
       "0      1     199     170      M     186     4\n",
       "1      1     199     170      F     176     4\n",
       "2      1     199     170      F     175     4\n",
       "3      1     199     170      F     175     4\n",
       "4      2     192     169      M     187     4"
      ]
     },
     "execution_count": 5,
     "metadata": {},
     "output_type": "execute_result"
    }
   ],
   "source": [
    "data = pd.read_csv('http://josephsalmon.eu/enseignement/TELECOM/MDI720/datasets/Galton.txt', header = 0, sep = '\\t', names=['FAMILY','FATHER','MOTHER','GENDER','HEIGHT','KIDS'])\n",
    "#data.HEIGHT.apply(np.round)\n",
    "tailles = ['FATHER','MOTHER', 'HEIGHT']\n",
    "data[tailles] = data[tailles].astype(float)\n",
    "data[tailles] = data[tailles]*2.54\n",
    "data[tailles] = data[tailles].round()\n",
    "data[tailles] = data[tailles].astype(int)\n",
    "data.head()"
   ]
  },
  {
   "cell_type": "markdown",
   "metadata": {},
   "source": [
    "# Question 2"
   ]
  },
  {
   "cell_type": "code",
   "execution_count": 10,
   "metadata": {},
   "outputs": [
    {
     "data": {
      "text/plain": [
       "(898, 6)"
      ]
     },
     "execution_count": 10,
     "metadata": {},
     "output_type": "execute_result"
    }
   ],
   "source": [
    "dfWithoutNa.shape"
   ]
  },
  {
   "cell_type": "code",
   "execution_count": 6,
   "metadata": {},
   "outputs": [
    {
     "name": "stdout",
     "output_type": "stream",
     "text": [
      "Il y a 0 valeur manquante\n"
     ]
    }
   ],
   "source": [
    "# Nombre de valeurs manquantes\n",
    "nulltable = data.isnull().any(1) \n",
    "nullnumber = nulltable.sum() \n",
    "\n",
    "#Supprime toutes les lignes où il manque des données\n",
    "dfWithoutNa = data.dropna(how='any') \n",
    "print(\"Il y a \" + str(nullnumber) + \" valeur manquante\")"
   ]
  },
  {
   "cell_type": "markdown",
   "metadata": {},
   "source": [
    "# Question 3"
   ]
  },
  {
   "cell_type": "code",
   "execution_count": 12,
   "metadata": {},
   "outputs": [
    {
     "data": {
      "text/plain": [
       "<matplotlib.figure.Figure at 0x7f41b7bdad30>"
      ]
     },
     "metadata": {},
     "output_type": "display_data"
    },
    {
     "data": {
      "image/png": "[encoded data removed]",
      "text/plain": [
       "<matplotlib.figure.Figure at 0x7f41b7368cf8>"
      ]
     },
     "metadata": {},
     "output_type": "display_data"
    }
   ],
   "source": [
    "# Enlève les redondances des parents\n",
    "df = data.drop_duplicates(subset=['FAMILY'], keep=\"last\")\n",
    "\n",
    "fig = plt.figure()\n",
    "df.FATHER.plot.kde(color=\"blue\")\n",
    "df.MOTHER.plot.kde(color=\"orange\")\n",
    "father_patch = mpatches.Patch(color='blue', label='Father height')\n",
    "mother_patch = mpatches.Patch(color='orange', label='Mother height')\n",
    "plt.legend(handles=[father_patch,mother_patch])\n",
    "plt.title(\"Estimateurs de la densité des tailles des pères et des mères\")\n",
    "plt.show()"
   ]
  },
  {
   "cell_type": "markdown",
   "metadata": {},
   "source": [
    "# Question 4"
   ]
  },
  {
   "cell_type": "code",
   "execution_count": 13,
   "metadata": {},
   "outputs": [
    {
     "data": {
      "image/png": "[encoded data removed]",
      "text/plain": [
       "<matplotlib.figure.Figure at 0x7f41d7f584e0>"
      ]
     },
     "metadata": {},
     "output_type": "display_data"
    }
   ],
   "source": [
    "# Plot taille père en fonction taille mère\n",
    "fig4 = plt.figure()\n",
    "x = df['MOTHER']\n",
    "y = df['FATHER']\n",
    "fit = np.polyfit(x,y,1)\n",
    "fit_fn = np.poly1d(fit) \n",
    "#plt.scatter(x,y)\n",
    "plt.plot(x,y, 'yo', x, fit_fn(x), '--k')\n",
    "plt.xlabel('Taille mère en cm', fontsize=12)\n",
    "plt.ylabel('Taille père en cm', fontsize=12)\n",
    "plt.title(\"Taille des pères en fonction de la taille des mères\")\n",
    "plt.show()"
   ]
  },
  {
   "cell_type": "markdown",
   "metadata": {},
   "source": [
    "# Question 5"
   ]
  },
  {
   "cell_type": "code",
   "execution_count": 14,
   "metadata": {},
   "outputs": [
    {
     "data": {
      "text/plain": [
       "<matplotlib.figure.Figure at 0x7f41b7368780>"
      ]
     },
     "metadata": {},
     "output_type": "display_data"
    },
    {
     "data": {
      "image/png": "[encoded data removed]",
      "text/plain": [
       "<matplotlib.figure.Figure at 0x7f41b4370a90>"
      ]
     },
     "metadata": {},
     "output_type": "display_data"
    }
   ],
   "source": [
    "# Histogramme des enfants\n",
    "figure5 = plt.figure()\n",
    "df.hist(column='KIDS', bins=30)\n",
    "plt.xticks(range(16))\n",
    "plt.xlabel(\"Nombre d'enfants par famille\", fontsize=12)\n",
    "plt.title(\"Répartition du nombre d'enfants par famille\")\n",
    "plt.show()"
   ]
  },
  {
   "cell_type": "markdown",
   "metadata": {},
   "source": [
    "# QUESTION 6"
   ]
  },
  {
   "cell_type": "code",
   "execution_count": 15,
   "metadata": {},
   "outputs": [
    {
     "name": "stderr",
     "output_type": "stream",
     "text": [
      "/home/antoine/anaconda3/lib/python3.6/site-packages/ipykernel_launcher.py:3: SettingWithCopyWarning: \n",
      "A value is trying to be set on a copy of a slice from a DataFrame.\n",
      "Try using .loc[row_indexer,col_indexer] = value instead\n",
      "\n",
      "See the caveats in the documentation: http://pandas.pydata.org/pandas-docs/stable/indexing.html#indexing-view-versus-copy\n",
      "  This is separate from the ipykernel package so we can avoid doing imports until\n"
     ]
    },
    {
     "data": {
      "text/html": [
       "<div>\n",
       "<style>\n",
       "    .dataframe thead tr:only-child th {\n",
       "        text-align: right;\n",
       "    }\n",
       "\n",
       "    .dataframe thead th {\n",
       "        text-align: left;\n",
       "    }\n",
       "\n",
       "    .dataframe tbody tr th {\n",
       "        vertical-align: top;\n",
       "    }\n",
       "</style>\n",
       "<table border=\"1\" class=\"dataframe\">\n",
       "  <thead>\n",
       "    <tr style=\"text-align: right;\">\n",
       "      <th></th>\n",
       "      <th>FAMILY</th>\n",
       "      <th>FATHER</th>\n",
       "      <th>MOTHER</th>\n",
       "      <th>GENDER</th>\n",
       "      <th>HEIGHT</th>\n",
       "      <th>KIDS</th>\n",
       "      <th>MidParents</th>\n",
       "    </tr>\n",
       "  </thead>\n",
       "  <tbody>\n",
       "    <tr>\n",
       "      <th>0</th>\n",
       "      <td>1</td>\n",
       "      <td>199</td>\n",
       "      <td>170</td>\n",
       "      <td>M</td>\n",
       "      <td>186</td>\n",
       "      <td>4</td>\n",
       "      <td>191.30</td>\n",
       "    </tr>\n",
       "    <tr>\n",
       "      <th>1</th>\n",
       "      <td>1</td>\n",
       "      <td>199</td>\n",
       "      <td>170</td>\n",
       "      <td>F</td>\n",
       "      <td>176</td>\n",
       "      <td>4</td>\n",
       "      <td>191.30</td>\n",
       "    </tr>\n",
       "    <tr>\n",
       "      <th>2</th>\n",
       "      <td>1</td>\n",
       "      <td>199</td>\n",
       "      <td>170</td>\n",
       "      <td>F</td>\n",
       "      <td>175</td>\n",
       "      <td>4</td>\n",
       "      <td>191.30</td>\n",
       "    </tr>\n",
       "    <tr>\n",
       "      <th>3</th>\n",
       "      <td>1</td>\n",
       "      <td>199</td>\n",
       "      <td>170</td>\n",
       "      <td>F</td>\n",
       "      <td>175</td>\n",
       "      <td>4</td>\n",
       "      <td>191.30</td>\n",
       "    </tr>\n",
       "    <tr>\n",
       "      <th>4</th>\n",
       "      <td>2</td>\n",
       "      <td>192</td>\n",
       "      <td>169</td>\n",
       "      <td>M</td>\n",
       "      <td>187</td>\n",
       "      <td>4</td>\n",
       "      <td>187.26</td>\n",
       "    </tr>\n",
       "  </tbody>\n",
       "</table>\n",
       "</div>"
      ],
      "text/plain": [
       "  FAMILY  FATHER  MOTHER GENDER  HEIGHT  KIDS  MidParents\n",
       "0      1     199     170      M     186     4      191.30\n",
       "1      1     199     170      F     176     4      191.30\n",
       "2      1     199     170      F     175     4      191.30\n",
       "3      1     199     170      F     175     4      191.30\n",
       "4      2     192     169      M     187     4      187.26"
      ]
     },
     "execution_count": 15,
     "metadata": {},
     "output_type": "execute_result"
    }
   ],
   "source": [
    "#Creation d'une nouvelle colonne qui donne une valeur à chaque enfant d'une moyenne des tailles de leur parents\n",
    "data['MidParents'] = (data.FATHER + 1.08*data.MOTHER)/2.\n",
    "df['MidParents'] = (df.FATHER + 1.08*df.MOTHER)/2.\n",
    "data.head()"
   ]
  },
  {
   "cell_type": "markdown",
   "metadata": {},
   "source": [
    "# Question 7"
   ]
  },
  {
   "cell_type": "markdown",
   "metadata": {},
   "source": [
    "Estimation de θ0 , θ1 , par θˆ0 , θˆ1 en utilisant la fonction LinearRegression de sklearn"
   ]
  },
  {
   "cell_type": "code",
   "execution_count": 16,
   "metadata": {},
   "outputs": [
    {
     "name": "stdout",
     "output_type": "stream",
     "text": [
      "\n",
      "L'estimation de θ0 est : 58.255916588\n",
      "L'estimation de θ1 est : 0.633093766663\n",
      "\n",
      "Avons-nous égalité entre l'estimation de teta0 et son calcul numérique? True\n",
      "Avons-nous égalité entre l'estimation de teta1 et son calcul numérique? True\n"
     ]
    }
   ],
   "source": [
    "X = data['MidParents'].values.reshape(len(data['MidParents']),1)\n",
    "lm = LinearRegression()\n",
    "lm.fit(X,data.HEIGHT)\n",
    "meanmidparents=data['MidParents'].mean()\n",
    "meanheight=data['HEIGHT'].mean()\n",
    "teta1=((data['MidParents']-meanmidparents)*(data['HEIGHT']-meanheight)).sum()/((data['MidParents']-meanmidparents)**2).sum()\n",
    "teta0=meanheight-teta1*meanmidparents\n",
    "print(\"\\nL'estimation de θ0 est : \" + str(lm.intercept_) + \"\\nL'estimation de θ1 est : \"+str(lm.coef_[0])+\"\\n\")\n",
    "\n",
    "print(\"Avons-nous égalité entre l'estimation de teta0 et son calcul numérique? \" + str(np.isclose(teta0, lm.intercept_, atol=0.001)))\n",
    "print(\"Avons-nous égalité entre l'estimation de teta1 et son calcul numérique? \" + str(np.isclose(teta1, lm.coef_[0], atol=0.001)))"
   ]
  },
  {
   "cell_type": "markdown",
   "metadata": {},
   "source": [
    "# Question 8"
   ]
  },
  {
   "cell_type": "code",
   "execution_count": 17,
   "metadata": {},
   "outputs": [
    {
     "data": {
      "text/html": [
       "<div>\n",
       "<style>\n",
       "    .dataframe thead tr:only-child th {\n",
       "        text-align: right;\n",
       "    }\n",
       "\n",
       "    .dataframe thead th {\n",
       "        text-align: left;\n",
       "    }\n",
       "\n",
       "    .dataframe tbody tr th {\n",
       "        vertical-align: top;\n",
       "    }\n",
       "</style>\n",
       "<table border=\"1\" class=\"dataframe\">\n",
       "  <thead>\n",
       "    <tr style=\"text-align: right;\">\n",
       "      <th></th>\n",
       "      <th>FAMILY</th>\n",
       "      <th>FATHER</th>\n",
       "      <th>MOTHER</th>\n",
       "      <th>GENDER</th>\n",
       "      <th>HEIGHT</th>\n",
       "      <th>KIDS</th>\n",
       "      <th>MidParents</th>\n",
       "      <th>EstimatedHeight</th>\n",
       "    </tr>\n",
       "  </thead>\n",
       "  <tbody>\n",
       "    <tr>\n",
       "      <th>0</th>\n",
       "      <td>1</td>\n",
       "      <td>199</td>\n",
       "      <td>170</td>\n",
       "      <td>M</td>\n",
       "      <td>186</td>\n",
       "      <td>4</td>\n",
       "      <td>191.30</td>\n",
       "      <td>179.366754</td>\n",
       "    </tr>\n",
       "    <tr>\n",
       "      <th>1</th>\n",
       "      <td>1</td>\n",
       "      <td>199</td>\n",
       "      <td>170</td>\n",
       "      <td>F</td>\n",
       "      <td>176</td>\n",
       "      <td>4</td>\n",
       "      <td>191.30</td>\n",
       "      <td>179.366754</td>\n",
       "    </tr>\n",
       "    <tr>\n",
       "      <th>2</th>\n",
       "      <td>1</td>\n",
       "      <td>199</td>\n",
       "      <td>170</td>\n",
       "      <td>F</td>\n",
       "      <td>175</td>\n",
       "      <td>4</td>\n",
       "      <td>191.30</td>\n",
       "      <td>179.366754</td>\n",
       "    </tr>\n",
       "    <tr>\n",
       "      <th>3</th>\n",
       "      <td>1</td>\n",
       "      <td>199</td>\n",
       "      <td>170</td>\n",
       "      <td>F</td>\n",
       "      <td>175</td>\n",
       "      <td>4</td>\n",
       "      <td>191.30</td>\n",
       "      <td>179.366754</td>\n",
       "    </tr>\n",
       "    <tr>\n",
       "      <th>4</th>\n",
       "      <td>2</td>\n",
       "      <td>192</td>\n",
       "      <td>169</td>\n",
       "      <td>M</td>\n",
       "      <td>187</td>\n",
       "      <td>4</td>\n",
       "      <td>187.26</td>\n",
       "      <td>176.809055</td>\n",
       "    </tr>\n",
       "  </tbody>\n",
       "</table>\n",
       "</div>"
      ],
      "text/plain": [
       "  FAMILY  FATHER  MOTHER GENDER  HEIGHT  KIDS  MidParents  EstimatedHeight\n",
       "0      1     199     170      M     186     4      191.30       179.366754\n",
       "1      1     199     170      F     176     4      191.30       179.366754\n",
       "2      1     199     170      F     175     4      191.30       179.366754\n",
       "3      1     199     170      F     175     4      191.30       179.366754\n",
       "4      2     192     169      M     187     4      187.26       176.809055"
      ]
     },
     "execution_count": 17,
     "metadata": {},
     "output_type": "execute_result"
    }
   ],
   "source": [
    "data['EstimatedHeight']=teta0+teta1*data['MidParents']\n",
    "girls = data.loc[data['GENDER'] == 'F']\n",
    "boys = data.loc[data['GENDER'] == 'M']\n",
    "data.head()"
   ]
  },
  {
   "cell_type": "code",
   "execution_count": 18,
   "metadata": {},
   "outputs": [
    {
     "data": {
      "image/png": "[encoded data removed]",
      "text/plain": [
       "<matplotlib.figure.Figure at 0x7f41b4eb4f98>"
      ]
     },
     "metadata": {},
     "output_type": "display_data"
    }
   ],
   "source": [
    "fig5=plt.figure()\n",
    "plt.scatter(girls['HEIGHT'],girls['MidParents'],color='pink', label=\"Tailles réelles des filles\")\n",
    "plt.scatter(boys['HEIGHT'],boys['MidParents'],color='royalblue', label=\"Tailles réelles des garcons\")\n",
    "\n",
    "plt.plot(data['EstimatedHeight'],data['MidParents'],color='b',label=\"Droite de prédiction des tailles\")\n",
    "plt.title(\"Tailles des enfants en fonction d'une moyenne de taille de leur parents\")\n",
    "plt.legend(bbox_to_anchor = (1, 0.5))\n",
    "plt.show()"
   ]
  },
  {
   "cell_type": "markdown",
   "metadata": {},
   "source": [
    "# Question 9"
   ]
  },
  {
   "cell_type": "markdown",
   "metadata": {},
   "source": [
    "Calculs des résidus : R = EstimatedHeight - Height"
   ]
  },
  {
   "cell_type": "markdown",
   "metadata": {},
   "source": [
    "L'hypothèse que la densité des résidus suit une loi normale me parait crédible car c'est l'addition de deux lois normales indépendantes."
   ]
  },
  {
   "cell_type": "code",
   "execution_count": 19,
   "metadata": {},
   "outputs": [
    {
     "data": {
      "text/html": [
       "<div>\n",
       "<style>\n",
       "    .dataframe thead tr:only-child th {\n",
       "        text-align: right;\n",
       "    }\n",
       "\n",
       "    .dataframe thead th {\n",
       "        text-align: left;\n",
       "    }\n",
       "\n",
       "    .dataframe tbody tr th {\n",
       "        vertical-align: top;\n",
       "    }\n",
       "</style>\n",
       "<table border=\"1\" class=\"dataframe\">\n",
       "  <thead>\n",
       "    <tr style=\"text-align: right;\">\n",
       "      <th></th>\n",
       "      <th>FAMILY</th>\n",
       "      <th>FATHER</th>\n",
       "      <th>MOTHER</th>\n",
       "      <th>GENDER</th>\n",
       "      <th>HEIGHT</th>\n",
       "      <th>KIDS</th>\n",
       "      <th>MidParents</th>\n",
       "      <th>EstimatedHeight</th>\n",
       "      <th>RESIDUS</th>\n",
       "    </tr>\n",
       "  </thead>\n",
       "  <tbody>\n",
       "    <tr>\n",
       "      <th>0</th>\n",
       "      <td>1</td>\n",
       "      <td>199</td>\n",
       "      <td>170</td>\n",
       "      <td>M</td>\n",
       "      <td>186</td>\n",
       "      <td>4</td>\n",
       "      <td>191.30</td>\n",
       "      <td>179.366754</td>\n",
       "      <td>6.633246</td>\n",
       "    </tr>\n",
       "    <tr>\n",
       "      <th>1</th>\n",
       "      <td>1</td>\n",
       "      <td>199</td>\n",
       "      <td>170</td>\n",
       "      <td>F</td>\n",
       "      <td>176</td>\n",
       "      <td>4</td>\n",
       "      <td>191.30</td>\n",
       "      <td>179.366754</td>\n",
       "      <td>-3.366754</td>\n",
       "    </tr>\n",
       "    <tr>\n",
       "      <th>2</th>\n",
       "      <td>1</td>\n",
       "      <td>199</td>\n",
       "      <td>170</td>\n",
       "      <td>F</td>\n",
       "      <td>175</td>\n",
       "      <td>4</td>\n",
       "      <td>191.30</td>\n",
       "      <td>179.366754</td>\n",
       "      <td>-4.366754</td>\n",
       "    </tr>\n",
       "    <tr>\n",
       "      <th>3</th>\n",
       "      <td>1</td>\n",
       "      <td>199</td>\n",
       "      <td>170</td>\n",
       "      <td>F</td>\n",
       "      <td>175</td>\n",
       "      <td>4</td>\n",
       "      <td>191.30</td>\n",
       "      <td>179.366754</td>\n",
       "      <td>-4.366754</td>\n",
       "    </tr>\n",
       "    <tr>\n",
       "      <th>4</th>\n",
       "      <td>2</td>\n",
       "      <td>192</td>\n",
       "      <td>169</td>\n",
       "      <td>M</td>\n",
       "      <td>187</td>\n",
       "      <td>4</td>\n",
       "      <td>187.26</td>\n",
       "      <td>176.809055</td>\n",
       "      <td>10.190945</td>\n",
       "    </tr>\n",
       "  </tbody>\n",
       "</table>\n",
       "</div>"
      ],
      "text/plain": [
       "  FAMILY  FATHER  MOTHER GENDER  HEIGHT  KIDS  MidParents  EstimatedHeight  \\\n",
       "0      1     199     170      M     186     4      191.30       179.366754   \n",
       "1      1     199     170      F     176     4      191.30       179.366754   \n",
       "2      1     199     170      F     175     4      191.30       179.366754   \n",
       "3      1     199     170      F     175     4      191.30       179.366754   \n",
       "4      2     192     169      M     187     4      187.26       176.809055   \n",
       "\n",
       "     RESIDUS  \n",
       "0   6.633246  \n",
       "1  -3.366754  \n",
       "2  -4.366754  \n",
       "3  -4.366754  \n",
       "4  10.190945  "
      ]
     },
     "execution_count": 19,
     "metadata": {},
     "output_type": "execute_result"
    }
   ],
   "source": [
    "data['RESIDUS'] = data['HEIGHT'] - data['EstimatedHeight']\n",
    "data.head()"
   ]
  },
  {
   "cell_type": "code",
   "execution_count": 20,
   "metadata": {},
   "outputs": [
    {
     "name": "stdout",
     "output_type": "stream",
     "text": [
      "Il y a 51.78% de garcons et 48.22% de filles dans l'échantillon\n"
     ]
    }
   ],
   "source": [
    "boys = data.loc[data['GENDER'] == 'M']\n",
    "girls = data.loc[data['GENDER'] == 'F']\n",
    "alphab = len(boys.HEIGHT)/len(data.HEIGHT)\n",
    "alphag = len(girls.HEIGHT)/len(data.HEIGHT)\n",
    "print(\"Il y a \" +str(round(alphab*100,2))+\"% de garcons et \"+str(round(alphag*100,2))+\"% de filles dans l'échantillon\")"
   ]
  },
  {
   "cell_type": "code",
   "execution_count": 21,
   "metadata": {},
   "outputs": [
    {
     "data": {
      "image/png": "[encoded data removed]",
      "text/plain": [
       "<matplotlib.figure.Figure at 0x7f41b41ffbe0>"
      ]
     },
     "metadata": {},
     "output_type": "display_data"
    }
   ],
   "source": [
    "from scipy.stats import gaussian_kde\n",
    "figure9 = plt.figure()\n",
    "density = gaussian_kde(data.RESIDUS)\n",
    "densityb = gaussian_kde(boys.RESIDUS)\n",
    "densityg = gaussian_kde(girls.RESIDUS)\n",
    "xs = np.r_[data.RESIDUS.min():data.RESIDUS.max():128j]\n",
    "residus_patch = mpatches.Patch(color='black', label='residus')\n",
    "boys_patch = mpatches.Patch(color='blue', label='residus garçons')\n",
    "girls_patch = mpatches.Patch(color='pink', label='residus filles')\n",
    "plt.plot(xs,density(xs),color = 'black')\n",
    "plt.plot(xs,alphab*densityb(xs),color = 'blue')\n",
    "plt.plot(xs,alphag*densityg(xs),color='pink')\n",
    "plt.legend(handles=[residus_patch,boys_patch,girls_patch])\n",
    "plt.title(\"Courbe de densité de répartition des résidus dans les différents groupes d'individus\")\n",
    "plt.show()"
   ]
  },
  {
   "cell_type": "markdown",
   "metadata": {},
   "source": [
    "# Question 10"
   ]
  },
  {
   "cell_type": "code",
   "execution_count": 22,
   "metadata": {},
   "outputs": [
    {
     "name": "stdout",
     "output_type": "stream",
     "text": [
      "\n",
      "L'estimation de α0 est : 148.437160448\n",
      "L'estimation de α1 est : 0.161490302931\n",
      "\n",
      "Avons-nous égalité entre l'estimation de α0 et son calcul numérique? True\n",
      "Avons-nous égalité entre l'estimation de α1 et son calcul numérique? True\n"
     ]
    }
   ],
   "source": [
    "Y = data['HEIGHT'].values.reshape(len(data['HEIGHT']),1)\n",
    "lm = LinearRegression()\n",
    "lm.fit(Y,data.MidParents)\n",
    "meanmidparents=data['MidParents'].mean()\n",
    "meanheight=data['HEIGHT'].mean()\n",
    "varparents = np.var(data['MidParents'])\n",
    "varheight = np.var(data['HEIGHT'])\n",
    "\n",
    "alpha0 = meanmidparents + meanheight*varparents*(teta0 - meanheight)/(meanmidparents*varheight)\n",
    "alpha1 = teta1*varparents/varheight\n",
    "\n",
    "np.isclose(alpha0, lm.intercept_, atol=0.001)\n",
    "print(\"\\nL'estimation de α0 est : \" + str(lm.intercept_) + \"\\nL'estimation de α1 est : \"+str(lm.coef_[0])+\"\\n\")\n",
    "\n",
    "print(\"Avons-nous égalité entre l'estimation de α0 et son calcul numérique? \" + str(np.isclose(alpha0, lm.intercept_, atol=0.001)))\n",
    "print(\"Avons-nous égalité entre l'estimation de α1 et son calcul numérique? \" + str(np.isclose(alpha1, lm.coef_[0], atol=0.001)))"
   ]
  },
  {
   "cell_type": "markdown",
   "metadata": {
    "collapsed": true
   },
   "source": [
    "## Exercice 2"
   ]
  },
  {
   "cell_type": "markdown",
   "metadata": {},
   "source": [
    "# Question 11"
   ]
  },
  {
   "cell_type": "code",
   "execution_count": 23,
   "metadata": {},
   "outputs": [
    {
     "data": {
      "text/html": [
       "<div>\n",
       "<style>\n",
       "    .dataframe thead tr:only-child th {\n",
       "        text-align: right;\n",
       "    }\n",
       "\n",
       "    .dataframe thead th {\n",
       "        text-align: left;\n",
       "    }\n",
       "\n",
       "    .dataframe tbody tr th {\n",
       "        vertical-align: top;\n",
       "    }\n",
       "</style>\n",
       "<table border=\"1\" class=\"dataframe\">\n",
       "  <thead>\n",
       "    <tr style=\"text-align: right;\">\n",
       "      <th></th>\n",
       "      <th>mpg</th>\n",
       "      <th>cylinders</th>\n",
       "      <th>displacement</th>\n",
       "      <th>horse power</th>\n",
       "      <th>weight</th>\n",
       "      <th>acceleration</th>\n",
       "      <th>model year</th>\n",
       "      <th>origin</th>\n",
       "      <th>car name</th>\n",
       "    </tr>\n",
       "  </thead>\n",
       "  <tbody>\n",
       "    <tr>\n",
       "      <th>0</th>\n",
       "      <td>18.0</td>\n",
       "      <td>8.0</td>\n",
       "      <td>307.0</td>\n",
       "      <td>130.0</td>\n",
       "      <td>3504.0</td>\n",
       "      <td>12.0</td>\n",
       "      <td>70.0</td>\n",
       "      <td>1.0</td>\n",
       "      <td>chevrolet chevelle malibu</td>\n",
       "    </tr>\n",
       "    <tr>\n",
       "      <th>1</th>\n",
       "      <td>15.0</td>\n",
       "      <td>8.0</td>\n",
       "      <td>350.0</td>\n",
       "      <td>165.0</td>\n",
       "      <td>3693.0</td>\n",
       "      <td>11.5</td>\n",
       "      <td>70.0</td>\n",
       "      <td>1.0</td>\n",
       "      <td>buick skylark 320</td>\n",
       "    </tr>\n",
       "    <tr>\n",
       "      <th>2</th>\n",
       "      <td>18.0</td>\n",
       "      <td>8.0</td>\n",
       "      <td>318.0</td>\n",
       "      <td>150.0</td>\n",
       "      <td>3436.0</td>\n",
       "      <td>11.0</td>\n",
       "      <td>70.0</td>\n",
       "      <td>1.0</td>\n",
       "      <td>plymouth satellite</td>\n",
       "    </tr>\n",
       "    <tr>\n",
       "      <th>3</th>\n",
       "      <td>16.0</td>\n",
       "      <td>8.0</td>\n",
       "      <td>304.0</td>\n",
       "      <td>150.0</td>\n",
       "      <td>3433.0</td>\n",
       "      <td>12.0</td>\n",
       "      <td>70.0</td>\n",
       "      <td>1.0</td>\n",
       "      <td>amc rebel sst</td>\n",
       "    </tr>\n",
       "    <tr>\n",
       "      <th>4</th>\n",
       "      <td>17.0</td>\n",
       "      <td>8.0</td>\n",
       "      <td>302.0</td>\n",
       "      <td>140.0</td>\n",
       "      <td>3449.0</td>\n",
       "      <td>10.5</td>\n",
       "      <td>70.0</td>\n",
       "      <td>1.0</td>\n",
       "      <td>ford torino</td>\n",
       "    </tr>\n",
       "  </tbody>\n",
       "</table>\n",
       "</div>"
      ],
      "text/plain": [
       "    mpg  cylinders  displacement  horse power  weight  acceleration  \\\n",
       "0  18.0        8.0         307.0        130.0  3504.0          12.0   \n",
       "1  15.0        8.0         350.0        165.0  3693.0          11.5   \n",
       "2  18.0        8.0         318.0        150.0  3436.0          11.0   \n",
       "3  16.0        8.0         304.0        150.0  3433.0          12.0   \n",
       "4  17.0        8.0         302.0        140.0  3449.0          10.5   \n",
       "\n",
       "   model year  origin                   car name  \n",
       "0        70.0     1.0  chevrolet chevelle malibu  \n",
       "1        70.0     1.0          buick skylark 320  \n",
       "2        70.0     1.0         plymouth satellite  \n",
       "3        70.0     1.0              amc rebel sst  \n",
       "4        70.0     1.0                ford torino  "
      ]
     },
     "execution_count": 23,
     "metadata": {},
     "output_type": "execute_result"
    }
   ],
   "source": [
    "url=\"https://archive.ics.uci.edu/ml/machine-learning-databases/auto-mpg/auto-mpg.data-original\"\n",
    "fields = ['mpg','cylinders','displacement','horse power','weight','acceleration','model year','origin', 'car name']\n",
    "car=pd.read_csv(url, sep = '\\s+', names = fields)\n",
    "myData = car.copy()\n",
    "del car['origin']\n",
    "del car['car name']\n",
    "myData.head()"
   ]
  },
  {
   "cell_type": "markdown",
   "metadata": {},
   "source": [
    "D'après le fichier descriptif les données manquantes sont notées \"NA\":"
   ]
  },
  {
   "cell_type": "code",
   "execution_count": 25,
   "metadata": {},
   "outputs": [
    {
     "name": "stdout",
     "output_type": "stream",
     "text": [
      "Il y a 14 valeurs manquantes\n"
     ]
    }
   ],
   "source": [
    "print(\"Il y a \" + str(car.isnull().sum().sum()) + \" valeurs manquantes\")"
   ]
  },
  {
   "cell_type": "markdown",
   "metadata": {},
   "source": [
    "On supprime les données manquantes:"
   ]
  },
  {
   "cell_type": "code",
   "execution_count": 26,
   "metadata": {},
   "outputs": [
    {
     "name": "stdout",
     "output_type": "stream",
     "text": [
      "Il y a 0 valeurs manquantes\n"
     ]
    }
   ],
   "source": [
    "car = car.dropna(how='any') \n",
    "print(\"Il y a \" + str(car.isnull().sum().sum()) + \" valeurs manquantes\")"
   ]
  },
  {
   "cell_type": "markdown",
   "metadata": {},
   "source": [
    "# Question 12"
   ]
  },
  {
   "cell_type": "code",
   "execution_count": 27,
   "metadata": {},
   "outputs": [
    {
     "name": "stdout",
     "output_type": "stream",
     "text": [
      "\n",
      "L'estimation de θ0 est : 30.7716953656\n",
      "L'estimation de θ1 est : \n",
      "                     Pour cylinders: 0.0\n",
      "                     Pour displacement: 0.0540884756683\n",
      "                     Pour horse power: -0.094530596162\n",
      "                     Pour weight: -0.00424073670631\n",
      "                     Pour acceleration: -0.199367012686\n",
      "                     Pour model year: 0.0\n"
     ]
    }
   ],
   "source": [
    "donnees = car[0:9]\n",
    "X = donnees[['cylinders','displacement','horse power','weight','acceleration','model year']].values.reshape(len(donnees['cylinders']),6)\n",
    "lm = LinearRegression()\n",
    "lm.fit(X,donnees.mpg)\n",
    "print(\"\\nL'estimation de θ0 est : \" + str(lm.intercept_) + \"\\nL'estimation de θ1 est : \")\n",
    "for i in range(6):\n",
    "    print(\"                     Pour \"+fields[i+1]+\": \"+str(lm.coef_[i]))"
   ]
  },
  {
   "cell_type": "markdown",
   "metadata": {},
   "source": [
    "On remarque que les coefficients des variables Cylinders et Model Year sont nuls. En effet, dans les 9 premieres lignes de notre dataframe, les valeurs de cylinders et model year sont similaires et ne sont donc pas responsables de la différence de consommation des véhicules."
   ]
  },
  {
   "cell_type": "code",
   "execution_count": 29,
   "metadata": {},
   "outputs": [
    {
     "name": "stderr",
     "output_type": "stream",
     "text": [
      "/home/antoine/anaconda3/lib/python3.6/site-packages/ipykernel_launcher.py:9: SettingWithCopyWarning: \n",
      "A value is trying to be set on a copy of a slice from a DataFrame.\n",
      "Try using .loc[row_indexer,col_indexer] = value instead\n",
      "\n",
      "See the caveats in the documentation: http://pandas.pydata.org/pandas-docs/stable/indexing.html#indexing-view-versus-copy\n",
      "  if __name__ == '__main__':\n"
     ]
    },
    {
     "data": {
      "text/html": [
       "<div>\n",
       "<style>\n",
       "    .dataframe thead tr:only-child th {\n",
       "        text-align: right;\n",
       "    }\n",
       "\n",
       "    .dataframe thead th {\n",
       "        text-align: left;\n",
       "    }\n",
       "\n",
       "    .dataframe tbody tr th {\n",
       "        vertical-align: top;\n",
       "    }\n",
       "</style>\n",
       "<table border=\"1\" class=\"dataframe\">\n",
       "  <thead>\n",
       "    <tr style=\"text-align: right;\">\n",
       "      <th></th>\n",
       "      <th>mpg</th>\n",
       "      <th>cylinders</th>\n",
       "      <th>displacement</th>\n",
       "      <th>horse power</th>\n",
       "      <th>weight</th>\n",
       "      <th>acceleration</th>\n",
       "      <th>model year</th>\n",
       "      <th>Estimatedmpg</th>\n",
       "    </tr>\n",
       "  </thead>\n",
       "  <tbody>\n",
       "    <tr>\n",
       "      <th>0</th>\n",
       "      <td>18.0</td>\n",
       "      <td>8.0</td>\n",
       "      <td>307.0</td>\n",
       "      <td>130.0</td>\n",
       "      <td>3504.0</td>\n",
       "      <td>12.0</td>\n",
       "      <td>70.0</td>\n",
       "      <td>17.835934</td>\n",
       "    </tr>\n",
       "    <tr>\n",
       "      <th>1</th>\n",
       "      <td>15.0</td>\n",
       "      <td>8.0</td>\n",
       "      <td>350.0</td>\n",
       "      <td>165.0</td>\n",
       "      <td>3693.0</td>\n",
       "      <td>11.5</td>\n",
       "      <td>70.0</td>\n",
       "      <td>16.151352</td>\n",
       "    </tr>\n",
       "    <tr>\n",
       "      <th>2</th>\n",
       "      <td>18.0</td>\n",
       "      <td>8.0</td>\n",
       "      <td>318.0</td>\n",
       "      <td>150.0</td>\n",
       "      <td>3436.0</td>\n",
       "      <td>11.0</td>\n",
       "      <td>70.0</td>\n",
       "      <td>17.028033</td>\n",
       "    </tr>\n",
       "    <tr>\n",
       "      <th>3</th>\n",
       "      <td>16.0</td>\n",
       "      <td>8.0</td>\n",
       "      <td>304.0</td>\n",
       "      <td>150.0</td>\n",
       "      <td>3433.0</td>\n",
       "      <td>12.0</td>\n",
       "      <td>70.0</td>\n",
       "      <td>16.084149</td>\n",
       "    </tr>\n",
       "    <tr>\n",
       "      <th>4</th>\n",
       "      <td>17.0</td>\n",
       "      <td>8.0</td>\n",
       "      <td>302.0</td>\n",
       "      <td>140.0</td>\n",
       "      <td>3449.0</td>\n",
       "      <td>10.5</td>\n",
       "      <td>70.0</td>\n",
       "      <td>17.152477</td>\n",
       "    </tr>\n",
       "    <tr>\n",
       "      <th>5</th>\n",
       "      <td>15.0</td>\n",
       "      <td>8.0</td>\n",
       "      <td>429.0</td>\n",
       "      <td>198.0</td>\n",
       "      <td>4341.0</td>\n",
       "      <td>10.0</td>\n",
       "      <td>70.0</td>\n",
       "      <td>14.855885</td>\n",
       "    </tr>\n",
       "    <tr>\n",
       "      <th>6</th>\n",
       "      <td>14.0</td>\n",
       "      <td>8.0</td>\n",
       "      <td>454.0</td>\n",
       "      <td>220.0</td>\n",
       "      <td>4354.0</td>\n",
       "      <td>9.0</td>\n",
       "      <td>70.0</td>\n",
       "      <td>14.272661</td>\n",
       "    </tr>\n",
       "    <tr>\n",
       "      <th>7</th>\n",
       "      <td>14.0</td>\n",
       "      <td>8.0</td>\n",
       "      <td>440.0</td>\n",
       "      <td>215.0</td>\n",
       "      <td>4312.0</td>\n",
       "      <td>8.5</td>\n",
       "      <td>70.0</td>\n",
       "      <td>14.265870</td>\n",
       "    </tr>\n",
       "    <tr>\n",
       "      <th>8</th>\n",
       "      <td>14.0</td>\n",
       "      <td>8.0</td>\n",
       "      <td>455.0</td>\n",
       "      <td>225.0</td>\n",
       "      <td>4425.0</td>\n",
       "      <td>10.0</td>\n",
       "      <td>70.0</td>\n",
       "      <td>13.353638</td>\n",
       "    </tr>\n",
       "  </tbody>\n",
       "</table>\n",
       "</div>"
      ],
      "text/plain": [
       "    mpg  cylinders  displacement  horse power  weight  acceleration  \\\n",
       "0  18.0        8.0         307.0        130.0  3504.0          12.0   \n",
       "1  15.0        8.0         350.0        165.0  3693.0          11.5   \n",
       "2  18.0        8.0         318.0        150.0  3436.0          11.0   \n",
       "3  16.0        8.0         304.0        150.0  3433.0          12.0   \n",
       "4  17.0        8.0         302.0        140.0  3449.0          10.5   \n",
       "5  15.0        8.0         429.0        198.0  4341.0          10.0   \n",
       "6  14.0        8.0         454.0        220.0  4354.0           9.0   \n",
       "7  14.0        8.0         440.0        215.0  4312.0           8.5   \n",
       "8  14.0        8.0         455.0        225.0  4425.0          10.0   \n",
       "\n",
       "   model year  Estimatedmpg  \n",
       "0        70.0     17.835934  \n",
       "1        70.0     16.151352  \n",
       "2        70.0     17.028033  \n",
       "3        70.0     16.084149  \n",
       "4        70.0     17.152477  \n",
       "5        70.0     14.855885  \n",
       "6        70.0     14.272661  \n",
       "7        70.0     14.265870  \n",
       "8        70.0     13.353638  "
      ]
     },
     "execution_count": 29,
     "metadata": {},
     "output_type": "execute_result"
    }
   ],
   "source": [
    "beta0 = lm.intercept_\n",
    "beta1 = lm.coef_\n",
    "def multiplylist(beta0,df,l1,l2):\n",
    "    p=beta0\n",
    "    for i in range(len(l2)):\n",
    "        p = p + df[l1[i]]*l2[i]\n",
    "        #p = p + df.loc[df[l1[i]]]*l2[i]\n",
    "    return p\n",
    "donnees['Estimatedmpg']=multiplylist(beta0,donnees,fields[1:7],beta1)\n",
    "donnees"
   ]
  },
  {
   "cell_type": "markdown",
   "metadata": {},
   "source": [
    "# Question 13"
   ]
  },
  {
   "cell_type": "code",
   "execution_count": 30,
   "metadata": {},
   "outputs": [
    {
     "name": "stdout",
     "output_type": "stream",
     "text": [
      "\n",
      "L'estimation de θ0 est : 5.30249932075e-16\n",
      "L'estimation de θ1 est : \n",
      "                     Pour cylinders : -0.0720906557912\n",
      "                     Pour displacement : 0.102946946027\n",
      "                     Pour horse power : -0.00193000839604\n",
      "                     Pour weight : -0.739443986449\n",
      "                     Pour acceleration : 0.030141841854\n",
      "                     Pour model year : 0.355567398949\n"
     ]
    }
   ],
   "source": [
    "x = car.values #returns a numpy array\n",
    "scaler = preprocessing.StandardScaler()\n",
    "x_scaled = scaler.fit_transform(x)\n",
    "df = pd.DataFrame(x_scaled, columns =['mpg','cylinders','displacement','horse power','weight','acceleration','model year'])\n",
    "X = df[['cylinders','displacement','horse power','weight','acceleration','model year']].values.reshape(len(df['cylinders']),6)\n",
    "lm = LinearRegression()\n",
    "lm.fit(X,df.mpg)\n",
    "print(\"\\nL'estimation de θ0 est : \" + str(lm.intercept_) + \"\\nL'estimation de θ1 est : \")\n",
    "for i in range(6):\n",
    "    print(\"                     Pour \"+fields[i+1]+\" : \"+str(lm.coef_[i]))\n",
    "beta0new = lm.intercept_\n",
    "beta1new = lm.coef_\n",
    "df['Estimatedmpg']=multiplylist(beta0new,df,fields[1:7],beta1new)"
   ]
  },
  {
   "cell_type": "markdown",
   "metadata": {},
   "source": [
    "Données réduites et centrées:"
   ]
  },
  {
   "cell_type": "code",
   "execution_count": 21,
   "metadata": {},
   "outputs": [
    {
     "data": {
      "text/html": [
       "<div>\n",
       "<style>\n",
       "    .dataframe thead tr:only-child th {\n",
       "        text-align: right;\n",
       "    }\n",
       "\n",
       "    .dataframe thead th {\n",
       "        text-align: left;\n",
       "    }\n",
       "\n",
       "    .dataframe tbody tr th {\n",
       "        vertical-align: top;\n",
       "    }\n",
       "</style>\n",
       "<table border=\"1\" class=\"dataframe\">\n",
       "  <thead>\n",
       "    <tr style=\"text-align: right;\">\n",
       "      <th></th>\n",
       "      <th>mpg</th>\n",
       "      <th>cylinders</th>\n",
       "      <th>displacement</th>\n",
       "      <th>horse power</th>\n",
       "      <th>weight</th>\n",
       "      <th>acceleration</th>\n",
       "      <th>model year</th>\n",
       "      <th>Estimatedmpg</th>\n",
       "    </tr>\n",
       "  </thead>\n",
       "  <tbody>\n",
       "    <tr>\n",
       "      <th>0</th>\n",
       "      <td>-0.698638</td>\n",
       "      <td>1.483947</td>\n",
       "      <td>1.077290</td>\n",
       "      <td>0.664133</td>\n",
       "      <td>0.620540</td>\n",
       "      <td>-1.285258</td>\n",
       "      <td>-1.625315</td>\n",
       "      <td>-1.072861</td>\n",
       "    </tr>\n",
       "    <tr>\n",
       "      <th>1</th>\n",
       "      <td>-1.083498</td>\n",
       "      <td>1.483947</td>\n",
       "      <td>1.488732</td>\n",
       "      <td>1.574594</td>\n",
       "      <td>0.843334</td>\n",
       "      <td>-1.466724</td>\n",
       "      <td>-1.625315</td>\n",
       "      <td>-1.202474</td>\n",
       "    </tr>\n",
       "    <tr>\n",
       "      <th>2</th>\n",
       "      <td>-0.698638</td>\n",
       "      <td>1.483947</td>\n",
       "      <td>1.182542</td>\n",
       "      <td>1.184397</td>\n",
       "      <td>0.540382</td>\n",
       "      <td>-1.648189</td>\n",
       "      <td>-1.625315</td>\n",
       "      <td>-1.014696</td>\n",
       "    </tr>\n",
       "    <tr>\n",
       "      <th>3</th>\n",
       "      <td>-0.955212</td>\n",
       "      <td>1.483947</td>\n",
       "      <td>1.048584</td>\n",
       "      <td>1.184397</td>\n",
       "      <td>0.536845</td>\n",
       "      <td>-1.285258</td>\n",
       "      <td>-1.625315</td>\n",
       "      <td>-1.014932</td>\n",
       "    </tr>\n",
       "    <tr>\n",
       "      <th>4</th>\n",
       "      <td>-0.826925</td>\n",
       "      <td>1.483947</td>\n",
       "      <td>1.029447</td>\n",
       "      <td>0.924265</td>\n",
       "      <td>0.555706</td>\n",
       "      <td>-1.829655</td>\n",
       "      <td>-1.625315</td>\n",
       "      <td>-1.046756</td>\n",
       "    </tr>\n",
       "  </tbody>\n",
       "</table>\n",
       "</div>"
      ],
      "text/plain": [
       "        mpg  cylinders  displacement  horse power    weight  acceleration  \\\n",
       "0 -0.698638   1.483947      1.077290     0.664133  0.620540     -1.285258   \n",
       "1 -1.083498   1.483947      1.488732     1.574594  0.843334     -1.466724   \n",
       "2 -0.698638   1.483947      1.182542     1.184397  0.540382     -1.648189   \n",
       "3 -0.955212   1.483947      1.048584     1.184397  0.536845     -1.285258   \n",
       "4 -0.826925   1.483947      1.029447     0.924265  0.555706     -1.829655   \n",
       "\n",
       "   model year  Estimatedmpg  \n",
       "0   -1.625315     -1.072861  \n",
       "1   -1.625315     -1.202474  \n",
       "2   -1.625315     -1.014696  \n",
       "3   -1.625315     -1.014932  \n",
       "4   -1.625315     -1.046756  "
      ]
     },
     "execution_count": 21,
     "metadata": {},
     "output_type": "execute_result"
    }
   ],
   "source": [
    "df.head()"
   ]
  },
  {
   "cell_type": "markdown",
   "metadata": {},
   "source": [
    "Les variables qui expliquent le plus la consommation d'un véhicule sont Weight et Model Year"
   ]
  },
  {
   "cell_type": "markdown",
   "metadata": {},
   "source": [
    "# Question 14"
   ]
  },
  {
   "cell_type": "code",
   "execution_count": 22,
   "metadata": {
    "collapsed": true
   },
   "outputs": [],
   "source": [
    "df['RESIDUS'] = df['mpg'] - df['Estimatedmpg']\n",
    "normResidus = np.linalg.norm(df['RESIDUS'])**2\n",
    "normResidusDivise = normResidus/(len(car['mpg'])-6)"
   ]
  },
  {
   "cell_type": "code",
   "execution_count": 23,
   "metadata": {},
   "outputs": [
    {
     "name": "stdout",
     "output_type": "stream",
     "text": [
      "La norme vaut : 74.772\n",
      "La norme divisée vaut : 0.194\n"
     ]
    }
   ],
   "source": [
    "print(\"La norme vaut : \" + str(round(normResidus,3)))\n",
    "print(\"La norme divisée vaut : \" + str(round(normResidusDivise,3)))"
   ]
  },
  {
   "cell_type": "code",
   "execution_count": 24,
   "metadata": {},
   "outputs": [
    {
     "name": "stdout",
     "output_type": "stream",
     "text": [
      "Les deux membres sont-ils égaux? True\n"
     ]
    }
   ],
   "source": [
    "df['Difference'] = df['mpg'] - df['mpg'].mean()\n",
    "membreGauche = np.linalg.norm(df['Difference'])**2\n",
    "df['DifferenceBis'] = df['Estimatedmpg'] - df['mpg'].mean()\n",
    "membreDroite = np.linalg.norm(df['DifferenceBis'])**2 + normResidus\n",
    "print(\"Les deux membres sont-ils égaux? \" + str(np.isclose(membreGauche, membreDroite, atol=0.1)))"
   ]
  },
  {
   "cell_type": "markdown",
   "metadata": {},
   "source": [
    "# Question 15"
   ]
  },
  {
   "cell_type": "markdown",
   "metadata": {},
   "source": [
    "On doit centrer et réduire les données avec les même echelles. On utilise donc le même Standard scaler qu'a la question 13. "
   ]
  },
  {
   "cell_type": "code",
   "execution_count": 25,
   "metadata": {},
   "outputs": [
    {
     "name": "stdout",
     "output_type": "stream",
     "text": [
      "On prédit une consommation égale à 21.78 mpg. \n",
      "C'est une valeur très proche de celle mesurée sur ce même exemple qui était de 22 mpg.\n"
     ]
    }
   ],
   "source": [
    "dataToScale = [[0,6,225,100,3233,15.4,76]]\n",
    "scaledData = scaler.transform(dataToScale)\n",
    "consommation = beta0new + scaledData[0,1]*beta1new[0] + scaledData[0,2] * beta1new[1] + scaledData[0,3]*beta1new[2] + scaledData[0,4]*beta1new[3] + scaledData[0,5] * beta1new[4] + scaledData[0,6]*beta1new[5]\n",
    "prediction = consommation * scaler.scale_[0] + scaler.mean_[0]\n",
    "print(\"On prédit une consommation égale à \"+str(round(prediction,2))+\" mpg. \\nC'est une valeur très proche de celle mesurée sur ce même exemple qui était de 22 mpg.\")"
   ]
  },
  {
   "cell_type": "markdown",
   "metadata": {},
   "source": [
    "# Question 16"
   ]
  },
  {
   "cell_type": "code",
   "execution_count": 31,
   "metadata": {
    "collapsed": true
   },
   "outputs": [],
   "source": [
    "model = Pipeline([('poly', PolynomialFeatures(degree=2,interaction_only = False)),\n",
    "                ('linear', LinearRegression(fit_intercept=False))])\n",
    "x = car[['cylinders','displacement', 'horse power', 'weight', 'acceleration', 'model year']].values\n",
    "y = car.mpg.values\n",
    "model = model.fit(x, y)"
   ]
  },
  {
   "cell_type": "code",
   "execution_count": 27,
   "metadata": {},
   "outputs": [
    {
     "data": {
      "text/plain": [
       "LinearRegression(copy_X=True, fit_intercept=True, n_jobs=1, normalize=False)"
      ]
     },
     "execution_count": 27,
     "metadata": {},
     "output_type": "execute_result"
    }
   ],
   "source": [
    "scaler2 = preprocessing.StandardScaler()\n",
    "values_scaled = car.values\n",
    "x_scaled = scaler2.fit_transform(values_scaled)\n",
    "df1 = pd.DataFrame(x_scaled, columns =['mpg','cylinders','displacement','horse power','weight','acceleration','model year'])\n",
    "X1 = df1[['cylinders','displacement','horse power','weight','acceleration','model year']].values.reshape(len(df1['cylinders']),6)\n",
    "lm = LinearRegression()\n",
    "lm.fit(X1,df1.mpg)"
   ]
  },
  {
   "cell_type": "markdown",
   "metadata": {},
   "source": [
    "Création des nouvelles variables :"
   ]
  },
  {
   "cell_type": "code",
   "execution_count": 28,
   "metadata": {},
   "outputs": [
    {
     "data": {
      "text/html": [
       "<div>\n",
       "<style>\n",
       "    .dataframe thead tr:only-child th {\n",
       "        text-align: right;\n",
       "    }\n",
       "\n",
       "    .dataframe thead th {\n",
       "        text-align: left;\n",
       "    }\n",
       "\n",
       "    .dataframe tbody tr th {\n",
       "        vertical-align: top;\n",
       "    }\n",
       "</style>\n",
       "<table border=\"1\" class=\"dataframe\">\n",
       "  <thead>\n",
       "    <tr style=\"text-align: right;\">\n",
       "      <th></th>\n",
       "      <th>mpg</th>\n",
       "      <th>cylinders</th>\n",
       "      <th>displacement</th>\n",
       "      <th>horse power</th>\n",
       "      <th>weight</th>\n",
       "      <th>acceleration</th>\n",
       "      <th>model year</th>\n",
       "      <th>cylinders**2</th>\n",
       "      <th>cylinders*displacement</th>\n",
       "      <th>cylinders*horse power</th>\n",
       "      <th>...</th>\n",
       "      <th>horse power**2</th>\n",
       "      <th>horse power*weight</th>\n",
       "      <th>horse power*acceleration</th>\n",
       "      <th>horse power*model year</th>\n",
       "      <th>weight**2</th>\n",
       "      <th>weight*acceleration</th>\n",
       "      <th>weight*model year</th>\n",
       "      <th>acceleration**2</th>\n",
       "      <th>acceleration*model year</th>\n",
       "      <th>model year**2</th>\n",
       "    </tr>\n",
       "  </thead>\n",
       "  <tbody>\n",
       "    <tr>\n",
       "      <th>0</th>\n",
       "      <td>18.0</td>\n",
       "      <td>8.0</td>\n",
       "      <td>307.0</td>\n",
       "      <td>130.0</td>\n",
       "      <td>3504.0</td>\n",
       "      <td>12.0</td>\n",
       "      <td>70.0</td>\n",
       "      <td>64.0</td>\n",
       "      <td>2456.0</td>\n",
       "      <td>1040.0</td>\n",
       "      <td>...</td>\n",
       "      <td>16900.0</td>\n",
       "      <td>455520.0</td>\n",
       "      <td>1560.0</td>\n",
       "      <td>9100.0</td>\n",
       "      <td>12278016.0</td>\n",
       "      <td>42048.0</td>\n",
       "      <td>245280.0</td>\n",
       "      <td>144.00</td>\n",
       "      <td>840.0</td>\n",
       "      <td>4900.0</td>\n",
       "    </tr>\n",
       "    <tr>\n",
       "      <th>1</th>\n",
       "      <td>15.0</td>\n",
       "      <td>8.0</td>\n",
       "      <td>350.0</td>\n",
       "      <td>165.0</td>\n",
       "      <td>3693.0</td>\n",
       "      <td>11.5</td>\n",
       "      <td>70.0</td>\n",
       "      <td>64.0</td>\n",
       "      <td>2800.0</td>\n",
       "      <td>1320.0</td>\n",
       "      <td>...</td>\n",
       "      <td>27225.0</td>\n",
       "      <td>609345.0</td>\n",
       "      <td>1897.5</td>\n",
       "      <td>11550.0</td>\n",
       "      <td>13638249.0</td>\n",
       "      <td>42469.5</td>\n",
       "      <td>258510.0</td>\n",
       "      <td>132.25</td>\n",
       "      <td>805.0</td>\n",
       "      <td>4900.0</td>\n",
       "    </tr>\n",
       "    <tr>\n",
       "      <th>2</th>\n",
       "      <td>18.0</td>\n",
       "      <td>8.0</td>\n",
       "      <td>318.0</td>\n",
       "      <td>150.0</td>\n",
       "      <td>3436.0</td>\n",
       "      <td>11.0</td>\n",
       "      <td>70.0</td>\n",
       "      <td>64.0</td>\n",
       "      <td>2544.0</td>\n",
       "      <td>1200.0</td>\n",
       "      <td>...</td>\n",
       "      <td>22500.0</td>\n",
       "      <td>515400.0</td>\n",
       "      <td>1650.0</td>\n",
       "      <td>10500.0</td>\n",
       "      <td>11806096.0</td>\n",
       "      <td>37796.0</td>\n",
       "      <td>240520.0</td>\n",
       "      <td>121.00</td>\n",
       "      <td>770.0</td>\n",
       "      <td>4900.0</td>\n",
       "    </tr>\n",
       "    <tr>\n",
       "      <th>3</th>\n",
       "      <td>16.0</td>\n",
       "      <td>8.0</td>\n",
       "      <td>304.0</td>\n",
       "      <td>150.0</td>\n",
       "      <td>3433.0</td>\n",
       "      <td>12.0</td>\n",
       "      <td>70.0</td>\n",
       "      <td>64.0</td>\n",
       "      <td>2432.0</td>\n",
       "      <td>1200.0</td>\n",
       "      <td>...</td>\n",
       "      <td>22500.0</td>\n",
       "      <td>514950.0</td>\n",
       "      <td>1800.0</td>\n",
       "      <td>10500.0</td>\n",
       "      <td>11785489.0</td>\n",
       "      <td>41196.0</td>\n",
       "      <td>240310.0</td>\n",
       "      <td>144.00</td>\n",
       "      <td>840.0</td>\n",
       "      <td>4900.0</td>\n",
       "    </tr>\n",
       "    <tr>\n",
       "      <th>4</th>\n",
       "      <td>17.0</td>\n",
       "      <td>8.0</td>\n",
       "      <td>302.0</td>\n",
       "      <td>140.0</td>\n",
       "      <td>3449.0</td>\n",
       "      <td>10.5</td>\n",
       "      <td>70.0</td>\n",
       "      <td>64.0</td>\n",
       "      <td>2416.0</td>\n",
       "      <td>1120.0</td>\n",
       "      <td>...</td>\n",
       "      <td>19600.0</td>\n",
       "      <td>482860.0</td>\n",
       "      <td>1470.0</td>\n",
       "      <td>9800.0</td>\n",
       "      <td>11895601.0</td>\n",
       "      <td>36214.5</td>\n",
       "      <td>241430.0</td>\n",
       "      <td>110.25</td>\n",
       "      <td>735.0</td>\n",
       "      <td>4900.0</td>\n",
       "    </tr>\n",
       "  </tbody>\n",
       "</table>\n",
       "<p>5 rows × 28 columns</p>\n",
       "</div>"
      ],
      "text/plain": [
       "    mpg  cylinders  displacement  horse power  weight  acceleration  \\\n",
       "0  18.0        8.0         307.0        130.0  3504.0          12.0   \n",
       "1  15.0        8.0         350.0        165.0  3693.0          11.5   \n",
       "2  18.0        8.0         318.0        150.0  3436.0          11.0   \n",
       "3  16.0        8.0         304.0        150.0  3433.0          12.0   \n",
       "4  17.0        8.0         302.0        140.0  3449.0          10.5   \n",
       "\n",
       "   model year  cylinders**2  cylinders*displacement  cylinders*horse power  \\\n",
       "0        70.0          64.0                  2456.0                 1040.0   \n",
       "1        70.0          64.0                  2800.0                 1320.0   \n",
       "2        70.0          64.0                  2544.0                 1200.0   \n",
       "3        70.0          64.0                  2432.0                 1200.0   \n",
       "4        70.0          64.0                  2416.0                 1120.0   \n",
       "\n",
       "       ...        horse power**2  horse power*weight  \\\n",
       "0      ...               16900.0            455520.0   \n",
       "1      ...               27225.0            609345.0   \n",
       "2      ...               22500.0            515400.0   \n",
       "3      ...               22500.0            514950.0   \n",
       "4      ...               19600.0            482860.0   \n",
       "\n",
       "   horse power*acceleration  horse power*model year   weight**2  \\\n",
       "0                    1560.0                  9100.0  12278016.0   \n",
       "1                    1897.5                 11550.0  13638249.0   \n",
       "2                    1650.0                 10500.0  11806096.0   \n",
       "3                    1800.0                 10500.0  11785489.0   \n",
       "4                    1470.0                  9800.0  11895601.0   \n",
       "\n",
       "   weight*acceleration  weight*model year  acceleration**2  \\\n",
       "0              42048.0           245280.0           144.00   \n",
       "1              42469.5           258510.0           132.25   \n",
       "2              37796.0           240520.0           121.00   \n",
       "3              41196.0           240310.0           144.00   \n",
       "4              36214.5           241430.0           110.25   \n",
       "\n",
       "   acceleration*model year  model year**2  \n",
       "0                    840.0         4900.0  \n",
       "1                    805.0         4900.0  \n",
       "2                    770.0         4900.0  \n",
       "3                    840.0         4900.0  \n",
       "4                    735.0         4900.0  \n",
       "\n",
       "[5 rows x 28 columns]"
      ]
     },
     "execution_count": 28,
     "metadata": {},
     "output_type": "execute_result"
    }
   ],
   "source": [
    "powers=model.named_steps['poly'].powers_\n",
    "carspl=car\n",
    "variables=fields[1:7]\n",
    "\n",
    "def mydot(arr,lis):\n",
    "    l=[]\n",
    "    for i in range(len(arr)):\n",
    "        if arr[i]!=0:\n",
    "            l.append((arr[i],lis[i]))\n",
    "    return l\n",
    "\n",
    "def newvariables(df,variables):\n",
    "    for p in powers:\n",
    "        new_variable=mydot(p,variables)\n",
    "        if len(new_variable)==2:\n",
    "            df[new_variable[0][1]+'*'+new_variable[1][1]]=df[new_variable[0][1]]*df[new_variable[1][1]]\n",
    "        if len(new_variable)==1 and new_variable[0][0]==2:\n",
    "            df[new_variable[0][1]+'**2']=df[new_variable[0][1]]**2\n",
    "\n",
    "newvariablescars = car.copy()\n",
    "newvariables(newvariablescars,variables)\n",
    "newvariablescars.head()"
   ]
  },
  {
   "cell_type": "code",
   "execution_count": 29,
   "metadata": {},
   "outputs": [
    {
     "name": "stdout",
     "output_type": "stream",
     "text": [
      "\n",
      "L'estimation de θ0 est : -1.45248012678e-15\n",
      "L'estimation de θ1 est : \n",
      "                     Pour cylinders : 1.71180205561\n",
      "                     Pour displacement : -6.21342258773\n",
      "                     Pour horse power : 0.661211906639\n",
      "                     Pour weight : 2.24128468234\n",
      "                     Pour acceleration : -2.05909314366\n",
      "                     Pour model year : -3.44847856348\n",
      "                     Pour cylinders**2 : -1.04359447967\n",
      "                     Pour cylinders*displacement : -0.378107817847\n",
      "                     Pour cylinders*horse power : 1.53324849483\n",
      "                     Pour cylinders*weight : 0.684713690083\n",
      "                     Pour cylinders*acceleration : 0.625613561203\n",
      "                     Pour cylinders*model year : -2.08199948766\n",
      "                     Pour displacement**2 : 0.166732976352\n",
      "                     Pour displacement*horse power : 0.433615374157\n",
      "                     Pour displacement*weight : 0.66769862031\n",
      "                     Pour displacement*acceleration : -0.422481731156\n",
      "                     Pour displacement*model year : 5.604112619\n",
      "                     Pour horse power**2 : -0.460769026653\n",
      "                     Pour horse power*weight : -0.78911220309\n",
      "                     Pour horse power*acceleration : -0.306188817772\n",
      "                     Pour horse power*model year : -0.622263219474\n",
      "                     Pour weight**2 : 0.40515861762\n",
      "                     Pour weight*acceleration : 0.108939594742\n",
      "                     Pour weight*model year : -3.22205455298\n",
      "                     Pour acceleration**2 : 0.255808077187\n",
      "                     Pour acceleration*model year : 1.7849302547\n",
      "                     Pour model year**2 : 3.82916435114\n"
     ]
    }
   ],
   "source": [
    "scaledData = newvariablescars.values #returns a numpy array\n",
    "scaler3 = preprocessing.StandardScaler()\n",
    "x_scaled = scaler3.fit_transform(scaledData)\n",
    "\n",
    "\n",
    "df2 = pd.DataFrame(x_scaled, columns =['mpg','cylinders', 'displacement','horsepower','weight', 'acceleration','model year', 'cylinders**2','cylinders*displacement','cylinders*horsepower','cylinders*weight','cylinders*acceleration','cylinders*model year','displacement**2','displacement*horsepower','displacement*weight','displacement*acceleration','displacement*model year','horsepower**2','horsepower*weight','horsepower*acceleration','horsepower*model year','weight**2','weight*acceleration','weight*model year','acceleration**2','acceleration*model year','model year**2'])\n",
    "X2 = df2[['cylinders', 'displacement','horsepower','weight', 'acceleration','model year', 'cylinders**2','cylinders*displacement','cylinders*horsepower','cylinders*weight','cylinders*acceleration','cylinders*model year','displacement**2','displacement*horsepower','displacement*weight','displacement*acceleration','displacement*model year','horsepower**2','horsepower*weight','horsepower*acceleration','horsepower*model year','weight**2','weight*acceleration','weight*model year','acceleration**2','acceleration*model year','model year**2']].values\n",
    "                  \n",
    "lm = LinearRegression()\n",
    "lm.fit(X2,df2.mpg)\n",
    "print(\"\\nL'estimation de θ0 est : \" + str(lm.intercept_) + \"\\nL'estimation de θ1 est : \")\n",
    "for i in range(len(newvariablescars.columns)-1):\n",
    "    print(\"                     Pour \"+newvariablescars.columns[i+1]+\" : \"+str(lm.coef_[i]))"
   ]
  },
  {
   "cell_type": "markdown",
   "metadata": {},
   "source": [
    "La variable la plus importante est Displacement"
   ]
  },
  {
   "cell_type": "markdown",
   "metadata": {},
   "source": [
    "# Question 17"
   ]
  },
  {
   "cell_type": "code",
   "execution_count": 30,
   "metadata": {},
   "outputs": [
    {
     "data": {
      "text/html": [
       "<div>\n",
       "<style>\n",
       "    .dataframe thead tr:only-child th {\n",
       "        text-align: right;\n",
       "    }\n",
       "\n",
       "    .dataframe thead th {\n",
       "        text-align: left;\n",
       "    }\n",
       "\n",
       "    .dataframe tbody tr th {\n",
       "        vertical-align: top;\n",
       "    }\n",
       "</style>\n",
       "<table border=\"1\" class=\"dataframe\">\n",
       "  <thead>\n",
       "    <tr style=\"text-align: right;\">\n",
       "      <th></th>\n",
       "      <th>mpg</th>\n",
       "      <th>cylinders</th>\n",
       "      <th>displacement</th>\n",
       "      <th>horse power</th>\n",
       "      <th>weight</th>\n",
       "      <th>acceleration</th>\n",
       "      <th>model year</th>\n",
       "      <th>1.0</th>\n",
       "      <th>2.0</th>\n",
       "      <th>3.0</th>\n",
       "    </tr>\n",
       "  </thead>\n",
       "  <tbody>\n",
       "    <tr>\n",
       "      <th>0</th>\n",
       "      <td>18.0</td>\n",
       "      <td>8.0</td>\n",
       "      <td>307.0</td>\n",
       "      <td>130.0</td>\n",
       "      <td>3504.0</td>\n",
       "      <td>12.0</td>\n",
       "      <td>70.0</td>\n",
       "      <td>1</td>\n",
       "      <td>0</td>\n",
       "      <td>0</td>\n",
       "    </tr>\n",
       "    <tr>\n",
       "      <th>1</th>\n",
       "      <td>15.0</td>\n",
       "      <td>8.0</td>\n",
       "      <td>350.0</td>\n",
       "      <td>165.0</td>\n",
       "      <td>3693.0</td>\n",
       "      <td>11.5</td>\n",
       "      <td>70.0</td>\n",
       "      <td>1</td>\n",
       "      <td>0</td>\n",
       "      <td>0</td>\n",
       "    </tr>\n",
       "    <tr>\n",
       "      <th>2</th>\n",
       "      <td>18.0</td>\n",
       "      <td>8.0</td>\n",
       "      <td>318.0</td>\n",
       "      <td>150.0</td>\n",
       "      <td>3436.0</td>\n",
       "      <td>11.0</td>\n",
       "      <td>70.0</td>\n",
       "      <td>1</td>\n",
       "      <td>0</td>\n",
       "      <td>0</td>\n",
       "    </tr>\n",
       "    <tr>\n",
       "      <th>3</th>\n",
       "      <td>16.0</td>\n",
       "      <td>8.0</td>\n",
       "      <td>304.0</td>\n",
       "      <td>150.0</td>\n",
       "      <td>3433.0</td>\n",
       "      <td>12.0</td>\n",
       "      <td>70.0</td>\n",
       "      <td>1</td>\n",
       "      <td>0</td>\n",
       "      <td>0</td>\n",
       "    </tr>\n",
       "    <tr>\n",
       "      <th>4</th>\n",
       "      <td>17.0</td>\n",
       "      <td>8.0</td>\n",
       "      <td>302.0</td>\n",
       "      <td>140.0</td>\n",
       "      <td>3449.0</td>\n",
       "      <td>10.5</td>\n",
       "      <td>70.0</td>\n",
       "      <td>1</td>\n",
       "      <td>0</td>\n",
       "      <td>0</td>\n",
       "    </tr>\n",
       "  </tbody>\n",
       "</table>\n",
       "</div>"
      ],
      "text/plain": [
       "    mpg  cylinders  displacement  horse power  weight  acceleration  \\\n",
       "0  18.0        8.0         307.0        130.0  3504.0          12.0   \n",
       "1  15.0        8.0         350.0        165.0  3693.0          11.5   \n",
       "2  18.0        8.0         318.0        150.0  3436.0          11.0   \n",
       "3  16.0        8.0         304.0        150.0  3433.0          12.0   \n",
       "4  17.0        8.0         302.0        140.0  3449.0          10.5   \n",
       "\n",
       "   model year  1.0  2.0  3.0  \n",
       "0        70.0    1    0    0  \n",
       "1        70.0    1    0    0  \n",
       "2        70.0    1    0    0  \n",
       "3        70.0    1    0    0  \n",
       "4        70.0    1    0    0  "
      ]
     },
     "execution_count": 30,
     "metadata": {},
     "output_type": "execute_result"
    }
   ],
   "source": [
    "# Create a set of dummy variables from the origin variable\n",
    "myData_origin = pd.get_dummies(myData['origin'])\n",
    "\n",
    "# Join the dummy variables to the main dataframe\n",
    "myData1 = pd.concat([car, myData_origin], axis=1)\n",
    "myData1.head()"
   ]
  },
  {
   "cell_type": "code",
   "execution_count": 31,
   "metadata": {},
   "outputs": [
    {
     "name": "stdout",
     "output_type": "stream",
     "text": [
      "0.0\n",
      "[ -4.89709424e-01   2.39786440e-02  -1.81834640e-02  -6.71038413e-03\n",
      "   7.91030360e-02   7.77026939e-01  -1.79546021e+01  -1.53245997e+01\n",
      "  -1.51013738e+01]\n"
     ]
    }
   ],
   "source": [
    "myData1 = myData1.dropna(how='any') \n",
    "X3 = myData1.drop(['mpg'], axis = 1)                 \n",
    "lm2 = LinearRegression(fit_intercept=False)\n",
    "lm2.fit(X3,myData1['mpg'])\n",
    "print(lm2.intercept_)\n",
    "print(lm2.coef_)"
   ]
  },
  {
   "cell_type": "markdown",
   "metadata": {},
   "source": [
    "L'origine la plus efficace est la 1 (celle des USA) car elle a le coefficient la valeur la plus basse."
   ]
  },
  {
   "cell_type": "markdown",
   "metadata": {},
   "source": [
    "# Question 18"
   ]
  },
  {
   "cell_type": "markdown",
   "metadata": {},
   "source": [
    "Certaines marques sont mal orthographiées. On ne souhaite pas que notre modèle différencie 'chevroelt' de 'chevrolet' par exemple. On doit donc corriger les noms des modèles avant de pouvoir utiliser getDummies. "
   ]
  },
  {
   "cell_type": "code",
   "execution_count": 32,
   "metadata": {
    "collapsed": true
   },
   "outputs": [],
   "source": [
    "def replacement(x):\n",
    "    if x in ['chevroelt','chevy']:\n",
    "        x = str.replace(x,x,'chevrolet')\n",
    "    elif x in ['vokswagen','vw']:\n",
    "        x = str.replace(x,x,'volkswagen')\n",
    "    elif x in ['toyouta']:\n",
    "        x = str.replace(x,x,'toyota')\n",
    "    elif x in ['maxda']:\n",
    "        x = str.replace(x,x,'mazda')\n",
    "    elif x in ['mercedes-benz']:\n",
    "        x = str.replace(x,x,'mercedes')\n",
    "    return x\n",
    "        \n",
    "myData['car name'] = myData['car name'].apply(lambda x : replacement(x) )"
   ]
  },
  {
   "cell_type": "markdown",
   "metadata": {},
   "source": [
    "Transformation de la variable catégorielle 'Origin' en numérique.\n",
    "On ne garde que le premier mot pour décrire la marque du véhicule"
   ]
  },
  {
   "cell_type": "code",
   "execution_count": 46,
   "metadata": {},
   "outputs": [
    {
     "data": {
      "text/plain": [
       "LinearRegression(copy_X=True, fit_intercept=False, n_jobs=1, normalize=False)"
      ]
     },
     "execution_count": 46,
     "metadata": {},
     "output_type": "execute_result"
    }
   ],
   "source": [
    "dummiesbrand = pd.get_dummies(myData['car name'])\n",
    "carsbrand=car.join(dummiesbrand)\n",
    "#dummiesbrand.columns.get_values\n",
    "x=carsbrand.drop(['mpg'],axis=1)\n",
    "y=carsbrand['mpg']\n",
    "lm4 = linear_model.LinearRegression(fit_intercept=False)\n",
    "lm4.fit(x,y)"
   ]
  },
  {
   "cell_type": "markdown",
   "metadata": {},
   "source": [
    "C'est la marque Amc qui consomme le moins, c'est cohérent avec le résultat que nous avions obtenu à la question 17 qui suppose que les modèles américains consomment moins."
   ]
  },
  {
   "cell_type": "markdown",
   "metadata": {},
   "source": [
    "# Question 19"
   ]
  },
  {
   "cell_type": "code",
   "execution_count": 34,
   "metadata": {
    "collapsed": true
   },
   "outputs": [],
   "source": [
    "df=df.drop(['Estimatedmpg', 'RESIDUS', 'Difference','DifferenceBis'],axis=1)"
   ]
  },
  {
   "cell_type": "code",
   "execution_count": 35,
   "metadata": {
    "collapsed": true
   },
   "outputs": [],
   "source": [
    "U, s, V = np.linalg.svd(df, full_matrices=False)"
   ]
  },
  {
   "cell_type": "code",
   "execution_count": 36,
   "metadata": {},
   "outputs": [
    {
     "name": "stdout",
     "output_type": "stream",
     "text": [
      "Ls matrices H et matriceChapeau sont-elles égales? True\n"
     ]
    }
   ],
   "source": [
    "H = np.dot(U,U.T)\n",
    "matriceChapeau = np.dot(df,np.linalg.pinv(df))\n",
    "print(\"Ls matrices H et matriceChapeau sont-elles égales? \" + str(np.allclose(H,matriceChapeau)))"
   ]
  },
  {
   "cell_type": "markdown",
   "metadata": {},
   "source": [
    "Comme H est egal a la matrice Chapeau XX^+, H est un projecteur sur l'espace des colonnes de X"
   ]
  },
  {
   "cell_type": "markdown",
   "metadata": {},
   "source": [
    "# Question 20"
   ]
  },
  {
   "cell_type": "markdown",
   "metadata": {},
   "source": [
    "Insertion de la colonne 'Leviers' et tri selon les valeurs de celle-ci:"
   ]
  },
  {
   "cell_type": "code",
   "execution_count": 37,
   "metadata": {
    "collapsed": true
   },
   "outputs": [],
   "source": [
    "dfLeviers = df.join(pd.DataFrame(np.diag(H), columns = ['leviers']))"
   ]
  },
  {
   "cell_type": "code",
   "execution_count": 38,
   "metadata": {},
   "outputs": [
    {
     "data": {
      "text/html": [
       "<div>\n",
       "<style>\n",
       "    .dataframe thead tr:only-child th {\n",
       "        text-align: right;\n",
       "    }\n",
       "\n",
       "    .dataframe thead th {\n",
       "        text-align: left;\n",
       "    }\n",
       "\n",
       "    .dataframe tbody tr th {\n",
       "        vertical-align: top;\n",
       "    }\n",
       "</style>\n",
       "<table border=\"1\" class=\"dataframe\">\n",
       "  <thead>\n",
       "    <tr style=\"text-align: right;\">\n",
       "      <th></th>\n",
       "      <th>mpg</th>\n",
       "      <th>cylinders</th>\n",
       "      <th>displacement</th>\n",
       "      <th>horse power</th>\n",
       "      <th>weight</th>\n",
       "      <th>acceleration</th>\n",
       "      <th>model year</th>\n",
       "      <th>leviers</th>\n",
       "    </tr>\n",
       "  </thead>\n",
       "  <tbody>\n",
       "    <tr>\n",
       "      <th>13</th>\n",
       "      <td>-1.211785</td>\n",
       "      <td>1.483947</td>\n",
       "      <td>2.493416</td>\n",
       "      <td>3.135386</td>\n",
       "      <td>0.127801</td>\n",
       "      <td>-2.011120</td>\n",
       "      <td>-1.625315</td>\n",
       "      <td>0.192540</td>\n",
       "    </tr>\n",
       "    <tr>\n",
       "      <th>28</th>\n",
       "      <td>-1.853218</td>\n",
       "      <td>1.483947</td>\n",
       "      <td>1.048584</td>\n",
       "      <td>2.302964</td>\n",
       "      <td>2.068110</td>\n",
       "      <td>1.073795</td>\n",
       "      <td>-1.625315</td>\n",
       "      <td>0.085476</td>\n",
       "    </tr>\n",
       "    <tr>\n",
       "      <th>388</th>\n",
       "      <td>2.636813</td>\n",
       "      <td>-0.864014</td>\n",
       "      <td>-0.932079</td>\n",
       "      <td>-1.364896</td>\n",
       "      <td>-0.999134</td>\n",
       "      <td>3.287676</td>\n",
       "      <td>1.636410</td>\n",
       "      <td>0.067325</td>\n",
       "    </tr>\n",
       "    <tr>\n",
       "      <th>8</th>\n",
       "      <td>-1.211785</td>\n",
       "      <td>1.483947</td>\n",
       "      <td>2.493416</td>\n",
       "      <td>3.135386</td>\n",
       "      <td>1.706218</td>\n",
       "      <td>-2.011120</td>\n",
       "      <td>-1.625315</td>\n",
       "      <td>0.063147</td>\n",
       "    </tr>\n",
       "    <tr>\n",
       "      <th>26</th>\n",
       "      <td>-1.724931</td>\n",
       "      <td>1.483947</td>\n",
       "      <td>1.077290</td>\n",
       "      <td>2.485056</td>\n",
       "      <td>1.648456</td>\n",
       "      <td>-0.196464</td>\n",
       "      <td>-1.625315</td>\n",
       "      <td>0.061632</td>\n",
       "    </tr>\n",
       "  </tbody>\n",
       "</table>\n",
       "</div>"
      ],
      "text/plain": [
       "          mpg  cylinders  displacement  horse power    weight  acceleration  \\\n",
       "13  -1.211785   1.483947      2.493416     3.135386  0.127801     -2.011120   \n",
       "28  -1.853218   1.483947      1.048584     2.302964  2.068110      1.073795   \n",
       "388  2.636813  -0.864014     -0.932079    -1.364896 -0.999134      3.287676   \n",
       "8   -1.211785   1.483947      2.493416     3.135386  1.706218     -2.011120   \n",
       "26  -1.724931   1.483947      1.077290     2.485056  1.648456     -0.196464   \n",
       "\n",
       "     model year   leviers  \n",
       "13    -1.625315  0.192540  \n",
       "28    -1.625315  0.085476  \n",
       "388    1.636410  0.067325  \n",
       "8     -1.625315  0.063147  \n",
       "26    -1.625315  0.061632  "
      ]
     },
     "execution_count": 38,
     "metadata": {},
     "output_type": "execute_result"
    }
   ],
   "source": [
    "dfLeviers = dfLeviers.sort_values(['leviers'], ascending = False)\n",
    "dfLeviers.head()"
   ]
  },
  {
   "cell_type": "markdown",
   "metadata": {},
   "source": [
    "Les 3 premiers indexes sont [13, 28, 388]"
   ]
  },
  {
   "cell_type": "markdown",
   "metadata": {},
   "source": [
    "On applique le facteur de centrage et de réduction inverse à nos données:"
   ]
  },
  {
   "cell_type": "code",
   "execution_count": 39,
   "metadata": {
    "collapsed": true
   },
   "outputs": [],
   "source": [
    "newData = scaler.inverse_transform(df)"
   ]
  },
  {
   "cell_type": "code",
   "execution_count": 40,
   "metadata": {},
   "outputs": [
    {
     "data": {
      "text/html": [
       "<div>\n",
       "<style>\n",
       "    .dataframe thead tr:only-child th {\n",
       "        text-align: right;\n",
       "    }\n",
       "\n",
       "    .dataframe thead th {\n",
       "        text-align: left;\n",
       "    }\n",
       "\n",
       "    .dataframe tbody tr th {\n",
       "        vertical-align: top;\n",
       "    }\n",
       "</style>\n",
       "<table border=\"1\" class=\"dataframe\">\n",
       "  <thead>\n",
       "    <tr style=\"text-align: right;\">\n",
       "      <th></th>\n",
       "      <th>mpg</th>\n",
       "      <th>cylinders</th>\n",
       "      <th>displacement</th>\n",
       "      <th>horse power</th>\n",
       "      <th>weight</th>\n",
       "      <th>acceleration</th>\n",
       "      <th>model year</th>\n",
       "    </tr>\n",
       "  </thead>\n",
       "  <tbody>\n",
       "    <tr>\n",
       "      <th>13</th>\n",
       "      <td>14.0</td>\n",
       "      <td>8.0</td>\n",
       "      <td>455.0</td>\n",
       "      <td>225.0</td>\n",
       "      <td>3086.0</td>\n",
       "      <td>10.0</td>\n",
       "      <td>70.0</td>\n",
       "    </tr>\n",
       "    <tr>\n",
       "      <th>28</th>\n",
       "      <td>9.0</td>\n",
       "      <td>8.0</td>\n",
       "      <td>304.0</td>\n",
       "      <td>193.0</td>\n",
       "      <td>4732.0</td>\n",
       "      <td>18.5</td>\n",
       "      <td>70.0</td>\n",
       "    </tr>\n",
       "    <tr>\n",
       "      <th>388</th>\n",
       "      <td>44.0</td>\n",
       "      <td>4.0</td>\n",
       "      <td>97.0</td>\n",
       "      <td>52.0</td>\n",
       "      <td>2130.0</td>\n",
       "      <td>24.6</td>\n",
       "      <td>82.0</td>\n",
       "    </tr>\n",
       "  </tbody>\n",
       "</table>\n",
       "</div>"
      ],
      "text/plain": [
       "      mpg  cylinders  displacement  horse power  weight  acceleration  \\\n",
       "13   14.0        8.0         455.0        225.0  3086.0          10.0   \n",
       "28    9.0        8.0         304.0        193.0  4732.0          18.5   \n",
       "388  44.0        4.0          97.0         52.0  2130.0          24.6   \n",
       "\n",
       "     model year  \n",
       "13         70.0  \n",
       "28         70.0  \n",
       "388        82.0  "
      ]
     },
     "execution_count": 40,
     "metadata": {},
     "output_type": "execute_result"
    }
   ],
   "source": [
    "newData = pd.DataFrame(newData,columns =['mpg','cylinders','displacement','horse power','weight','acceleration','model year'])\n",
    "newData.loc[[13,28,388]]"
   ]
  },
  {
   "cell_type": "markdown",
   "metadata": {},
   "source": [
    "Les 3 valeurs de levier maximales semblent atypiques car dans les questions précédentes nous avions dit que les meilleures variables explicatives étaient \"Displacement\" et 'Weight'.\n",
    "Autrement dit plus 'Displacement' et 'Weight' sont élevés, plus la valeur 'mpg' risque de l'être également.\n",
    "Or ici nous avons par exemple pour le '28' un faible 'mpg' mais avec des valeurs élevées de 'Displacement' et de 'Weight'."
   ]
  },
  {
   "cell_type": "code",
   "execution_count": null,
   "metadata": {
    "collapsed": true
   },
   "outputs": [],
   "source": []
  }
 ],
 "metadata": {
  "kernelspec": {
   "display_name": "Python 3",
   "language": "python",
   "name": "python3"
  },
  "language_info": {
   "codemirror_mode": {
    "name": "ipython",
    "version": 3
   },
   "file_extension": ".py",
   "mimetype": "text/x-python",
   "name": "python",
   "nbconvert_exporter": "python",
   "pygments_lexer": "ipython3",
   "version": "3.6.1"
  }
 },
 "nbformat": 4,
 "nbformat_minor": 2
}
